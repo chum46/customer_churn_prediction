{
 "cells": [
  {
   "cell_type": "markdown",
   "metadata": {},
   "source": [
    "# Model Iterations\n",
    "\n",
    "In this notebook I continue to iterate on my FMS and explore class imbalance and regularisation. "
   ]
  },
  {
   "cell_type": "code",
   "execution_count": 92,
   "metadata": {},
   "outputs": [],
   "source": [
    "# imports \n",
    "\n",
    "import pandas as pd\n",
    "import numpy as np\n",
    "import matplotlib.pyplot as plt\n",
    "import seaborn as sns\n",
    "sns.set_style('darkgrid')\n",
    "%matplotlib inline\n",
    "\n",
    "from sklearn.model_selection import train_test_split, cross_val_score, GridSearchCV\n",
    "from sklearn.metrics import accuracy_score, recall_score, confusion_matrix, classification_report, roc_curve, auc\n",
    "from sklearn.tree import DecisionTreeClassifier\n",
    "from sklearn.ensemble import BaggingClassifier, RandomForestClassifier, AdaBoostClassifier, GradientBoostingClassifier\n",
    "from sklearn.preprocessing import StandardScaler, MinMaxScaler\n",
    "\n",
    "# variable for file path from this directory\n",
    "to_data = '../../../data/'"
   ]
  },
  {
   "cell_type": "code",
   "execution_count": 20,
   "metadata": {},
   "outputs": [
    {
     "data": {
      "text/html": [
       "<div>\n",
       "<style scoped>\n",
       "    .dataframe tbody tr th:only-of-type {\n",
       "        vertical-align: middle;\n",
       "    }\n",
       "\n",
       "    .dataframe tbody tr th {\n",
       "        vertical-align: top;\n",
       "    }\n",
       "\n",
       "    .dataframe thead th {\n",
       "        text-align: right;\n",
       "    }\n",
       "</style>\n",
       "<table border=\"1\" class=\"dataframe\">\n",
       "  <thead>\n",
       "    <tr style=\"text-align: right;\">\n",
       "      <th></th>\n",
       "      <th>state</th>\n",
       "      <th>account_length</th>\n",
       "      <th>area_code</th>\n",
       "      <th>international_plan</th>\n",
       "      <th>voice_mail_plan</th>\n",
       "      <th>number_vmail_messages</th>\n",
       "      <th>total_day_minutes</th>\n",
       "      <th>total_day_calls</th>\n",
       "      <th>total_day_charge</th>\n",
       "      <th>total_eve_minutes</th>\n",
       "      <th>total_eve_calls</th>\n",
       "      <th>total_eve_charge</th>\n",
       "      <th>total_night_minutes</th>\n",
       "      <th>total_night_calls</th>\n",
       "      <th>total_night_charge</th>\n",
       "      <th>total_intl_minutes</th>\n",
       "      <th>total_intl_calls</th>\n",
       "      <th>total_intl_charge</th>\n",
       "      <th>customer_service_calls</th>\n",
       "      <th>churn</th>\n",
       "    </tr>\n",
       "  </thead>\n",
       "  <tbody>\n",
       "    <tr>\n",
       "      <td>0</td>\n",
       "      <td>KS</td>\n",
       "      <td>128</td>\n",
       "      <td>415</td>\n",
       "      <td>False</td>\n",
       "      <td>True</td>\n",
       "      <td>25</td>\n",
       "      <td>265.1</td>\n",
       "      <td>110</td>\n",
       "      <td>45.07</td>\n",
       "      <td>197.4</td>\n",
       "      <td>99</td>\n",
       "      <td>16.78</td>\n",
       "      <td>244.7</td>\n",
       "      <td>91</td>\n",
       "      <td>11.01</td>\n",
       "      <td>10.0</td>\n",
       "      <td>3</td>\n",
       "      <td>2.70</td>\n",
       "      <td>1</td>\n",
       "      <td>False</td>\n",
       "    </tr>\n",
       "    <tr>\n",
       "      <td>1</td>\n",
       "      <td>OH</td>\n",
       "      <td>107</td>\n",
       "      <td>415</td>\n",
       "      <td>False</td>\n",
       "      <td>True</td>\n",
       "      <td>26</td>\n",
       "      <td>161.6</td>\n",
       "      <td>123</td>\n",
       "      <td>27.47</td>\n",
       "      <td>195.5</td>\n",
       "      <td>103</td>\n",
       "      <td>16.62</td>\n",
       "      <td>254.4</td>\n",
       "      <td>103</td>\n",
       "      <td>11.45</td>\n",
       "      <td>13.7</td>\n",
       "      <td>3</td>\n",
       "      <td>3.70</td>\n",
       "      <td>1</td>\n",
       "      <td>False</td>\n",
       "    </tr>\n",
       "    <tr>\n",
       "      <td>2</td>\n",
       "      <td>NJ</td>\n",
       "      <td>137</td>\n",
       "      <td>415</td>\n",
       "      <td>False</td>\n",
       "      <td>False</td>\n",
       "      <td>0</td>\n",
       "      <td>243.4</td>\n",
       "      <td>114</td>\n",
       "      <td>41.38</td>\n",
       "      <td>121.2</td>\n",
       "      <td>110</td>\n",
       "      <td>10.30</td>\n",
       "      <td>162.6</td>\n",
       "      <td>104</td>\n",
       "      <td>7.32</td>\n",
       "      <td>12.2</td>\n",
       "      <td>5</td>\n",
       "      <td>3.29</td>\n",
       "      <td>0</td>\n",
       "      <td>False</td>\n",
       "    </tr>\n",
       "    <tr>\n",
       "      <td>3</td>\n",
       "      <td>OH</td>\n",
       "      <td>84</td>\n",
       "      <td>408</td>\n",
       "      <td>True</td>\n",
       "      <td>False</td>\n",
       "      <td>0</td>\n",
       "      <td>299.4</td>\n",
       "      <td>71</td>\n",
       "      <td>50.90</td>\n",
       "      <td>61.9</td>\n",
       "      <td>88</td>\n",
       "      <td>5.26</td>\n",
       "      <td>196.9</td>\n",
       "      <td>89</td>\n",
       "      <td>8.86</td>\n",
       "      <td>6.6</td>\n",
       "      <td>7</td>\n",
       "      <td>1.78</td>\n",
       "      <td>2</td>\n",
       "      <td>False</td>\n",
       "    </tr>\n",
       "    <tr>\n",
       "      <td>4</td>\n",
       "      <td>OK</td>\n",
       "      <td>75</td>\n",
       "      <td>415</td>\n",
       "      <td>True</td>\n",
       "      <td>False</td>\n",
       "      <td>0</td>\n",
       "      <td>166.7</td>\n",
       "      <td>113</td>\n",
       "      <td>28.34</td>\n",
       "      <td>148.3</td>\n",
       "      <td>122</td>\n",
       "      <td>12.61</td>\n",
       "      <td>186.9</td>\n",
       "      <td>121</td>\n",
       "      <td>8.41</td>\n",
       "      <td>10.1</td>\n",
       "      <td>3</td>\n",
       "      <td>2.73</td>\n",
       "      <td>3</td>\n",
       "      <td>False</td>\n",
       "    </tr>\n",
       "  </tbody>\n",
       "</table>\n",
       "</div>"
      ],
      "text/plain": [
       "  state  account_length  area_code  international_plan  voice_mail_plan  \\\n",
       "0    KS             128        415               False             True   \n",
       "1    OH             107        415               False             True   \n",
       "2    NJ             137        415               False            False   \n",
       "3    OH              84        408                True            False   \n",
       "4    OK              75        415                True            False   \n",
       "\n",
       "   number_vmail_messages  total_day_minutes  total_day_calls  \\\n",
       "0                     25              265.1              110   \n",
       "1                     26              161.6              123   \n",
       "2                      0              243.4              114   \n",
       "3                      0              299.4               71   \n",
       "4                      0              166.7              113   \n",
       "\n",
       "   total_day_charge  total_eve_minutes  total_eve_calls  total_eve_charge  \\\n",
       "0             45.07              197.4               99             16.78   \n",
       "1             27.47              195.5              103             16.62   \n",
       "2             41.38              121.2              110             10.30   \n",
       "3             50.90               61.9               88              5.26   \n",
       "4             28.34              148.3              122             12.61   \n",
       "\n",
       "   total_night_minutes  total_night_calls  total_night_charge  \\\n",
       "0                244.7                 91               11.01   \n",
       "1                254.4                103               11.45   \n",
       "2                162.6                104                7.32   \n",
       "3                196.9                 89                8.86   \n",
       "4                186.9                121                8.41   \n",
       "\n",
       "   total_intl_minutes  total_intl_calls  total_intl_charge  \\\n",
       "0                10.0                 3               2.70   \n",
       "1                13.7                 3               3.70   \n",
       "2                12.2                 5               3.29   \n",
       "3                 6.6                 7               1.78   \n",
       "4                10.1                 3               2.73   \n",
       "\n",
       "   customer_service_calls  churn  \n",
       "0                       1  False  \n",
       "1                       1  False  \n",
       "2                       0  False  \n",
       "3                       2  False  \n",
       "4                       3  False  "
      ]
     },
     "execution_count": 20,
     "metadata": {},
     "output_type": "execute_result"
    }
   ],
   "source": [
    "# import latest \n",
    "df = pd.read_csv(to_data + 'initial_clean_lc', index_col = 0)\n",
    "df.head()"
   ]
  },
  {
   "cell_type": "code",
   "execution_count": 13,
   "metadata": {},
   "outputs": [],
   "source": [
    "df.voice_mail_plan.replace((True, False), (1, 0), inplace = True)\n",
    "df.international_plan.replace((True, False), (1, 0), inplace = True)\n",
    "df.churn.replace((True, False), (1, 0), inplace = True)"
   ]
  },
  {
   "cell_type": "code",
   "execution_count": 21,
   "metadata": {},
   "outputs": [
    {
     "data": {
      "text/plain": [
       "0    False\n",
       "1    False\n",
       "2    False\n",
       "3    False\n",
       "4    False\n",
       "Name: churn, dtype: bool"
      ]
     },
     "execution_count": 21,
     "metadata": {},
     "output_type": "execute_result"
    }
   ],
   "source": [
    "y = df.churn\n",
    "y.head()"
   ]
  },
  {
   "cell_type": "code",
   "execution_count": 22,
   "metadata": {},
   "outputs": [
    {
     "data": {
      "text/html": [
       "<div>\n",
       "<style scoped>\n",
       "    .dataframe tbody tr th:only-of-type {\n",
       "        vertical-align: middle;\n",
       "    }\n",
       "\n",
       "    .dataframe tbody tr th {\n",
       "        vertical-align: top;\n",
       "    }\n",
       "\n",
       "    .dataframe thead th {\n",
       "        text-align: right;\n",
       "    }\n",
       "</style>\n",
       "<table border=\"1\" class=\"dataframe\">\n",
       "  <thead>\n",
       "    <tr style=\"text-align: right;\">\n",
       "      <th></th>\n",
       "      <th>state</th>\n",
       "      <th>account_length</th>\n",
       "      <th>area_code</th>\n",
       "      <th>international_plan</th>\n",
       "      <th>voice_mail_plan</th>\n",
       "      <th>number_vmail_messages</th>\n",
       "      <th>total_day_minutes</th>\n",
       "      <th>total_day_calls</th>\n",
       "      <th>total_day_charge</th>\n",
       "      <th>total_eve_minutes</th>\n",
       "      <th>total_eve_calls</th>\n",
       "      <th>total_eve_charge</th>\n",
       "      <th>total_night_minutes</th>\n",
       "      <th>total_night_calls</th>\n",
       "      <th>total_night_charge</th>\n",
       "      <th>total_intl_minutes</th>\n",
       "      <th>total_intl_calls</th>\n",
       "      <th>total_intl_charge</th>\n",
       "      <th>customer_service_calls</th>\n",
       "    </tr>\n",
       "  </thead>\n",
       "  <tbody>\n",
       "    <tr>\n",
       "      <td>0</td>\n",
       "      <td>KS</td>\n",
       "      <td>128</td>\n",
       "      <td>415</td>\n",
       "      <td>False</td>\n",
       "      <td>True</td>\n",
       "      <td>25</td>\n",
       "      <td>265.1</td>\n",
       "      <td>110</td>\n",
       "      <td>45.07</td>\n",
       "      <td>197.4</td>\n",
       "      <td>99</td>\n",
       "      <td>16.78</td>\n",
       "      <td>244.7</td>\n",
       "      <td>91</td>\n",
       "      <td>11.01</td>\n",
       "      <td>10.0</td>\n",
       "      <td>3</td>\n",
       "      <td>2.70</td>\n",
       "      <td>1</td>\n",
       "    </tr>\n",
       "    <tr>\n",
       "      <td>1</td>\n",
       "      <td>OH</td>\n",
       "      <td>107</td>\n",
       "      <td>415</td>\n",
       "      <td>False</td>\n",
       "      <td>True</td>\n",
       "      <td>26</td>\n",
       "      <td>161.6</td>\n",
       "      <td>123</td>\n",
       "      <td>27.47</td>\n",
       "      <td>195.5</td>\n",
       "      <td>103</td>\n",
       "      <td>16.62</td>\n",
       "      <td>254.4</td>\n",
       "      <td>103</td>\n",
       "      <td>11.45</td>\n",
       "      <td>13.7</td>\n",
       "      <td>3</td>\n",
       "      <td>3.70</td>\n",
       "      <td>1</td>\n",
       "    </tr>\n",
       "    <tr>\n",
       "      <td>2</td>\n",
       "      <td>NJ</td>\n",
       "      <td>137</td>\n",
       "      <td>415</td>\n",
       "      <td>False</td>\n",
       "      <td>False</td>\n",
       "      <td>0</td>\n",
       "      <td>243.4</td>\n",
       "      <td>114</td>\n",
       "      <td>41.38</td>\n",
       "      <td>121.2</td>\n",
       "      <td>110</td>\n",
       "      <td>10.30</td>\n",
       "      <td>162.6</td>\n",
       "      <td>104</td>\n",
       "      <td>7.32</td>\n",
       "      <td>12.2</td>\n",
       "      <td>5</td>\n",
       "      <td>3.29</td>\n",
       "      <td>0</td>\n",
       "    </tr>\n",
       "    <tr>\n",
       "      <td>3</td>\n",
       "      <td>OH</td>\n",
       "      <td>84</td>\n",
       "      <td>408</td>\n",
       "      <td>True</td>\n",
       "      <td>False</td>\n",
       "      <td>0</td>\n",
       "      <td>299.4</td>\n",
       "      <td>71</td>\n",
       "      <td>50.90</td>\n",
       "      <td>61.9</td>\n",
       "      <td>88</td>\n",
       "      <td>5.26</td>\n",
       "      <td>196.9</td>\n",
       "      <td>89</td>\n",
       "      <td>8.86</td>\n",
       "      <td>6.6</td>\n",
       "      <td>7</td>\n",
       "      <td>1.78</td>\n",
       "      <td>2</td>\n",
       "    </tr>\n",
       "    <tr>\n",
       "      <td>4</td>\n",
       "      <td>OK</td>\n",
       "      <td>75</td>\n",
       "      <td>415</td>\n",
       "      <td>True</td>\n",
       "      <td>False</td>\n",
       "      <td>0</td>\n",
       "      <td>166.7</td>\n",
       "      <td>113</td>\n",
       "      <td>28.34</td>\n",
       "      <td>148.3</td>\n",
       "      <td>122</td>\n",
       "      <td>12.61</td>\n",
       "      <td>186.9</td>\n",
       "      <td>121</td>\n",
       "      <td>8.41</td>\n",
       "      <td>10.1</td>\n",
       "      <td>3</td>\n",
       "      <td>2.73</td>\n",
       "      <td>3</td>\n",
       "    </tr>\n",
       "  </tbody>\n",
       "</table>\n",
       "</div>"
      ],
      "text/plain": [
       "  state  account_length  area_code  international_plan  voice_mail_plan  \\\n",
       "0    KS             128        415               False             True   \n",
       "1    OH             107        415               False             True   \n",
       "2    NJ             137        415               False            False   \n",
       "3    OH              84        408                True            False   \n",
       "4    OK              75        415                True            False   \n",
       "\n",
       "   number_vmail_messages  total_day_minutes  total_day_calls  \\\n",
       "0                     25              265.1              110   \n",
       "1                     26              161.6              123   \n",
       "2                      0              243.4              114   \n",
       "3                      0              299.4               71   \n",
       "4                      0              166.7              113   \n",
       "\n",
       "   total_day_charge  total_eve_minutes  total_eve_calls  total_eve_charge  \\\n",
       "0             45.07              197.4               99             16.78   \n",
       "1             27.47              195.5              103             16.62   \n",
       "2             41.38              121.2              110             10.30   \n",
       "3             50.90               61.9               88              5.26   \n",
       "4             28.34              148.3              122             12.61   \n",
       "\n",
       "   total_night_minutes  total_night_calls  total_night_charge  \\\n",
       "0                244.7                 91               11.01   \n",
       "1                254.4                103               11.45   \n",
       "2                162.6                104                7.32   \n",
       "3                196.9                 89                8.86   \n",
       "4                186.9                121                8.41   \n",
       "\n",
       "   total_intl_minutes  total_intl_calls  total_intl_charge  \\\n",
       "0                10.0                 3               2.70   \n",
       "1                13.7                 3               3.70   \n",
       "2                12.2                 5               3.29   \n",
       "3                 6.6                 7               1.78   \n",
       "4                10.1                 3               2.73   \n",
       "\n",
       "   customer_service_calls  \n",
       "0                       1  \n",
       "1                       1  \n",
       "2                       0  \n",
       "3                       2  \n",
       "4                       3  "
      ]
     },
     "execution_count": 22,
     "metadata": {},
     "output_type": "execute_result"
    }
   ],
   "source": [
    "X = df.drop(\"churn\", axis=1)\n",
    "X.head()"
   ]
  },
  {
   "cell_type": "code",
   "execution_count": 23,
   "metadata": {},
   "outputs": [
    {
     "data": {
      "text/html": [
       "<div>\n",
       "<style scoped>\n",
       "    .dataframe tbody tr th:only-of-type {\n",
       "        vertical-align: middle;\n",
       "    }\n",
       "\n",
       "    .dataframe tbody tr th {\n",
       "        vertical-align: top;\n",
       "    }\n",
       "\n",
       "    .dataframe thead th {\n",
       "        text-align: right;\n",
       "    }\n",
       "</style>\n",
       "<table border=\"1\" class=\"dataframe\">\n",
       "  <thead>\n",
       "    <tr style=\"text-align: right;\">\n",
       "      <th></th>\n",
       "      <th>account_length</th>\n",
       "      <th>area_code</th>\n",
       "      <th>international_plan</th>\n",
       "      <th>voice_mail_plan</th>\n",
       "      <th>number_vmail_messages</th>\n",
       "      <th>total_day_minutes</th>\n",
       "      <th>total_day_calls</th>\n",
       "      <th>total_day_charge</th>\n",
       "      <th>total_eve_minutes</th>\n",
       "      <th>total_eve_calls</th>\n",
       "      <th>...</th>\n",
       "      <th>state_SD</th>\n",
       "      <th>state_TN</th>\n",
       "      <th>state_TX</th>\n",
       "      <th>state_UT</th>\n",
       "      <th>state_VA</th>\n",
       "      <th>state_VT</th>\n",
       "      <th>state_WA</th>\n",
       "      <th>state_WI</th>\n",
       "      <th>state_WV</th>\n",
       "      <th>state_WY</th>\n",
       "    </tr>\n",
       "  </thead>\n",
       "  <tbody>\n",
       "    <tr>\n",
       "      <td>0</td>\n",
       "      <td>128</td>\n",
       "      <td>415</td>\n",
       "      <td>False</td>\n",
       "      <td>True</td>\n",
       "      <td>25</td>\n",
       "      <td>265.1</td>\n",
       "      <td>110</td>\n",
       "      <td>45.07</td>\n",
       "      <td>197.4</td>\n",
       "      <td>99</td>\n",
       "      <td>...</td>\n",
       "      <td>0</td>\n",
       "      <td>0</td>\n",
       "      <td>0</td>\n",
       "      <td>0</td>\n",
       "      <td>0</td>\n",
       "      <td>0</td>\n",
       "      <td>0</td>\n",
       "      <td>0</td>\n",
       "      <td>0</td>\n",
       "      <td>0</td>\n",
       "    </tr>\n",
       "    <tr>\n",
       "      <td>1</td>\n",
       "      <td>107</td>\n",
       "      <td>415</td>\n",
       "      <td>False</td>\n",
       "      <td>True</td>\n",
       "      <td>26</td>\n",
       "      <td>161.6</td>\n",
       "      <td>123</td>\n",
       "      <td>27.47</td>\n",
       "      <td>195.5</td>\n",
       "      <td>103</td>\n",
       "      <td>...</td>\n",
       "      <td>0</td>\n",
       "      <td>0</td>\n",
       "      <td>0</td>\n",
       "      <td>0</td>\n",
       "      <td>0</td>\n",
       "      <td>0</td>\n",
       "      <td>0</td>\n",
       "      <td>0</td>\n",
       "      <td>0</td>\n",
       "      <td>0</td>\n",
       "    </tr>\n",
       "    <tr>\n",
       "      <td>2</td>\n",
       "      <td>137</td>\n",
       "      <td>415</td>\n",
       "      <td>False</td>\n",
       "      <td>False</td>\n",
       "      <td>0</td>\n",
       "      <td>243.4</td>\n",
       "      <td>114</td>\n",
       "      <td>41.38</td>\n",
       "      <td>121.2</td>\n",
       "      <td>110</td>\n",
       "      <td>...</td>\n",
       "      <td>0</td>\n",
       "      <td>0</td>\n",
       "      <td>0</td>\n",
       "      <td>0</td>\n",
       "      <td>0</td>\n",
       "      <td>0</td>\n",
       "      <td>0</td>\n",
       "      <td>0</td>\n",
       "      <td>0</td>\n",
       "      <td>0</td>\n",
       "    </tr>\n",
       "    <tr>\n",
       "      <td>3</td>\n",
       "      <td>84</td>\n",
       "      <td>408</td>\n",
       "      <td>True</td>\n",
       "      <td>False</td>\n",
       "      <td>0</td>\n",
       "      <td>299.4</td>\n",
       "      <td>71</td>\n",
       "      <td>50.90</td>\n",
       "      <td>61.9</td>\n",
       "      <td>88</td>\n",
       "      <td>...</td>\n",
       "      <td>0</td>\n",
       "      <td>0</td>\n",
       "      <td>0</td>\n",
       "      <td>0</td>\n",
       "      <td>0</td>\n",
       "      <td>0</td>\n",
       "      <td>0</td>\n",
       "      <td>0</td>\n",
       "      <td>0</td>\n",
       "      <td>0</td>\n",
       "    </tr>\n",
       "    <tr>\n",
       "      <td>4</td>\n",
       "      <td>75</td>\n",
       "      <td>415</td>\n",
       "      <td>True</td>\n",
       "      <td>False</td>\n",
       "      <td>0</td>\n",
       "      <td>166.7</td>\n",
       "      <td>113</td>\n",
       "      <td>28.34</td>\n",
       "      <td>148.3</td>\n",
       "      <td>122</td>\n",
       "      <td>...</td>\n",
       "      <td>0</td>\n",
       "      <td>0</td>\n",
       "      <td>0</td>\n",
       "      <td>0</td>\n",
       "      <td>0</td>\n",
       "      <td>0</td>\n",
       "      <td>0</td>\n",
       "      <td>0</td>\n",
       "      <td>0</td>\n",
       "      <td>0</td>\n",
       "    </tr>\n",
       "  </tbody>\n",
       "</table>\n",
       "<p>5 rows × 68 columns</p>\n",
       "</div>"
      ],
      "text/plain": [
       "   account_length  area_code  international_plan  voice_mail_plan  \\\n",
       "0             128        415               False             True   \n",
       "1             107        415               False             True   \n",
       "2             137        415               False            False   \n",
       "3              84        408                True            False   \n",
       "4              75        415                True            False   \n",
       "\n",
       "   number_vmail_messages  total_day_minutes  total_day_calls  \\\n",
       "0                     25              265.1              110   \n",
       "1                     26              161.6              123   \n",
       "2                      0              243.4              114   \n",
       "3                      0              299.4               71   \n",
       "4                      0              166.7              113   \n",
       "\n",
       "   total_day_charge  total_eve_minutes  total_eve_calls  ...  state_SD  \\\n",
       "0             45.07              197.4               99  ...         0   \n",
       "1             27.47              195.5              103  ...         0   \n",
       "2             41.38              121.2              110  ...         0   \n",
       "3             50.90               61.9               88  ...         0   \n",
       "4             28.34              148.3              122  ...         0   \n",
       "\n",
       "   state_TN  state_TX  state_UT  state_VA  state_VT  state_WA  state_WI  \\\n",
       "0         0         0         0         0         0         0         0   \n",
       "1         0         0         0         0         0         0         0   \n",
       "2         0         0         0         0         0         0         0   \n",
       "3         0         0         0         0         0         0         0   \n",
       "4         0         0         0         0         0         0         0   \n",
       "\n",
       "   state_WV  state_WY  \n",
       "0         0         0  \n",
       "1         0         0  \n",
       "2         0         0  \n",
       "3         0         0  \n",
       "4         0         0  \n",
       "\n",
       "[5 rows x 68 columns]"
      ]
     },
     "execution_count": 23,
     "metadata": {},
     "output_type": "execute_result"
    }
   ],
   "source": [
    "X = pd.get_dummies(X, drop_first = True)\n",
    "X.head()"
   ]
  },
  {
   "cell_type": "markdown",
   "metadata": {},
   "source": [
    "# First Shitty Model - base tree model:"
   ]
  },
  {
   "cell_type": "code",
   "execution_count": 104,
   "metadata": {},
   "outputs": [],
   "source": [
    "X_train, X_test, y_train, y_test = train_test_split(X, \n",
    "                                                    y, \n",
    "                                                    test_size = 0.25, \n",
    "                                                    random_state = 15)\n",
    "\n",
    "X_t, x_val, y_t, y_val = train_test_split(X_train, y_train, test_size = 0.25, random_state = 15)"
   ]
  },
  {
   "cell_type": "code",
   "execution_count": 105,
   "metadata": {},
   "outputs": [
    {
     "data": {
      "text/plain": [
       "DecisionTreeClassifier(class_weight=None, criterion='gini', max_depth=5,\n",
       "                       max_features=None, max_leaf_nodes=None,\n",
       "                       min_impurity_decrease=0.0, min_impurity_split=None,\n",
       "                       min_samples_leaf=1, min_samples_split=2,\n",
       "                       min_weight_fraction_leaf=0.0, presort=False,\n",
       "                       random_state=42, splitter='best')"
      ]
     },
     "execution_count": 105,
     "metadata": {},
     "output_type": "execute_result"
    }
   ],
   "source": [
    "# Instantiate and fit a DecisionTreeClassifier\n",
    "dtc = DecisionTreeClassifier(max_depth=5, random_state = 42)\n",
    "dtc.fit(X_train, y_train)"
   ]
  },
  {
   "cell_type": "markdown",
   "metadata": {},
   "source": [
    "#### Training Scores:"
   ]
  },
  {
   "cell_type": "code",
   "execution_count": 58,
   "metadata": {},
   "outputs": [
    {
     "name": "stdout",
     "output_type": "stream",
     "text": [
      "0.7388888888888889\n",
      "0.9559823929571829\n"
     ]
    }
   ],
   "source": [
    "print(recall_score(y_train, dtc.predict(X_train)))\n",
    "print(accuracy_score(y_train, dtc.predict(X_train)))"
   ]
  },
  {
   "cell_type": "markdown",
   "metadata": {},
   "source": [
    "#### Testing Scores:"
   ]
  },
  {
   "cell_type": "code",
   "execution_count": 59,
   "metadata": {},
   "outputs": [
    {
     "name": "stdout",
     "output_type": "stream",
     "text": [
      "0.6260162601626016\n",
      "0.9328537170263789\n"
     ]
    }
   ],
   "source": [
    "print(recall_score(y_test, dtc.predict(X_test)))\n",
    "print(accuracy_score(y_test, dtc.predict(X_test)))"
   ]
  },
  {
   "cell_type": "markdown",
   "metadata": {},
   "source": [
    "#### Check for class imbalance:"
   ]
  },
  {
   "cell_type": "code",
   "execution_count": 60,
   "metadata": {},
   "outputs": [
    {
     "data": {
      "text/plain": [
       "False    2139\n",
       "True      360\n",
       "Name: churn, dtype: int64"
      ]
     },
     "execution_count": 60,
     "metadata": {},
     "output_type": "execute_result"
    }
   ],
   "source": [
    "y_train.value_counts()"
   ]
  },
  {
   "cell_type": "markdown",
   "metadata": {},
   "source": [
    "There is definitely class imbalance issues here."
   ]
  },
  {
   "cell_type": "markdown",
   "metadata": {},
   "source": [
    "#### Check Feature Importance:"
   ]
  },
  {
   "cell_type": "code",
   "execution_count": 61,
   "metadata": {},
   "outputs": [
    {
     "data": {
      "image/png": "[encoded data removed]",
      "text/plain": [
       "<Figure size 1080x1080 with 1 Axes>"
      ]
     },
     "metadata": {
      "needs_background": "light"
     },
     "output_type": "display_data"
    }
   ],
   "source": [
    "def plot_feature_importances(model):\n",
    "    n_features = X_train.shape[1]\n",
    "    plt.figure(figsize=(15,15))\n",
    "    plt.barh(range(n_features), model.feature_importances_) \n",
    "    plt.yticks(np.arange(n_features), X_train.columns.values, fontsize = 12) \n",
    "    plt.xlabel('Feature importance')\n",
    "    plt.ylabel('Feature')\n",
    "    plt.title('Model Feature Importance', fontsize = 20)\n",
    "\n",
    "plot_feature_importances(dtc)"
   ]
  },
  {
   "cell_type": "markdown",
   "metadata": {},
   "source": [
    "## Model 2:  Random Forest Model"
   ]
  },
  {
   "cell_type": "code",
   "execution_count": 62,
   "metadata": {},
   "outputs": [
    {
     "data": {
      "text/plain": [
       "RandomForestClassifier(bootstrap=True, class_weight='balanced',\n",
       "                       criterion='gini', max_depth=10, max_features=5,\n",
       "                       max_leaf_nodes=None, min_impurity_decrease=0.0,\n",
       "                       min_impurity_split=None, min_samples_leaf=1,\n",
       "                       min_samples_split=2, min_weight_fraction_leaf=0.0,\n",
       "                       n_estimators=1000, n_jobs=None, oob_score=False,\n",
       "                       random_state=42, verbose=0, warm_start=False)"
      ]
     },
     "execution_count": 62,
     "metadata": {},
     "output_type": "execute_result"
    }
   ],
   "source": [
    "rft = RandomForestClassifier(n_estimators=1000, max_depth= 10, max_features = 5, class_weight = 'balanced', random_state = 42)\n",
    "rft.fit(X_train, y_train)"
   ]
  },
  {
   "cell_type": "code",
   "execution_count": 63,
   "metadata": {},
   "outputs": [
    {
     "data": {
      "text/plain": [
       "0.6666666666666666"
      ]
     },
     "execution_count": 63,
     "metadata": {},
     "output_type": "execute_result"
    }
   ],
   "source": [
    "recall_score(y_test, rft.predict(X_test))"
   ]
  },
  {
   "cell_type": "code",
   "execution_count": 64,
   "metadata": {},
   "outputs": [
    {
     "data": {
      "text/plain": [
       "0.8833333333333333"
      ]
     },
     "execution_count": 64,
     "metadata": {},
     "output_type": "execute_result"
    }
   ],
   "source": [
    "recall_score(y_train, rft.predict(X_train))"
   ]
  },
  {
   "cell_type": "markdown",
   "metadata": {},
   "source": [
    "## Model 3:  Balance Classes - base tree model:"
   ]
  },
  {
   "cell_type": "code",
   "execution_count": 65,
   "metadata": {},
   "outputs": [
    {
     "data": {
      "text/plain": [
       "DecisionTreeClassifier(class_weight='balanced', criterion='gini', max_depth=5,\n",
       "                       max_features=None, max_leaf_nodes=None,\n",
       "                       min_impurity_decrease=0.0, min_impurity_split=None,\n",
       "                       min_samples_leaf=1, min_samples_split=2,\n",
       "                       min_weight_fraction_leaf=0.0, presort=False,\n",
       "                       random_state=42, splitter='best')"
      ]
     },
     "execution_count": 65,
     "metadata": {},
     "output_type": "execute_result"
    }
   ],
   "source": [
    "dtc2 = DecisionTreeClassifier(max_depth=5, class_weight = 'balanced', random_state = 42)\n",
    "dtc2.fit(X_train, y_train)"
   ]
  },
  {
   "cell_type": "markdown",
   "metadata": {},
   "source": [
    "#### Training Scores:"
   ]
  },
  {
   "cell_type": "code",
   "execution_count": 66,
   "metadata": {},
   "outputs": [
    {
     "name": "stdout",
     "output_type": "stream",
     "text": [
      "0.8555555555555555\n",
      "0.9351740696278511\n"
     ]
    }
   ],
   "source": [
    "print(recall_score(y_train, dtc2.predict(X_train)))\n",
    "print(accuracy_score(y_train, dtc2.predict(X_train)))"
   ]
  },
  {
   "cell_type": "markdown",
   "metadata": {},
   "source": [
    "#### Testing Scores:"
   ]
  },
  {
   "cell_type": "code",
   "execution_count": 67,
   "metadata": {},
   "outputs": [
    {
     "name": "stdout",
     "output_type": "stream",
     "text": [
      "0.7886178861788617\n",
      "0.9232613908872902\n"
     ]
    }
   ],
   "source": [
    "print(recall_score(y_test, dtc2.predict(X_test)))\n",
    "print(accuracy_score(y_test, dtc2.predict(X_test)))"
   ]
  },
  {
   "cell_type": "markdown",
   "metadata": {},
   "source": [
    "Got better results here but this time I need to scale the data:"
   ]
  },
  {
   "cell_type": "markdown",
   "metadata": {},
   "source": [
    "## Model 4:  Scale Data with balanced classes - base tree model:"
   ]
  },
  {
   "cell_type": "code",
   "execution_count": 68,
   "metadata": {},
   "outputs": [
    {
     "data": {
      "text/plain": [
       "DecisionTreeClassifier(class_weight='balanced', criterion='gini', max_depth=5,\n",
       "                       max_features=None, max_leaf_nodes=None,\n",
       "                       min_impurity_decrease=0.0, min_impurity_split=None,\n",
       "                       min_samples_leaf=1, min_samples_split=2,\n",
       "                       min_weight_fraction_leaf=0.0, presort=False,\n",
       "                       random_state=42, splitter='best')"
      ]
     },
     "execution_count": 68,
     "metadata": {},
     "output_type": "execute_result"
    }
   ],
   "source": [
    "dtc3 = DecisionTreeClassifier(max_depth=5, class_weight = 'balanced', random_state = 42)\n",
    "ss = StandardScaler()\n",
    "ss.fit(X_train)\n",
    "\n",
    "X_train_sc = ss.transform(X_train)\n",
    "\n",
    "dtc3.fit(X_train_sc, y_train)"
   ]
  },
  {
   "cell_type": "markdown",
   "metadata": {},
   "source": [
    "#### Training Scores:"
   ]
  },
  {
   "cell_type": "code",
   "execution_count": 69,
   "metadata": {},
   "outputs": [
    {
     "name": "stdout",
     "output_type": "stream",
     "text": [
      "0.8555555555555555\n",
      "0.9351740696278511\n"
     ]
    }
   ],
   "source": [
    "print(recall_score(y_train, dtc3.predict(X_train_sc)))\n",
    "print(accuracy_score(y_train, dtc3.predict(X_train_sc)))"
   ]
  },
  {
   "cell_type": "code",
   "execution_count": 70,
   "metadata": {},
   "outputs": [
    {
     "data": {
      "text/plain": [
       "array([0.76388889, 0.80555556, 0.77777778, 0.86111111, 0.72222222])"
      ]
     },
     "execution_count": 70,
     "metadata": {},
     "output_type": "execute_result"
    }
   ],
   "source": [
    "cross_val_score(dtc3, X_train_sc, y_train, cv=5, scoring='recall')"
   ]
  },
  {
   "cell_type": "markdown",
   "metadata": {},
   "source": [
    "## Model 5:  Grid Search"
   ]
  },
  {
   "cell_type": "code",
   "execution_count": 98,
   "metadata": {},
   "outputs": [
    {
     "data": {
      "text/plain": [
       "{'class_weight': None,\n",
       " 'criterion': 'gini',\n",
       " 'max_depth': 5,\n",
       " 'min_samples_split': 5}"
      ]
     },
     "execution_count": 98,
     "metadata": {},
     "output_type": "execute_result"
    }
   ],
   "source": [
    "dtc4 = DecisionTreeClassifier(random_state = 42)\n",
    "param_grid = {\n",
    "    'criterion': ['gini', 'entropy'],\n",
    "    'max_depth': [1, 2, 5, 10],\n",
    "    'min_samples_split': [1.0, 5, 10, 20],\n",
    "    'class_weight': ['balanced', None]\n",
    "}\n",
    "\n",
    "gs_tree = GridSearchCV(dtc4, param_grid, cv=3)\n",
    "gs_tree.fit(X_train, y_train)\n",
    "\n",
    "gs_tree.best_params_"
   ]
  },
  {
   "cell_type": "markdown",
   "metadata": {},
   "source": [
    "## Model 6:  Gride search result params:"
   ]
  },
  {
   "cell_type": "code",
   "execution_count": 77,
   "metadata": {},
   "outputs": [
    {
     "data": {
      "text/plain": [
       "DecisionTreeClassifier(class_weight='balanced', criterion='gini', max_depth=5,\n",
       "                       max_features=None, max_leaf_nodes=None,\n",
       "                       min_impurity_decrease=0.0, min_impurity_split=None,\n",
       "                       min_samples_leaf=1, min_samples_split=5,\n",
       "                       min_weight_fraction_leaf=0.0, presort=False,\n",
       "                       random_state=42, splitter='best')"
      ]
     },
     "execution_count": 77,
     "metadata": {},
     "output_type": "execute_result"
    }
   ],
   "source": [
    "dtc5 = DecisionTreeClassifier(max_depth = 5, min_samples_split = 5, class_weight = 'balanced', random_state = 42)\n",
    "dtc5.fit(X_train, y_train)"
   ]
  },
  {
   "cell_type": "code",
   "execution_count": 81,
   "metadata": {},
   "outputs": [
    {
     "name": "stdout",
     "output_type": "stream",
     "text": [
      "recall train  0.8555555555555555\n",
      "accuracy train  0.9351740696278511\n",
      "recall test  0.7886178861788617\n",
      "accuracy test  0.9232613908872902\n"
     ]
    }
   ],
   "source": [
    "print('recall train ', recall_score(y_train, dtc5.predict(X_train)))\n",
    "print('accuracy train ', accuracy_score(y_train, dtc5.predict(X_train)))\n",
    "print('recall test ', recall_score(y_test, dtc5.predict(X_test)))\n",
    "print('accuracy test ', accuracy_score(y_test, dtc5.predict(X_test)))"
   ]
  },
  {
   "cell_type": "code",
   "execution_count": 82,
   "metadata": {},
   "outputs": [
    {
     "data": {
      "text/plain": [
       "array([[2029,  110],\n",
       "       [  52,  308]])"
      ]
     },
     "execution_count": 82,
     "metadata": {},
     "output_type": "execute_result"
    }
   ],
   "source": [
    "confusion_matrix(y_train, dtc5.predict(X_train))"
   ]
  },
  {
   "cell_type": "code",
   "execution_count": 83,
   "metadata": {},
   "outputs": [
    {
     "data": {
      "text/plain": [
       "array([[673,  38],\n",
       "       [ 26,  97]])"
      ]
     },
     "execution_count": 83,
     "metadata": {},
     "output_type": "execute_result"
    }
   ],
   "source": [
    "confusion_matrix(y_test, dtc5.predict(X_test))"
   ]
  },
  {
   "cell_type": "markdown",
   "metadata": {},
   "source": [
    "Still quite imbalanced..."
   ]
  },
  {
   "cell_type": "code",
   "execution_count": 89,
   "metadata": {},
   "outputs": [],
   "source": [
    "def run_model(classifier, X, y):\n",
    "    model = classifier\n",
    "    X_train, X_test, y_train, y_test = train_test_split(X, y, test_size = 0.25, random_state = 15)\n",
    "    \n",
    "    # model params\n",
    "    print(model.fit(X_train, y_train))\n",
    "    \n",
    "    # recall scores:\n",
    "    print(f\"Training recall score: {recall_score(y_train, model.predict(X_train))}\")\n",
    "    print(f\"Test recall score: {recall_score(y_test, model.predict(X_test))}\")\n",
    "    \n",
    "    #Cross val scores for recall:\n",
    "    print(f\"Cross val Score train:  {cross_val_score(model, X_train, y_train, cv=5, scoring='recall')}\")\n",
    "    print(f\"Cross val Score test:  {cross_val_score(model, X_test, y_test, cv=5, scoring='recall')}\")\n",
    "    \n",
    "    # Confusion matrix:\n",
    "    print(f\"Train: \\n{confusion_matrix(y_train, model.predict(X_train))}\")\n",
    "    print(f\"Test: \\n{confusion_matrix(y_test, model.predict(X_test))}\")"
   ]
  },
  {
   "cell_type": "code",
   "execution_count": 85,
   "metadata": {},
   "outputs": [
    {
     "name": "stdout",
     "output_type": "stream",
     "text": [
      "DecisionTreeClassifier(class_weight='balanced', criterion='gini', max_depth=5,\n",
      "                       max_features=None, max_leaf_nodes=None,\n",
      "                       min_impurity_decrease=0.0, min_impurity_split=None,\n",
      "                       min_samples_leaf=1, min_samples_split=5,\n",
      "                       min_weight_fraction_leaf=0.0, presort=False,\n",
      "                       random_state=42, splitter='best')\n",
      "Training recall score: 0.8555555555555555\n",
      "Test recall score: 0.7886178861788617\n",
      "Cross val Score train:  [0.76388889 0.80555556 0.77777778 0.86111111 0.72222222]\n",
      "Cross val Score test:  [0.76 0.64 0.8  0.75 0.75]\n",
      "Train: [[2029  110]\n",
      " [  52  308]]\n",
      "Test: [[673  38]\n",
      " [ 26  97]]\n"
     ]
    }
   ],
   "source": [
    "run_model(dtc5, X, y)"
   ]
  },
  {
   "cell_type": "markdown",
   "metadata": {},
   "source": [
    "# Model 7:  Random Forest with Grid Search"
   ]
  },
  {
   "cell_type": "code",
   "execution_count": 99,
   "metadata": {},
   "outputs": [
    {
     "data": {
      "text/plain": [
       "{'class_weight': None,\n",
       " 'max_depth': 20,\n",
       " 'max_features': 20,\n",
       " 'n_estimators': 100}"
      ]
     },
     "execution_count": 99,
     "metadata": {},
     "output_type": "execute_result"
    }
   ],
   "source": [
    "rft2 = RandomForestClassifier(random_state = 42)\n",
    "param_grid = {\n",
    "    'n_estimators': [10, 100],\n",
    "    'max_depth': [5, 10, 15, 20],\n",
    "    'max_features': [5, 10, 15, 20],\n",
    "    'class_weight': [\"balanced\", \"balanced_subsample\", None]\n",
    "}\n",
    "\n",
    "gs_tree = GridSearchCV(rft2, param_grid, cv=3)\n",
    "gs_tree.fit(X_train, y_train)\n",
    "\n",
    "gs_tree.best_params_\n"
   ]
  },
  {
   "cell_type": "code",
   "execution_count": 100,
   "metadata": {},
   "outputs": [
    {
     "data": {
      "text/plain": [
       "RandomForestClassifier(bootstrap=True, class_weight=None, criterion='gini',\n",
       "                       max_depth=20, max_features=20, max_leaf_nodes=None,\n",
       "                       min_impurity_decrease=0.0, min_impurity_split=None,\n",
       "                       min_samples_leaf=1, min_samples_split=2,\n",
       "                       min_weight_fraction_leaf=0.0, n_estimators=100,\n",
       "                       n_jobs=None, oob_score=False, random_state=42, verbose=0,\n",
       "                       warm_start=False)"
      ]
     },
     "execution_count": 100,
     "metadata": {},
     "output_type": "execute_result"
    }
   ],
   "source": [
    "gs_tree.best_estimator_"
   ]
  },
  {
   "cell_type": "code",
   "execution_count": 102,
   "metadata": {
    "collapsed": true,
    "jupyter": {
     "outputs_hidden": true
    }
   },
   "outputs": [
    {
     "data": {
      "text/plain": [
       "{'scoring': None,\n",
       " 'estimator': RandomForestClassifier(bootstrap=True, class_weight=None, criterion='gini',\n",
       "                        max_depth=None, max_features='auto', max_leaf_nodes=None,\n",
       "                        min_impurity_decrease=0.0, min_impurity_split=None,\n",
       "                        min_samples_leaf=1, min_samples_split=2,\n",
       "                        min_weight_fraction_leaf=0.0, n_estimators='warn',\n",
       "                        n_jobs=None, oob_score=False, random_state=42, verbose=0,\n",
       "                        warm_start=False),\n",
       " 'n_jobs': None,\n",
       " 'iid': 'warn',\n",
       " 'refit': True,\n",
       " 'cv': 3,\n",
       " 'verbose': 0,\n",
       " 'pre_dispatch': '2*n_jobs',\n",
       " 'error_score': 'raise-deprecating',\n",
       " 'return_train_score': False,\n",
       " 'param_grid': {'n_estimators': [10, 100],\n",
       "  'max_depth': [5, 10, 15, 20],\n",
       "  'max_features': [5, 10, 15, 20],\n",
       "  'class_weight': ['balanced', 'balanced_subsample', None]},\n",
       " 'multimetric_': False,\n",
       " 'best_index_': 95,\n",
       " 'best_score_': 0.9491796718687475,\n",
       " 'best_params_': {'class_weight': None,\n",
       "  'max_depth': 20,\n",
       "  'max_features': 20,\n",
       "  'n_estimators': 100},\n",
       " 'best_estimator_': RandomForestClassifier(bootstrap=True, class_weight=None, criterion='gini',\n",
       "                        max_depth=20, max_features=20, max_leaf_nodes=None,\n",
       "                        min_impurity_decrease=0.0, min_impurity_split=None,\n",
       "                        min_samples_leaf=1, min_samples_split=2,\n",
       "                        min_weight_fraction_leaf=0.0, n_estimators=100,\n",
       "                        n_jobs=None, oob_score=False, random_state=42, verbose=0,\n",
       "                        warm_start=False),\n",
       " 'refit_time_': 0.8101060390472412,\n",
       " 'scorer_': <function sklearn.metrics.scorer._passthrough_scorer(estimator, *args, **kwargs)>,\n",
       " 'cv_results_': {'mean_fit_time': array([0.02969344, 0.146492  , 0.02770138, 0.18513234, 0.03187641,\n",
       "         0.22672963, 0.03589026, 0.27465105, 0.02834837, 0.18902008,\n",
       "         0.03459128, 0.25984017, 0.0410943 , 0.34075483, 0.05067873,\n",
       "         0.40837638, 0.03081282, 0.21495636, 0.03786937, 0.29431931,\n",
       "         0.0432926 , 0.37036681, 0.05404909, 0.44944437, 0.03281506,\n",
       "         0.23953676, 0.05441157, 0.42332959, 0.04913306, 0.39156898,\n",
       "         0.05636748, 0.62460709, 0.03310903, 0.24676498, 0.03508162,\n",
       "         0.27895204, 0.03918076, 0.30430595, 0.04698888, 0.34563637,\n",
       "         0.03528786, 0.27706138, 0.04169035, 0.33836754, 0.05075741,\n",
       "         0.40768202, 0.05815832, 0.49197276, 0.0371863 , 0.2882959 ,\n",
       "         0.04662037, 0.36772092, 0.05013895, 0.43238473, 0.06355365,\n",
       "         0.51282001, 0.03808093, 0.30706867, 0.04584201, 0.3979853 ,\n",
       "         0.05156978, 0.44416658, 0.06137363, 0.53141562, 0.02320822,\n",
       "         0.18786462, 0.02767118, 0.18844803, 0.03071936, 0.2239747 ,\n",
       "         0.04058075, 0.27431401, 0.02861007, 0.19119088, 0.03619877,\n",
       "         0.27119795, 0.04172365, 0.3428456 , 0.05329974, 0.42220871,\n",
       "         0.03038597, 0.22251797, 0.04019499, 0.31323059, 0.04838808,\n",
       "         0.39815299, 0.05982971, 0.49285507, 0.03243327, 0.24372554,\n",
       "         0.04268432, 0.33892298, 0.05102666, 0.41908773, 0.06106353,\n",
       "         0.51373148]),\n",
       "  'std_fit_time': array([0.00555528, 0.00585712, 0.00031905, 0.00120782, 0.00179035,\n",
       "         0.00590191, 0.00035726, 0.00354423, 0.00037515, 0.00365957,\n",
       "         0.00084421, 0.00183738, 0.00097209, 0.0084767 , 0.00064375,\n",
       "         0.00178402, 0.00089638, 0.0014658 , 0.00057469, 0.01276881,\n",
       "         0.00083016, 0.00286416, 0.00091285, 0.00995243, 0.00160668,\n",
       "         0.00428345, 0.00310622, 0.08378208, 0.0027442 , 0.00863725,\n",
       "         0.00108063, 0.06945004, 0.00028645, 0.01973519, 0.00036862,\n",
       "         0.00333621, 0.00099586, 0.00665928, 0.00292731, 0.00722538,\n",
       "         0.00042233, 0.00605499, 0.0004004 , 0.00597093, 0.00150394,\n",
       "         0.00108043, 0.00138454, 0.01141416, 0.00036681, 0.00224354,\n",
       "         0.00106485, 0.00429684, 0.00101206, 0.00233743, 0.00348521,\n",
       "         0.0082947 , 0.00062133, 0.00440876, 0.00027857, 0.02657083,\n",
       "         0.00141802, 0.00648134, 0.00143211, 0.01184528, 0.00114281,\n",
       "         0.0215122 , 0.00077016, 0.00158076, 0.00068964, 0.00463464,\n",
       "         0.00523232, 0.00295347, 0.00167989, 0.00579569, 0.00153158,\n",
       "         0.00387254, 0.00025036, 0.00330152, 0.00238258, 0.00612397,\n",
       "         0.00064203, 0.00420042, 0.00044009, 0.00771145, 0.00065893,\n",
       "         0.00622134, 0.00137619, 0.01631608, 0.00068729, 0.00369828,\n",
       "         0.00074996, 0.00870542, 0.00235634, 0.01127949, 0.00120347,\n",
       "         0.0168344 ]),\n",
       "  'mean_score_time': array([0.00718689, 0.01742435, 0.00611885, 0.01710828, 0.00623258,\n",
       "         0.0171183 , 0.00639343, 0.01746837, 0.0062143 , 0.02008923,\n",
       "         0.00671442, 0.02061828, 0.00686264, 0.02100245, 0.00680685,\n",
       "         0.01997566, 0.006663  , 0.02196495, 0.00649063, 0.02209234,\n",
       "         0.0063862 , 0.02124675, 0.00689491, 0.02281133, 0.00677363,\n",
       "         0.02438188, 0.01063355, 0.02571209, 0.00803693, 0.02229293,\n",
       "         0.00696468, 0.02727803, 0.00682664, 0.01880964, 0.00637571,\n",
       "         0.01862073, 0.00686868, 0.01935204, 0.0060269 , 0.0182399 ,\n",
       "         0.00651336, 0.02146896, 0.00651614, 0.02096113, 0.00615295,\n",
       "         0.02069759, 0.00600306, 0.02026669, 0.00711107, 0.02221704,\n",
       "         0.00688807, 0.02179289, 0.0063111 , 0.02190868, 0.00790731,\n",
       "         0.02063839, 0.00697907, 0.02329334, 0.00671832, 0.02305198,\n",
       "         0.00694418, 0.0241286 , 0.00669527, 0.02458096, 0.00650175,\n",
       "         0.02556928, 0.00611432, 0.01757868, 0.00602102, 0.0184586 ,\n",
       "         0.0062716 , 0.01747346, 0.00663296, 0.02011331, 0.00642959,\n",
       "         0.02011267, 0.00663567, 0.02006531, 0.00629536, 0.01946473,\n",
       "         0.00686836, 0.02222768, 0.00639478, 0.02146498, 0.00643547,\n",
       "         0.02122005, 0.00677927, 0.02101692, 0.00674343, 0.0244867 ,\n",
       "         0.00694497, 0.02245092, 0.00625436, 0.02185829, 0.00706005,\n",
       "         0.0214568 ]),\n",
       "  'std_score_time': array([3.64783698e-04, 4.88246363e-04, 2.71231661e-04, 3.77844950e-04,\n",
       "         2.18330359e-04, 2.77117839e-04, 2.11495154e-04, 8.00384494e-04,\n",
       "         1.97660777e-04, 9.33436402e-04, 4.22950632e-04, 3.32886149e-04,\n",
       "         4.55081178e-04, 1.03810201e-03, 2.08792703e-04, 1.39970321e-04,\n",
       "         1.40638178e-04, 4.47032455e-04, 3.27955384e-04, 7.24547929e-04,\n",
       "         3.11288750e-04, 9.04518871e-04, 2.26445136e-04, 4.50814054e-04,\n",
       "         5.10340016e-04, 2.07747792e-03, 2.93823183e-03, 4.22846613e-03,\n",
       "         1.17047760e-03, 3.94156478e-04, 4.97653692e-04, 4.69207600e-03,\n",
       "         1.26808044e-03, 6.49188336e-04, 1.94515502e-04, 1.15091098e-03,\n",
       "         2.22535729e-04, 1.45452030e-03, 2.71460560e-04, 4.82467014e-04,\n",
       "         4.07526100e-04, 4.50511209e-04, 1.78781118e-04, 5.40469567e-04,\n",
       "         1.54427689e-04, 1.11270778e-03, 1.21807759e-04, 1.04302308e-04,\n",
       "         5.06678056e-04, 4.19658466e-04, 2.21454314e-04, 7.58355821e-04,\n",
       "         3.09058252e-04, 7.83784349e-04, 1.71204653e-03, 2.91219378e-04,\n",
       "         6.57380059e-04, 2.58160634e-04, 3.27146685e-04, 1.34335858e-03,\n",
       "         2.95223244e-04, 2.82155175e-03, 2.09026977e-04, 4.42948436e-03,\n",
       "         3.98697857e-04, 2.82075441e-03, 2.72833742e-04, 2.55191003e-04,\n",
       "         2.02525883e-04, 6.39122022e-04, 3.83021704e-04, 3.14776879e-04,\n",
       "         3.03682280e-04, 1.76916796e-04, 7.18721954e-04, 2.41544759e-04,\n",
       "         1.33090681e-04, 5.96220468e-04, 2.30637523e-04, 6.39263332e-04,\n",
       "         5.81643645e-04, 1.04561574e-03, 4.08114407e-04, 2.38106072e-04,\n",
       "         1.78328633e-04, 3.01379526e-04, 4.70083141e-05, 3.36158210e-04,\n",
       "         3.87564929e-04, 7.38189722e-04, 6.15389107e-04, 5.36408989e-04,\n",
       "         2.26146889e-04, 7.93829481e-04, 7.91404392e-04, 2.74172751e-04]),\n",
       "  'param_class_weight': masked_array(data=['balanced', 'balanced', 'balanced', 'balanced',\n",
       "                     'balanced', 'balanced', 'balanced', 'balanced',\n",
       "                     'balanced', 'balanced', 'balanced', 'balanced',\n",
       "                     'balanced', 'balanced', 'balanced', 'balanced',\n",
       "                     'balanced', 'balanced', 'balanced', 'balanced',\n",
       "                     'balanced', 'balanced', 'balanced', 'balanced',\n",
       "                     'balanced', 'balanced', 'balanced', 'balanced',\n",
       "                     'balanced', 'balanced', 'balanced', 'balanced',\n",
       "                     'balanced_subsample', 'balanced_subsample',\n",
       "                     'balanced_subsample', 'balanced_subsample',\n",
       "                     'balanced_subsample', 'balanced_subsample',\n",
       "                     'balanced_subsample', 'balanced_subsample',\n",
       "                     'balanced_subsample', 'balanced_subsample',\n",
       "                     'balanced_subsample', 'balanced_subsample',\n",
       "                     'balanced_subsample', 'balanced_subsample',\n",
       "                     'balanced_subsample', 'balanced_subsample',\n",
       "                     'balanced_subsample', 'balanced_subsample',\n",
       "                     'balanced_subsample', 'balanced_subsample',\n",
       "                     'balanced_subsample', 'balanced_subsample',\n",
       "                     'balanced_subsample', 'balanced_subsample',\n",
       "                     'balanced_subsample', 'balanced_subsample',\n",
       "                     'balanced_subsample', 'balanced_subsample',\n",
       "                     'balanced_subsample', 'balanced_subsample',\n",
       "                     'balanced_subsample', 'balanced_subsample', None, None,\n",
       "                     None, None, None, None, None, None, None, None, None,\n",
       "                     None, None, None, None, None, None, None, None, None,\n",
       "                     None, None, None, None, None, None, None, None, None,\n",
       "                     None, None, None],\n",
       "               mask=[False, False, False, False, False, False, False, False,\n",
       "                     False, False, False, False, False, False, False, False,\n",
       "                     False, False, False, False, False, False, False, False,\n",
       "                     False, False, False, False, False, False, False, False,\n",
       "                     False, False, False, False, False, False, False, False,\n",
       "                     False, False, False, False, False, False, False, False,\n",
       "                     False, False, False, False, False, False, False, False,\n",
       "                     False, False, False, False, False, False, False, False,\n",
       "                     False, False, False, False, False, False, False, False,\n",
       "                     False, False, False, False, False, False, False, False,\n",
       "                     False, False, False, False, False, False, False, False,\n",
       "                     False, False, False, False, False, False, False, False],\n",
       "         fill_value='?',\n",
       "              dtype=object),\n",
       "  'param_max_depth': masked_array(data=[5, 5, 5, 5, 5, 5, 5, 5, 10, 10, 10, 10, 10, 10, 10, 10,\n",
       "                     15, 15, 15, 15, 15, 15, 15, 15, 20, 20, 20, 20, 20, 20,\n",
       "                     20, 20, 5, 5, 5, 5, 5, 5, 5, 5, 10, 10, 10, 10, 10, 10,\n",
       "                     10, 10, 15, 15, 15, 15, 15, 15, 15, 15, 20, 20, 20, 20,\n",
       "                     20, 20, 20, 20, 5, 5, 5, 5, 5, 5, 5, 5, 10, 10, 10, 10,\n",
       "                     10, 10, 10, 10, 15, 15, 15, 15, 15, 15, 15, 15, 20, 20,\n",
       "                     20, 20, 20, 20, 20, 20],\n",
       "               mask=[False, False, False, False, False, False, False, False,\n",
       "                     False, False, False, False, False, False, False, False,\n",
       "                     False, False, False, False, False, False, False, False,\n",
       "                     False, False, False, False, False, False, False, False,\n",
       "                     False, False, False, False, False, False, False, False,\n",
       "                     False, False, False, False, False, False, False, False,\n",
       "                     False, False, False, False, False, False, False, False,\n",
       "                     False, False, False, False, False, False, False, False,\n",
       "                     False, False, False, False, False, False, False, False,\n",
       "                     False, False, False, False, False, False, False, False,\n",
       "                     False, False, False, False, False, False, False, False,\n",
       "                     False, False, False, False, False, False, False, False],\n",
       "         fill_value='?',\n",
       "              dtype=object),\n",
       "  'param_max_features': masked_array(data=[5, 5, 10, 10, 15, 15, 20, 20, 5, 5, 10, 10, 15, 15, 20,\n",
       "                     20, 5, 5, 10, 10, 15, 15, 20, 20, 5, 5, 10, 10, 15, 15,\n",
       "                     20, 20, 5, 5, 10, 10, 15, 15, 20, 20, 5, 5, 10, 10, 15,\n",
       "                     15, 20, 20, 5, 5, 10, 10, 15, 15, 20, 20, 5, 5, 10, 10,\n",
       "                     15, 15, 20, 20, 5, 5, 10, 10, 15, 15, 20, 20, 5, 5, 10,\n",
       "                     10, 15, 15, 20, 20, 5, 5, 10, 10, 15, 15, 20, 20, 5, 5,\n",
       "                     10, 10, 15, 15, 20, 20],\n",
       "               mask=[False, False, False, False, False, False, False, False,\n",
       "                     False, False, False, False, False, False, False, False,\n",
       "                     False, False, False, False, False, False, False, False,\n",
       "                     False, False, False, False, False, False, False, False,\n",
       "                     False, False, False, False, False, False, False, False,\n",
       "                     False, False, False, False, False, False, False, False,\n",
       "                     False, False, False, False, False, False, False, False,\n",
       "                     False, False, False, False, False, False, False, False,\n",
       "                     False, False, False, False, False, False, False, False,\n",
       "                     False, False, False, False, False, False, False, False,\n",
       "                     False, False, False, False, False, False, False, False,\n",
       "                     False, False, False, False, False, False, False, False],\n",
       "         fill_value='?',\n",
       "              dtype=object),\n",
       "  'param_n_estimators': masked_array(data=[10, 100, 10, 100, 10, 100, 10, 100, 10, 100, 10, 100,\n",
       "                     10, 100, 10, 100, 10, 100, 10, 100, 10, 100, 10, 100,\n",
       "                     10, 100, 10, 100, 10, 100, 10, 100, 10, 100, 10, 100,\n",
       "                     10, 100, 10, 100, 10, 100, 10, 100, 10, 100, 10, 100,\n",
       "                     10, 100, 10, 100, 10, 100, 10, 100, 10, 100, 10, 100,\n",
       "                     10, 100, 10, 100, 10, 100, 10, 100, 10, 100, 10, 100,\n",
       "                     10, 100, 10, 100, 10, 100, 10, 100, 10, 100, 10, 100,\n",
       "                     10, 100, 10, 100, 10, 100, 10, 100, 10, 100, 10, 100],\n",
       "               mask=[False, False, False, False, False, False, False, False,\n",
       "                     False, False, False, False, False, False, False, False,\n",
       "                     False, False, False, False, False, False, False, False,\n",
       "                     False, False, False, False, False, False, False, False,\n",
       "                     False, False, False, False, False, False, False, False,\n",
       "                     False, False, False, False, False, False, False, False,\n",
       "                     False, False, False, False, False, False, False, False,\n",
       "                     False, False, False, False, False, False, False, False,\n",
       "                     False, False, False, False, False, False, False, False,\n",
       "                     False, False, False, False, False, False, False, False,\n",
       "                     False, False, False, False, False, False, False, False,\n",
       "                     False, False, False, False, False, False, False, False],\n",
       "         fill_value='?',\n",
       "              dtype=object),\n",
       "  'params': [{'class_weight': 'balanced',\n",
       "    'max_depth': 5,\n",
       "    'max_features': 5,\n",
       "    'n_estimators': 10},\n",
       "   {'class_weight': 'balanced',\n",
       "    'max_depth': 5,\n",
       "    'max_features': 5,\n",
       "    'n_estimators': 100},\n",
       "   {'class_weight': 'balanced',\n",
       "    'max_depth': 5,\n",
       "    'max_features': 10,\n",
       "    'n_estimators': 10},\n",
       "   {'class_weight': 'balanced',\n",
       "    'max_depth': 5,\n",
       "    'max_features': 10,\n",
       "    'n_estimators': 100},\n",
       "   {'class_weight': 'balanced',\n",
       "    'max_depth': 5,\n",
       "    'max_features': 15,\n",
       "    'n_estimators': 10},\n",
       "   {'class_weight': 'balanced',\n",
       "    'max_depth': 5,\n",
       "    'max_features': 15,\n",
       "    'n_estimators': 100},\n",
       "   {'class_weight': 'balanced',\n",
       "    'max_depth': 5,\n",
       "    'max_features': 20,\n",
       "    'n_estimators': 10},\n",
       "   {'class_weight': 'balanced',\n",
       "    'max_depth': 5,\n",
       "    'max_features': 20,\n",
       "    'n_estimators': 100},\n",
       "   {'class_weight': 'balanced',\n",
       "    'max_depth': 10,\n",
       "    'max_features': 5,\n",
       "    'n_estimators': 10},\n",
       "   {'class_weight': 'balanced',\n",
       "    'max_depth': 10,\n",
       "    'max_features': 5,\n",
       "    'n_estimators': 100},\n",
       "   {'class_weight': 'balanced',\n",
       "    'max_depth': 10,\n",
       "    'max_features': 10,\n",
       "    'n_estimators': 10},\n",
       "   {'class_weight': 'balanced',\n",
       "    'max_depth': 10,\n",
       "    'max_features': 10,\n",
       "    'n_estimators': 100},\n",
       "   {'class_weight': 'balanced',\n",
       "    'max_depth': 10,\n",
       "    'max_features': 15,\n",
       "    'n_estimators': 10},\n",
       "   {'class_weight': 'balanced',\n",
       "    'max_depth': 10,\n",
       "    'max_features': 15,\n",
       "    'n_estimators': 100},\n",
       "   {'class_weight': 'balanced',\n",
       "    'max_depth': 10,\n",
       "    'max_features': 20,\n",
       "    'n_estimators': 10},\n",
       "   {'class_weight': 'balanced',\n",
       "    'max_depth': 10,\n",
       "    'max_features': 20,\n",
       "    'n_estimators': 100},\n",
       "   {'class_weight': 'balanced',\n",
       "    'max_depth': 15,\n",
       "    'max_features': 5,\n",
       "    'n_estimators': 10},\n",
       "   {'class_weight': 'balanced',\n",
       "    'max_depth': 15,\n",
       "    'max_features': 5,\n",
       "    'n_estimators': 100},\n",
       "   {'class_weight': 'balanced',\n",
       "    'max_depth': 15,\n",
       "    'max_features': 10,\n",
       "    'n_estimators': 10},\n",
       "   {'class_weight': 'balanced',\n",
       "    'max_depth': 15,\n",
       "    'max_features': 10,\n",
       "    'n_estimators': 100},\n",
       "   {'class_weight': 'balanced',\n",
       "    'max_depth': 15,\n",
       "    'max_features': 15,\n",
       "    'n_estimators': 10},\n",
       "   {'class_weight': 'balanced',\n",
       "    'max_depth': 15,\n",
       "    'max_features': 15,\n",
       "    'n_estimators': 100},\n",
       "   {'class_weight': 'balanced',\n",
       "    'max_depth': 15,\n",
       "    'max_features': 20,\n",
       "    'n_estimators': 10},\n",
       "   {'class_weight': 'balanced',\n",
       "    'max_depth': 15,\n",
       "    'max_features': 20,\n",
       "    'n_estimators': 100},\n",
       "   {'class_weight': 'balanced',\n",
       "    'max_depth': 20,\n",
       "    'max_features': 5,\n",
       "    'n_estimators': 10},\n",
       "   {'class_weight': 'balanced',\n",
       "    'max_depth': 20,\n",
       "    'max_features': 5,\n",
       "    'n_estimators': 100},\n",
       "   {'class_weight': 'balanced',\n",
       "    'max_depth': 20,\n",
       "    'max_features': 10,\n",
       "    'n_estimators': 10},\n",
       "   {'class_weight': 'balanced',\n",
       "    'max_depth': 20,\n",
       "    'max_features': 10,\n",
       "    'n_estimators': 100},\n",
       "   {'class_weight': 'balanced',\n",
       "    'max_depth': 20,\n",
       "    'max_features': 15,\n",
       "    'n_estimators': 10},\n",
       "   {'class_weight': 'balanced',\n",
       "    'max_depth': 20,\n",
       "    'max_features': 15,\n",
       "    'n_estimators': 100},\n",
       "   {'class_weight': 'balanced',\n",
       "    'max_depth': 20,\n",
       "    'max_features': 20,\n",
       "    'n_estimators': 10},\n",
       "   {'class_weight': 'balanced',\n",
       "    'max_depth': 20,\n",
       "    'max_features': 20,\n",
       "    'n_estimators': 100},\n",
       "   {'class_weight': 'balanced_subsample',\n",
       "    'max_depth': 5,\n",
       "    'max_features': 5,\n",
       "    'n_estimators': 10},\n",
       "   {'class_weight': 'balanced_subsample',\n",
       "    'max_depth': 5,\n",
       "    'max_features': 5,\n",
       "    'n_estimators': 100},\n",
       "   {'class_weight': 'balanced_subsample',\n",
       "    'max_depth': 5,\n",
       "    'max_features': 10,\n",
       "    'n_estimators': 10},\n",
       "   {'class_weight': 'balanced_subsample',\n",
       "    'max_depth': 5,\n",
       "    'max_features': 10,\n",
       "    'n_estimators': 100},\n",
       "   {'class_weight': 'balanced_subsample',\n",
       "    'max_depth': 5,\n",
       "    'max_features': 15,\n",
       "    'n_estimators': 10},\n",
       "   {'class_weight': 'balanced_subsample',\n",
       "    'max_depth': 5,\n",
       "    'max_features': 15,\n",
       "    'n_estimators': 100},\n",
       "   {'class_weight': 'balanced_subsample',\n",
       "    'max_depth': 5,\n",
       "    'max_features': 20,\n",
       "    'n_estimators': 10},\n",
       "   {'class_weight': 'balanced_subsample',\n",
       "    'max_depth': 5,\n",
       "    'max_features': 20,\n",
       "    'n_estimators': 100},\n",
       "   {'class_weight': 'balanced_subsample',\n",
       "    'max_depth': 10,\n",
       "    'max_features': 5,\n",
       "    'n_estimators': 10},\n",
       "   {'class_weight': 'balanced_subsample',\n",
       "    'max_depth': 10,\n",
       "    'max_features': 5,\n",
       "    'n_estimators': 100},\n",
       "   {'class_weight': 'balanced_subsample',\n",
       "    'max_depth': 10,\n",
       "    'max_features': 10,\n",
       "    'n_estimators': 10},\n",
       "   {'class_weight': 'balanced_subsample',\n",
       "    'max_depth': 10,\n",
       "    'max_features': 10,\n",
       "    'n_estimators': 100},\n",
       "   {'class_weight': 'balanced_subsample',\n",
       "    'max_depth': 10,\n",
       "    'max_features': 15,\n",
       "    'n_estimators': 10},\n",
       "   {'class_weight': 'balanced_subsample',\n",
       "    'max_depth': 10,\n",
       "    'max_features': 15,\n",
       "    'n_estimators': 100},\n",
       "   {'class_weight': 'balanced_subsample',\n",
       "    'max_depth': 10,\n",
       "    'max_features': 20,\n",
       "    'n_estimators': 10},\n",
       "   {'class_weight': 'balanced_subsample',\n",
       "    'max_depth': 10,\n",
       "    'max_features': 20,\n",
       "    'n_estimators': 100},\n",
       "   {'class_weight': 'balanced_subsample',\n",
       "    'max_depth': 15,\n",
       "    'max_features': 5,\n",
       "    'n_estimators': 10},\n",
       "   {'class_weight': 'balanced_subsample',\n",
       "    'max_depth': 15,\n",
       "    'max_features': 5,\n",
       "    'n_estimators': 100},\n",
       "   {'class_weight': 'balanced_subsample',\n",
       "    'max_depth': 15,\n",
       "    'max_features': 10,\n",
       "    'n_estimators': 10},\n",
       "   {'class_weight': 'balanced_subsample',\n",
       "    'max_depth': 15,\n",
       "    'max_features': 10,\n",
       "    'n_estimators': 100},\n",
       "   {'class_weight': 'balanced_subsample',\n",
       "    'max_depth': 15,\n",
       "    'max_features': 15,\n",
       "    'n_estimators': 10},\n",
       "   {'class_weight': 'balanced_subsample',\n",
       "    'max_depth': 15,\n",
       "    'max_features': 15,\n",
       "    'n_estimators': 100},\n",
       "   {'class_weight': 'balanced_subsample',\n",
       "    'max_depth': 15,\n",
       "    'max_features': 20,\n",
       "    'n_estimators': 10},\n",
       "   {'class_weight': 'balanced_subsample',\n",
       "    'max_depth': 15,\n",
       "    'max_features': 20,\n",
       "    'n_estimators': 100},\n",
       "   {'class_weight': 'balanced_subsample',\n",
       "    'max_depth': 20,\n",
       "    'max_features': 5,\n",
       "    'n_estimators': 10},\n",
       "   {'class_weight': 'balanced_subsample',\n",
       "    'max_depth': 20,\n",
       "    'max_features': 5,\n",
       "    'n_estimators': 100},\n",
       "   {'class_weight': 'balanced_subsample',\n",
       "    'max_depth': 20,\n",
       "    'max_features': 10,\n",
       "    'n_estimators': 10},\n",
       "   {'class_weight': 'balanced_subsample',\n",
       "    'max_depth': 20,\n",
       "    'max_features': 10,\n",
       "    'n_estimators': 100},\n",
       "   {'class_weight': 'balanced_subsample',\n",
       "    'max_depth': 20,\n",
       "    'max_features': 15,\n",
       "    'n_estimators': 10},\n",
       "   {'class_weight': 'balanced_subsample',\n",
       "    'max_depth': 20,\n",
       "    'max_features': 15,\n",
       "    'n_estimators': 100},\n",
       "   {'class_weight': 'balanced_subsample',\n",
       "    'max_depth': 20,\n",
       "    'max_features': 20,\n",
       "    'n_estimators': 10},\n",
       "   {'class_weight': 'balanced_subsample',\n",
       "    'max_depth': 20,\n",
       "    'max_features': 20,\n",
       "    'n_estimators': 100},\n",
       "   {'class_weight': None,\n",
       "    'max_depth': 5,\n",
       "    'max_features': 5,\n",
       "    'n_estimators': 10},\n",
       "   {'class_weight': None,\n",
       "    'max_depth': 5,\n",
       "    'max_features': 5,\n",
       "    'n_estimators': 100},\n",
       "   {'class_weight': None,\n",
       "    'max_depth': 5,\n",
       "    'max_features': 10,\n",
       "    'n_estimators': 10},\n",
       "   {'class_weight': None,\n",
       "    'max_depth': 5,\n",
       "    'max_features': 10,\n",
       "    'n_estimators': 100},\n",
       "   {'class_weight': None,\n",
       "    'max_depth': 5,\n",
       "    'max_features': 15,\n",
       "    'n_estimators': 10},\n",
       "   {'class_weight': None,\n",
       "    'max_depth': 5,\n",
       "    'max_features': 15,\n",
       "    'n_estimators': 100},\n",
       "   {'class_weight': None,\n",
       "    'max_depth': 5,\n",
       "    'max_features': 20,\n",
       "    'n_estimators': 10},\n",
       "   {'class_weight': None,\n",
       "    'max_depth': 5,\n",
       "    'max_features': 20,\n",
       "    'n_estimators': 100},\n",
       "   {'class_weight': None,\n",
       "    'max_depth': 10,\n",
       "    'max_features': 5,\n",
       "    'n_estimators': 10},\n",
       "   {'class_weight': None,\n",
       "    'max_depth': 10,\n",
       "    'max_features': 5,\n",
       "    'n_estimators': 100},\n",
       "   {'class_weight': None,\n",
       "    'max_depth': 10,\n",
       "    'max_features': 10,\n",
       "    'n_estimators': 10},\n",
       "   {'class_weight': None,\n",
       "    'max_depth': 10,\n",
       "    'max_features': 10,\n",
       "    'n_estimators': 100},\n",
       "   {'class_weight': None,\n",
       "    'max_depth': 10,\n",
       "    'max_features': 15,\n",
       "    'n_estimators': 10},\n",
       "   {'class_weight': None,\n",
       "    'max_depth': 10,\n",
       "    'max_features': 15,\n",
       "    'n_estimators': 100},\n",
       "   {'class_weight': None,\n",
       "    'max_depth': 10,\n",
       "    'max_features': 20,\n",
       "    'n_estimators': 10},\n",
       "   {'class_weight': None,\n",
       "    'max_depth': 10,\n",
       "    'max_features': 20,\n",
       "    'n_estimators': 100},\n",
       "   {'class_weight': None,\n",
       "    'max_depth': 15,\n",
       "    'max_features': 5,\n",
       "    'n_estimators': 10},\n",
       "   {'class_weight': None,\n",
       "    'max_depth': 15,\n",
       "    'max_features': 5,\n",
       "    'n_estimators': 100},\n",
       "   {'class_weight': None,\n",
       "    'max_depth': 15,\n",
       "    'max_features': 10,\n",
       "    'n_estimators': 10},\n",
       "   {'class_weight': None,\n",
       "    'max_depth': 15,\n",
       "    'max_features': 10,\n",
       "    'n_estimators': 100},\n",
       "   {'class_weight': None,\n",
       "    'max_depth': 15,\n",
       "    'max_features': 15,\n",
       "    'n_estimators': 10},\n",
       "   {'class_weight': None,\n",
       "    'max_depth': 15,\n",
       "    'max_features': 15,\n",
       "    'n_estimators': 100},\n",
       "   {'class_weight': None,\n",
       "    'max_depth': 15,\n",
       "    'max_features': 20,\n",
       "    'n_estimators': 10},\n",
       "   {'class_weight': None,\n",
       "    'max_depth': 15,\n",
       "    'max_features': 20,\n",
       "    'n_estimators': 100},\n",
       "   {'class_weight': None,\n",
       "    'max_depth': 20,\n",
       "    'max_features': 5,\n",
       "    'n_estimators': 10},\n",
       "   {'class_weight': None,\n",
       "    'max_depth': 20,\n",
       "    'max_features': 5,\n",
       "    'n_estimators': 100},\n",
       "   {'class_weight': None,\n",
       "    'max_depth': 20,\n",
       "    'max_features': 10,\n",
       "    'n_estimators': 10},\n",
       "   {'class_weight': None,\n",
       "    'max_depth': 20,\n",
       "    'max_features': 10,\n",
       "    'n_estimators': 100},\n",
       "   {'class_weight': None,\n",
       "    'max_depth': 20,\n",
       "    'max_features': 15,\n",
       "    'n_estimators': 10},\n",
       "   {'class_weight': None,\n",
       "    'max_depth': 20,\n",
       "    'max_features': 15,\n",
       "    'n_estimators': 100},\n",
       "   {'class_weight': None,\n",
       "    'max_depth': 20,\n",
       "    'max_features': 20,\n",
       "    'n_estimators': 10},\n",
       "   {'class_weight': None,\n",
       "    'max_depth': 20,\n",
       "    'max_features': 20,\n",
       "    'n_estimators': 100}],\n",
       "  'split0_test_score': array([0.82953181, 0.86314526, 0.85954382, 0.88595438, 0.91836735,\n",
       "         0.91356543, 0.88955582, 0.91716687, 0.8847539 , 0.89915966,\n",
       "         0.91236495, 0.92917167, 0.91116447, 0.93157263, 0.92316927,\n",
       "         0.94957983, 0.89555822, 0.89315726, 0.90756303, 0.91836735,\n",
       "         0.91596639, 0.92917167, 0.93157263, 0.94597839, 0.89195678,\n",
       "         0.88835534, 0.90756303, 0.91356543, 0.91116447, 0.92436975,\n",
       "         0.92917167, 0.94477791, 0.83073229, 0.86554622, 0.86194478,\n",
       "         0.88715486, 0.91956783, 0.91356543, 0.90756303, 0.92076831,\n",
       "         0.87635054, 0.90156062, 0.91596639, 0.92917167, 0.91356543,\n",
       "         0.93277311, 0.92076831, 0.93997599, 0.90156062, 0.88715486,\n",
       "         0.90036014, 0.91356543, 0.91596639, 0.93157263, 0.90876351,\n",
       "         0.94477791, 0.90036014, 0.89315726, 0.90756303, 0.91356543,\n",
       "         0.90876351, 0.93157263, 0.91356543, 0.93757503, 0.8547419 ,\n",
       "         0.85834334, 0.88955582, 0.88235294, 0.88955582, 0.8847539 ,\n",
       "         0.91716687, 0.92436975, 0.88115246, 0.88355342, 0.91356543,\n",
       "         0.91956783, 0.92196879, 0.94717887, 0.93277311, 0.94957983,\n",
       "         0.88355342, 0.88955582, 0.91956783, 0.93757503, 0.93637455,\n",
       "         0.94957983, 0.94477791, 0.94957983, 0.88955582, 0.8907563 ,\n",
       "         0.91716687, 0.94117647, 0.92316927, 0.95198079, 0.93997599,\n",
       "         0.95198079]),\n",
       "  'split1_test_score': array([0.82352941, 0.8847539 , 0.86794718, 0.88355342, 0.86794718,\n",
       "         0.90876351, 0.91116447, 0.91716687, 0.88835534, 0.91956783,\n",
       "         0.90636255, 0.93157263, 0.92196879, 0.94597839, 0.92316927,\n",
       "         0.94957983, 0.8847539 , 0.91116447, 0.91476591, 0.93037215,\n",
       "         0.91836735, 0.94717887, 0.94117647, 0.94237695, 0.88355342,\n",
       "         0.90636255, 0.92677071, 0.93397359, 0.92076831, 0.94117647,\n",
       "         0.93517407, 0.94237695, 0.81752701, 0.88115246, 0.86794718,\n",
       "         0.9027611 , 0.88355342, 0.91116447, 0.89915966, 0.91356543,\n",
       "         0.88235294, 0.91116447, 0.90756303, 0.93757503, 0.92196879,\n",
       "         0.94597839, 0.92677071, 0.94957983, 0.89915966, 0.91116447,\n",
       "         0.92797119, 0.93757503, 0.92076831, 0.94237695, 0.93757503,\n",
       "         0.94237695, 0.88955582, 0.9027611 , 0.92436975, 0.93037215,\n",
       "         0.93277311, 0.93997599, 0.93397359, 0.94117647, 0.85714286,\n",
       "         0.85714286, 0.90756303, 0.8907563 , 0.91236495, 0.91236495,\n",
       "         0.92436975, 0.93277311, 0.90036014, 0.8907563 , 0.93637455,\n",
       "         0.93877551, 0.94717887, 0.94717887, 0.94717887, 0.94837935,\n",
       "         0.89315726, 0.91116447, 0.91956783, 0.94837935, 0.93997599,\n",
       "         0.94957983, 0.94477791, 0.94957983, 0.90636255, 0.91476591,\n",
       "         0.91956783, 0.94477791, 0.93517407, 0.94597839, 0.94717887,\n",
       "         0.94957983]),\n",
       "  'split2_test_score': array([0.86794718, 0.89795918, 0.90636255, 0.91956783, 0.90636255,\n",
       "         0.93517407, 0.92557023, 0.93637455, 0.90636255, 0.91356543,\n",
       "         0.93157263, 0.93157263, 0.92677071, 0.94357743, 0.94477791,\n",
       "         0.94357743, 0.91836735, 0.91356543, 0.92557023, 0.92677071,\n",
       "         0.93517407, 0.93757503, 0.93757503, 0.94717887, 0.90516206,\n",
       "         0.91116447, 0.92436975, 0.92797119, 0.93637455, 0.93157263,\n",
       "         0.93877551, 0.94117647, 0.88235294, 0.89795918, 0.90516206,\n",
       "         0.92436975, 0.90516206, 0.93637455, 0.93277311, 0.93877551,\n",
       "         0.92076831, 0.91356543, 0.93997599, 0.93517407, 0.92316927,\n",
       "         0.93757503, 0.94717887, 0.94357743, 0.92316927, 0.91356543,\n",
       "         0.91956783, 0.92196879, 0.92797119, 0.93757503, 0.94237695,\n",
       "         0.94957983, 0.90636255, 0.9027611 , 0.93037215, 0.92196879,\n",
       "         0.93517407, 0.93277311, 0.93997599, 0.94837935, 0.85834334,\n",
       "         0.85834334, 0.8907563 , 0.88835534, 0.91236495, 0.89315726,\n",
       "         0.92436975, 0.93037215, 0.88835534, 0.88835534, 0.93397359,\n",
       "         0.93037215, 0.92917167, 0.93637455, 0.93757503, 0.94237695,\n",
       "         0.9027611 , 0.89555822, 0.92917167, 0.93757503, 0.93637455,\n",
       "         0.94357743, 0.94477791, 0.94597839, 0.91356543, 0.90996399,\n",
       "         0.93637455, 0.93277311, 0.93397359, 0.94117647, 0.93877551,\n",
       "         0.94597839]),\n",
       "  'mean_test_score': array([0.84033613, 0.88195278, 0.87795118, 0.89635854, 0.89755902,\n",
       "         0.91916767, 0.90876351, 0.92356943, 0.89315726, 0.91076431,\n",
       "         0.91676671, 0.93077231, 0.91996799, 0.94037615, 0.93037215,\n",
       "         0.94757903, 0.89955982, 0.90596238, 0.91596639, 0.92517007,\n",
       "         0.92316927, 0.93797519, 0.93677471, 0.94517807, 0.89355742,\n",
       "         0.90196078, 0.91956783, 0.92517007, 0.92276911, 0.93237295,\n",
       "         0.93437375, 0.94277711, 0.84353741, 0.88155262, 0.87835134,\n",
       "         0.9047619 , 0.9027611 , 0.92036815, 0.91316527, 0.92436975,\n",
       "         0.89315726, 0.90876351, 0.92116847, 0.93397359, 0.91956783,\n",
       "         0.93877551, 0.93157263, 0.94437775, 0.90796319, 0.90396158,\n",
       "         0.91596639, 0.92436975, 0.92156863, 0.93717487, 0.92957183,\n",
       "         0.94557823, 0.8987595 , 0.89955982, 0.92076831, 0.92196879,\n",
       "         0.92557023, 0.93477391, 0.92917167, 0.94237695, 0.8567427 ,\n",
       "         0.85794318, 0.89595838, 0.88715486, 0.9047619 , 0.8967587 ,\n",
       "         0.92196879, 0.92917167, 0.88995598, 0.88755502, 0.92797119,\n",
       "         0.92957183, 0.93277311, 0.94357743, 0.93917567, 0.94677871,\n",
       "         0.89315726, 0.8987595 , 0.92276911, 0.94117647, 0.93757503,\n",
       "         0.94757903, 0.94477791, 0.94837935, 0.90316126, 0.90516206,\n",
       "         0.92436975, 0.93957583, 0.93077231, 0.94637855, 0.94197679,\n",
       "         0.94917967]),\n",
       "  'std_test_score': array([0.01967714, 0.01435008, 0.02038068, 0.01644069, 0.02150465,\n",
       "         0.01148675, 0.01480051, 0.00905459, 0.00945259, 0.0085638 ,\n",
       "         0.01075232, 0.00113182, 0.00652641, 0.00630173, 0.01018641,\n",
       "         0.00282956, 0.01401132, 0.00910749, 0.00740026, 0.00502993,\n",
       "         0.00854508, 0.00735685, 0.00396138, 0.00204042, 0.008894  ,\n",
       "         0.0098182 , 0.00854508, 0.0085638 , 0.01038876, 0.00688461,\n",
       "         0.00396138, 0.00149726, 0.02797116, 0.01323556, 0.01911576,\n",
       "         0.01525864, 0.01480051, 0.0113606 , 0.01428297, 0.01060235,\n",
       "         0.01967714, 0.00518667, 0.0137343 , 0.00353412, 0.00427254,\n",
       "         0.00545746, 0.01130408, 0.00396138, 0.01079691, 0.0119245 ,\n",
       "         0.01155625, 0.00994782, 0.0049335 , 0.00441991, 0.01484373,\n",
       "         0.00299452, 0.00695404, 0.00452729, 0.00965373, 0.00686132,\n",
       "         0.0119245 , 0.00371093, 0.01130408, 0.00449179, 0.00149726,\n",
       "         0.00056591, 0.00822034, 0.00353412, 0.01075232, 0.01155625,\n",
       "         0.00339547, 0.00353412, 0.00792277, 0.00299452, 0.01023346,\n",
       "         0.0078619 , 0.01060235, 0.00509321, 0.00598905, 0.00315086,\n",
       "         0.0078415 , 0.00910749, 0.00452729, 0.00509321, 0.00169774,\n",
       "         0.00282956, 0.        , 0.00169774, 0.01005987, 0.01037333,\n",
       "         0.00854508, 0.00502993, 0.00539845, 0.00441991, 0.00371093,\n",
       "         0.00246675]),\n",
       "  'rank_test_score': array([96, 89, 92, 80, 78, 57, 63, 44, 83, 62, 58, 30, 54, 16, 32,  3, 74,\n",
       "         66, 59, 39, 45, 20, 23,  8, 82, 73, 55, 39, 46, 28, 25, 12, 95, 90,\n",
       "         91, 68, 72, 53, 61, 41, 83, 63, 51, 26, 55, 19, 29, 10, 65, 70, 59,\n",
       "         41, 50, 22, 33,  7, 76, 74, 52, 48, 38, 24, 35, 13, 94, 93, 81, 88,\n",
       "         68, 79, 48, 35, 86, 87, 37, 33, 27, 11, 18,  5, 83, 76, 46, 15, 21,\n",
       "          3,  9,  2, 71, 67, 41, 17, 30,  6, 14,  1], dtype=int32)},\n",
       " 'n_splits_': 3}"
      ]
     },
     "execution_count": 102,
     "metadata": {},
     "output_type": "execute_result"
    }
   ],
   "source": [
    "gs_tree.__dict__"
   ]
  },
  {
   "cell_type": "code",
   "execution_count": 101,
   "metadata": {},
   "outputs": [
    {
     "name": "stdout",
     "output_type": "stream",
     "text": [
      "RandomForestClassifier(bootstrap=True, class_weight=None, criterion='gini',\n",
      "                       max_depth=20, max_features=20, max_leaf_nodes=None,\n",
      "                       min_impurity_decrease=0.0, min_impurity_split=None,\n",
      "                       min_samples_leaf=1, min_samples_split=2,\n",
      "                       min_weight_fraction_leaf=0.0, n_estimators=100,\n",
      "                       n_jobs=None, oob_score=False, random_state=42, verbose=0,\n",
      "                       warm_start=False)\n",
      "Training recall score: 1.0\n",
      "Test recall score: 0.7317073170731707\n",
      "Cross val Score train:  [0.70833333 0.77777778 0.70833333 0.72222222 0.66666667]\n",
      "Cross val Score test:  [0.72       0.56       0.72       0.66666667 0.75      ]\n",
      "Train: \n",
      "[[2139    0]\n",
      " [   0  360]]\n",
      "Test: \n",
      "[[703   8]\n",
      " [ 33  90]]\n"
     ]
    }
   ],
   "source": [
    "run_model(gs_tree.best_estimator_, X, y)"
   ]
  },
  {
   "cell_type": "code",
   "execution_count": 106,
   "metadata": {},
   "outputs": [
    {
     "data": {
      "text/plain": [
       "array([0.02149729, 0.00625903, 0.08072713, 0.02448344, 0.03247619,\n",
       "       0.1367276 , 0.02519253, 0.11762398, 0.06428559, 0.02100851,\n",
       "       0.06593673, 0.02681525, 0.02288454, 0.02785934, 0.03849417,\n",
       "       0.06300866, 0.04134358, 0.11384357, 0.00069526, 0.00121489,\n",
       "       0.00128142, 0.00252972, 0.00143273, 0.00185433, 0.00242256,\n",
       "       0.00047713, 0.00092463, 0.00097216, 0.00031942, 0.00083204,\n",
       "       0.00134456, 0.00096276, 0.00036348, 0.00129402, 0.0005881 ,\n",
       "       0.00079131, 0.00083008, 0.00243248, 0.00219645, 0.00112318,\n",
       "       0.00041326, 0.00089381, 0.00399156, 0.00230346, 0.00153642,\n",
       "       0.00154803, 0.00015773, 0.00053188, 0.00324652, 0.00097674,\n",
       "       0.00108533, 0.00283443, 0.00268291, 0.00078801, 0.00203006,\n",
       "       0.00154961, 0.00096903, 0.00227539, 0.00104627, 0.00022534,\n",
       "       0.00288449, 0.00074216, 0.00147989, 0.00106933, 0.00149529,\n",
       "       0.00194344, 0.00043868, 0.0015111 ])"
      ]
     },
     "execution_count": 106,
     "metadata": {},
     "output_type": "execute_result"
    }
   ],
   "source": [
    "gs_tree.best_estimator_.feature_importances_"
   ]
  },
  {
   "cell_type": "code",
   "execution_count": 107,
   "metadata": {},
   "outputs": [
    {
     "data": {
      "image/png": "[encoded data removed]",
      "text/plain": [
       "<Figure size 1080x1080 with 1 Axes>"
      ]
     },
     "metadata": {
      "needs_background": "light"
     },
     "output_type": "display_data"
    }
   ],
   "source": [
    "plot_feature_importances(gs_tree.best_estimator_)"
   ]
  },
  {
   "cell_type": "code",
   "execution_count": 87,
   "metadata": {},
   "outputs": [],
   "source": [
    "rft2 = RandomForestClassifier(n_estimators=1000, max_depth=15, max_features = 10, class_weight = 'balanced_subsample', random_state = 42)"
   ]
  },
  {
   "cell_type": "code",
   "execution_count": 103,
   "metadata": {},
   "outputs": [
    {
     "name": "stderr",
     "output_type": "stream",
     "text": [
      "/opt/anaconda3/envs/learn-env/lib/python3.6/site-packages/sklearn/ensemble/forest.py:245: FutureWarning: The default value of n_estimators will change from 10 in version 0.20 to 100 in 0.22.\n",
      "  \"10 in version 0.20 to 100 in 0.22.\", FutureWarning)\n"
     ]
    },
    {
     "name": "stdout",
     "output_type": "stream",
     "text": [
      "RandomForestClassifier(bootstrap=True, class_weight=None, criterion='gini',\n",
      "                       max_depth=None, max_features='auto', max_leaf_nodes=None,\n",
      "                       min_impurity_decrease=0.0, min_impurity_split=None,\n",
      "                       min_samples_leaf=1, min_samples_split=2,\n",
      "                       min_weight_fraction_leaf=0.0, n_estimators=10,\n",
      "                       n_jobs=None, oob_score=False, random_state=42, verbose=0,\n",
      "                       warm_start=False)\n",
      "Training recall score: 0.9471698113207547\n",
      "Test recall score: 0.6\n",
      "Cross val Score train:  [0.47169811 0.52830189 0.47169811 0.52830189 0.33962264]\n",
      "Cross val Score test:  [0.10526316 0.31578947 0.36842105 0.36842105 0.42105263]\n",
      "Train: \n",
      "[[1609    0]\n",
      " [  14  251]]\n",
      "Test: \n",
      "[[524   6]\n",
      " [ 38  57]]\n"
     ]
    }
   ],
   "source": [
    "run_model(rft2, X_train, y_train)"
   ]
  },
  {
   "cell_type": "markdown",
   "metadata": {},
   "source": [
    "It looks like this model is overfitting.  This may be due to the depth being 15.  It also still looks quite imbalanced...\n",
    "\n",
    "Let's try reducing depth and addressing the class imbalance on the next random forest.. \n",
    "\n",
    "First though, I want to try out gradient boosting models:"
   ]
  },
  {
   "cell_type": "markdown",
   "metadata": {},
   "source": [
    "## Model 8:  Vanilla Gradient Boosting"
   ]
  },
  {
   "cell_type": "code",
   "execution_count": 91,
   "metadata": {},
   "outputs": [
    {
     "name": "stdout",
     "output_type": "stream",
     "text": [
      "GradientBoostingClassifier(criterion='friedman_mse', init=None,\n",
      "                           learning_rate=0.1, loss='deviance', max_depth=3,\n",
      "                           max_features=None, max_leaf_nodes=None,\n",
      "                           min_impurity_decrease=0.0, min_impurity_split=None,\n",
      "                           min_samples_leaf=1, min_samples_split=2,\n",
      "                           min_weight_fraction_leaf=0.0, n_estimators=100,\n",
      "                           n_iter_no_change=None, presort='auto',\n",
      "                           random_state=15, subsample=1.0, tol=0.0001,\n",
      "                           validation_fraction=0.1, verbose=0,\n",
      "                           warm_start=False)\n",
      "Training recall score: 0.8194444444444444\n",
      "Test recall score: 0.7235772357723578\n",
      "Cross val Score train:  [0.69444444 0.77777778 0.69444444 0.76388889 0.63888889]\n",
      "Cross val Score test:  [0.76       0.6        0.68       0.54166667 0.66666667]\n",
      "Train: \n",
      "[[2137    2]\n",
      " [  65  295]]\n",
      "Test: \n",
      "[[704   7]\n",
      " [ 34  89]]\n"
     ]
    }
   ],
   "source": [
    "gbc = GradientBoostingClassifier(random_state = 15)\n",
    "run_model(gbc, X, y)"
   ]
  },
  {
   "cell_type": "markdown",
   "metadata": {},
   "source": [
    "Getting very similar confusion matrices as the last random forest model.  \n",
    "\n",
    "Recall scores are closer to each other though so perhaps this is overfitting less.  More consistency in the cross vals scores as well between test and train. \n",
    "\n",
    "Let's look at the ROC-AUC of random forest and gradient boost models:"
   ]
  },
  {
   "cell_type": "code",
   "execution_count": 108,
   "metadata": {},
   "outputs": [
    {
     "name": "stdout",
     "output_type": "stream",
     "text": [
      "AUC: 0.9079048174447989\n"
     ]
    },
    {
     "data": {
      "image/png": "[encoded data removed]",
      "text/plain": [
       "<Figure size 720x576 with 1 Axes>"
      ]
     },
     "metadata": {
      "needs_background": "light"
     },
     "output_type": "display_data"
    }
   ],
   "source": [
    "y_score = gbc.fit(X_train, y_train).decision_function(X_test)\n",
    "# y_score_rf = rft2.fit(X_train, y_train).decision_function(X_test)\n",
    "\n",
    "fpr, tpr, thresholds = roc_curve(y_test, y_score)\n",
    "# fpr_rf, tpr_rf, thresholds_rf = roc_curve(y_test, y_score_rf)\n",
    "\n",
    "print(f'AUC: {auc(fpr, tpr)}')\n",
    "plt.figure(figsize=(10, 8))\n",
    "lw = 2\n",
    "plt.plot(fpr, tpr, color='darkorange',\n",
    "         lw=lw, label='ROC curve for Gradient Boost')\n",
    "# plt.plot(fpr_rf, tpr_rf, color='darkgreen',\n",
    "#          lw=lw, label='ROC curve for Random Forest')\n",
    "plt.plot([0, 1], [0, 1], color='navy', lw=lw, linestyle='--')\n",
    "plt.xlim([0.0, 1.0])\n",
    "plt.ylim([0.0, 1.05])\n",
    "plt.yticks([i/20.0 for i in range(21)])\n",
    "plt.xticks([i/20.0 for i in range(21)])\n",
    "plt.xlabel('False Positive Rate', fontsize = 15)\n",
    "plt.ylabel('True Positive Rate', fontsize = 15)\n",
    "plt.title('Receiver operating characteristic (ROC) Curve', fontsize = 20)\n",
    "plt.legend(loc='lower right')\n",
    "plt.show()"
   ]
  },
  {
   "cell_type": "code",
   "execution_count": null,
   "metadata": {},
   "outputs": [],
   "source": []
  }
 ],
 "metadata": {
  "kernelspec": {
   "display_name": "Python 3",
   "language": "python",
   "name": "python3"
  },
  "language_info": {
   "codemirror_mode": {
    "name": "ipython",
    "version": 3
   },
   "file_extension": ".py",
   "mimetype": "text/x-python",
   "name": "python",
   "nbconvert_exporter": "python",
   "pygments_lexer": "ipython3",
   "version": "3.6.9"
  }
 },
 "nbformat": 4,
 "nbformat_minor": 4
}
