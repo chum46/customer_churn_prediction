{
 "cells": [
  {
   "cell_type": "markdown",
   "metadata": {},
   "source": [
    "# Predicting Customer Churn: SyriaTel Telecommunications\n",
    "\n",
    "A predictive classification model by Chum Mapa, Adam Roth and Leana Critchell."
   ]
  },
  {
   "cell_type": "markdown",
   "metadata": {},
   "source": [
    "## Setting the Scene:\n",
    "\n",
    "This project aims to provide SyriaTel with a model to help predict whether a customer will soon churn.  In an [article](http://www.dbmarketing.com/telecom/churnreduction.html#:~:text=Annual%20churn%20rates%20for%20telecommunications,the%20way%20they%20are%20treated.) about churn reduction in the telecom industry by the Database Marketing Institute, it was noted that telecom companies have an annual average churn rate between 10%-67%.  The article states that \"industry retention surveys have shown that while price and product are important, most people leave any service because of dissatisfaction with the way they are treated\".  With this in mind, we aim to highlight areas where customer service could be improved.  We find in out report from this dataset, that SyriaTel has a churn rate of roughly 15% in customers who have been with the company for less than 245 days."
   ]
  },
  {
   "cell_type": "markdown",
   "metadata": {},
   "source": [
    "## Aims:\n",
    "\n",
    "This project aims to:\n",
    "- Investigate labeled data on 3333 customers who have held accounts with the company for less than 243 days.\n",
    "- Provide inferential statistics and visualisations based on this data.\n",
    "- Create predictive, supervised learning models from the data to predict churn"
   ]
  },
  {
   "cell_type": "markdown",
   "metadata": {},
   "source": [
    "## Definitions:\n",
    "\n",
    "- Churn:  a customer who closes their account with SyriaTel.  A prediction of `True` relates to a customer who will churn. \n",
    "- Predictive model:  "
   ]
  },
  {
   "cell_type": "markdown",
   "metadata": {},
   "source": [
    "## Data:\n",
    "\n",
    "This project utilises data from the [Churn in Telecom dataset](https://www.kaggle.com/becksddf/churn-in-telecoms-dataset) from Kaggle.\n",
    "\n",
    "The target variable in this dataset that we aimed to predict was identified as the `churn` column.  \n",
    "\n",
    "The features of this dataset include locational information (`state` and `area_code`) as well as plan details such as call minutes, charges, customer services calls and whether the customer had an international plan and/or voice mail plan.  Our model iterations utilised subsets of these features as well as aggregations of these features to determine which features would best predict cusomter churn.  \n",
    "\n",
    "The raw, csv dataset can be downloaded directly from the [kaggle website](https://www.kaggle.com/becksddf/churn-in-telecoms-dataset) or can be found in this repo [here](../../data/raw/telecom_churn_data)."
   ]
  },
  {
   "cell_type": "markdown",
   "metadata": {},
   "source": [
    "## Model:\n",
    "\n",
    "This project tests a variety of classification models including:\n",
    "- Decisioin Tree Classifier\n",
    "- Logistic Regression Classifier\n",
    "- KNN Classifier\n",
    "- Random Forest Classifer\n",
    "- Gradient Boost Classifer\n",
    "\n",
    "We evaluated our models based on the recall score metric as well as the corresponding confusion matrix.  Once the best model was identified, we assessed the model performance on a seperate test set to determine whether the model continued to perform well or if the model was overfitting.\n",
    "\n",
    "The decision behind choosing to evaluate the model on recall was made by considering the cost and impact of false negative predictions, that is, we determined that it was more costly for the company for the model to predict that a customer would stay with SyriaTel when in fact that would churn/leave.  This would lead to a missed opportunity for the company to dedicate retention resources towards that customer and keeping their business.  Maximising recall score accounts for this scenario in our model and so it was for this reason that we chose this as our evaluation metric. "
   ]
  },
  {
   "cell_type": "markdown",
   "metadata": {},
   "source": [
    "# Table of contents:\n",
    "- Data Cleaning and Exploratory Data Analysis (EDA)\n",
    "- Investigate Target Variable: Churn \n",
    "- Investigate Features\n",
    "- First Simple Model:  Decision Tree Classifier\n",
    "- Model Iterations 1 - 6\n",
    "- Model interpretation\n",
    "- Conclusion"
   ]
  },
  {
   "cell_type": "markdown",
   "metadata": {},
   "source": [
    "## Results, Future Investigations and Recommendations:\n",
    "\n",
    "#### Best model:  \n",
    "\n",
    "Our best model was a gradient boost model which produced a 0.81 recall score on the test data and only 2.9% of the model's predictions on the test data were labeled as false negatives.  This was a significant improvement from our FSM which had a recall score of 0.737 and 4.4% of predictions were false negatives.  \n",
    "\n",
    "The parameters of this model were:\n",
    "- `loss = 'exponential'`\n",
    "- `learning_rate = 0.01`\n",
    "- `min_samples_leaf = 0.1`\n",
    "- `min_samples_split = 0.1`\n",
    "- `max_depth = 3`\n",
    "- SMOTE balancing\n",
    "- StandardScaler\n",
    "\n",
    "#### Future Investigations and Recommendations:\n",
    "- Further investigation should be devoted to looking into the other characteristics of these customers to find out why there was a need to make this many calls to customer service and how the company could better assist these customers.\n",
    "- Given that over 42% of international plan holders churn, further investigation into retention efforts for these customers might be a worthwhile effort. \n",
    "- Further investigation should be done to see what is going on in these high churn states to see what trends might be causing this.\n",
    "- Investigate ways to incentivise customers with total day charges over $55 to stay with with the company by creating added value and perks.  This investigation found that 100% of these customers churn."
   ]
  },
  {
   "cell_type": "markdown",
   "metadata": {},
   "source": [
    "# Data Cleaning and Exploratory Data Analysis:"
   ]
  },
  {
   "cell_type": "code",
   "execution_count": 1,
   "metadata": {},
   "outputs": [],
   "source": [
    "%load_ext autoreload\n",
    "%autoreload 2"
   ]
  },
  {
   "cell_type": "markdown",
   "metadata": {},
   "source": [
    "## Imports"
   ]
  },
  {
   "cell_type": "code",
   "execution_count": 3,
   "metadata": {},
   "outputs": [],
   "source": [
    "# imports \n",
    "\n",
    "import pandas as pd\n",
    "import numpy as np\n",
    "import matplotlib.pyplot as plt\n",
    "import seaborn as sns\n",
    "# import geopandas as gp\n",
    "sns.set_style('whitegrid')\n",
    "%matplotlib inline\n",
    "\n",
    "from sklearn.model_selection import train_test_split, cross_val_score, GridSearchCV, KFold\n",
    "from sklearn.linear_model import LogisticRegression\n",
    "from sklearn.metrics import accuracy_score, recall_score, confusion_matrix, classification_report, roc_curve, auc, make_scorer, precision_score\n",
    "from sklearn.tree import DecisionTreeClassifier\n",
    "from sklearn import tree\n",
    "from sklearn.ensemble import BaggingClassifier, RandomForestClassifier, AdaBoostClassifier, GradientBoostingClassifier\n",
    "from sklearn.preprocessing import StandardScaler, MinMaxScaler, OneHotEncoder\n",
    "from imblearn.over_sampling import SMOTE, ADASYN\n",
    "\n",
    "import os\n",
    "import sys\n",
    "\n",
    "module_path = os.path.abspath(os.path.join(os.pardir, os.pardir))\n",
    "if module_path not in sys.path:\n",
    "    sys.path.append(module_path)\n",
    "\n",
    "from src import modelling_lc as m"
   ]
  },
  {
   "cell_type": "markdown",
   "metadata": {},
   "source": [
    "## Get the Data"
   ]
  },
  {
   "cell_type": "markdown",
   "metadata": {},
   "source": [
    "As mentioned earlier, the dataset can be downloaded directly from the Kaggle website [here](https://www.kaggle.com/becksddf/churn-in-telecoms-dataset) and saved into your desired directory, or, if copying the repo structure here, you can run the following cells to load the data from the `telecom_churn_data` csv file in the [raw data folder](../../data/raw) in this repo."
   ]
  },
  {
   "cell_type": "code",
   "execution_count": 4,
   "metadata": {},
   "outputs": [
    {
     "data": {
      "text/html": [
       "<div>\n",
       "<style scoped>\n",
       "    .dataframe tbody tr th:only-of-type {\n",
       "        vertical-align: middle;\n",
       "    }\n",
       "\n",
       "    .dataframe tbody tr th {\n",
       "        vertical-align: top;\n",
       "    }\n",
       "\n",
       "    .dataframe thead th {\n",
       "        text-align: right;\n",
       "    }\n",
       "</style>\n",
       "<table border=\"1\" class=\"dataframe\">\n",
       "  <thead>\n",
       "    <tr style=\"text-align: right;\">\n",
       "      <th></th>\n",
       "      <th>state</th>\n",
       "      <th>account length</th>\n",
       "      <th>area code</th>\n",
       "      <th>phone number</th>\n",
       "      <th>international plan</th>\n",
       "      <th>voice mail plan</th>\n",
       "      <th>number vmail messages</th>\n",
       "      <th>total day minutes</th>\n",
       "      <th>total day calls</th>\n",
       "      <th>total day charge</th>\n",
       "      <th>...</th>\n",
       "      <th>total eve calls</th>\n",
       "      <th>total eve charge</th>\n",
       "      <th>total night minutes</th>\n",
       "      <th>total night calls</th>\n",
       "      <th>total night charge</th>\n",
       "      <th>total intl minutes</th>\n",
       "      <th>total intl calls</th>\n",
       "      <th>total intl charge</th>\n",
       "      <th>customer service calls</th>\n",
       "      <th>churn</th>\n",
       "    </tr>\n",
       "  </thead>\n",
       "  <tbody>\n",
       "    <tr>\n",
       "      <td>0</td>\n",
       "      <td>KS</td>\n",
       "      <td>128</td>\n",
       "      <td>415</td>\n",
       "      <td>382-4657</td>\n",
       "      <td>no</td>\n",
       "      <td>yes</td>\n",
       "      <td>25</td>\n",
       "      <td>265.1</td>\n",
       "      <td>110</td>\n",
       "      <td>45.07</td>\n",
       "      <td>...</td>\n",
       "      <td>99</td>\n",
       "      <td>16.78</td>\n",
       "      <td>244.7</td>\n",
       "      <td>91</td>\n",
       "      <td>11.01</td>\n",
       "      <td>10.0</td>\n",
       "      <td>3</td>\n",
       "      <td>2.70</td>\n",
       "      <td>1</td>\n",
       "      <td>False</td>\n",
       "    </tr>\n",
       "    <tr>\n",
       "      <td>1</td>\n",
       "      <td>OH</td>\n",
       "      <td>107</td>\n",
       "      <td>415</td>\n",
       "      <td>371-7191</td>\n",
       "      <td>no</td>\n",
       "      <td>yes</td>\n",
       "      <td>26</td>\n",
       "      <td>161.6</td>\n",
       "      <td>123</td>\n",
       "      <td>27.47</td>\n",
       "      <td>...</td>\n",
       "      <td>103</td>\n",
       "      <td>16.62</td>\n",
       "      <td>254.4</td>\n",
       "      <td>103</td>\n",
       "      <td>11.45</td>\n",
       "      <td>13.7</td>\n",
       "      <td>3</td>\n",
       "      <td>3.70</td>\n",
       "      <td>1</td>\n",
       "      <td>False</td>\n",
       "    </tr>\n",
       "    <tr>\n",
       "      <td>2</td>\n",
       "      <td>NJ</td>\n",
       "      <td>137</td>\n",
       "      <td>415</td>\n",
       "      <td>358-1921</td>\n",
       "      <td>no</td>\n",
       "      <td>no</td>\n",
       "      <td>0</td>\n",
       "      <td>243.4</td>\n",
       "      <td>114</td>\n",
       "      <td>41.38</td>\n",
       "      <td>...</td>\n",
       "      <td>110</td>\n",
       "      <td>10.30</td>\n",
       "      <td>162.6</td>\n",
       "      <td>104</td>\n",
       "      <td>7.32</td>\n",
       "      <td>12.2</td>\n",
       "      <td>5</td>\n",
       "      <td>3.29</td>\n",
       "      <td>0</td>\n",
       "      <td>False</td>\n",
       "    </tr>\n",
       "    <tr>\n",
       "      <td>3</td>\n",
       "      <td>OH</td>\n",
       "      <td>84</td>\n",
       "      <td>408</td>\n",
       "      <td>375-9999</td>\n",
       "      <td>yes</td>\n",
       "      <td>no</td>\n",
       "      <td>0</td>\n",
       "      <td>299.4</td>\n",
       "      <td>71</td>\n",
       "      <td>50.90</td>\n",
       "      <td>...</td>\n",
       "      <td>88</td>\n",
       "      <td>5.26</td>\n",
       "      <td>196.9</td>\n",
       "      <td>89</td>\n",
       "      <td>8.86</td>\n",
       "      <td>6.6</td>\n",
       "      <td>7</td>\n",
       "      <td>1.78</td>\n",
       "      <td>2</td>\n",
       "      <td>False</td>\n",
       "    </tr>\n",
       "    <tr>\n",
       "      <td>4</td>\n",
       "      <td>OK</td>\n",
       "      <td>75</td>\n",
       "      <td>415</td>\n",
       "      <td>330-6626</td>\n",
       "      <td>yes</td>\n",
       "      <td>no</td>\n",
       "      <td>0</td>\n",
       "      <td>166.7</td>\n",
       "      <td>113</td>\n",
       "      <td>28.34</td>\n",
       "      <td>...</td>\n",
       "      <td>122</td>\n",
       "      <td>12.61</td>\n",
       "      <td>186.9</td>\n",
       "      <td>121</td>\n",
       "      <td>8.41</td>\n",
       "      <td>10.1</td>\n",
       "      <td>3</td>\n",
       "      <td>2.73</td>\n",
       "      <td>3</td>\n",
       "      <td>False</td>\n",
       "    </tr>\n",
       "  </tbody>\n",
       "</table>\n",
       "<p>5 rows × 21 columns</p>\n",
       "</div>"
      ],
      "text/plain": [
       "  state  account length  area code phone number international plan  \\\n",
       "0    KS             128        415     382-4657                 no   \n",
       "1    OH             107        415     371-7191                 no   \n",
       "2    NJ             137        415     358-1921                 no   \n",
       "3    OH              84        408     375-9999                yes   \n",
       "4    OK              75        415     330-6626                yes   \n",
       "\n",
       "  voice mail plan  number vmail messages  total day minutes  total day calls  \\\n",
       "0             yes                     25              265.1              110   \n",
       "1             yes                     26              161.6              123   \n",
       "2              no                      0              243.4              114   \n",
       "3              no                      0              299.4               71   \n",
       "4              no                      0              166.7              113   \n",
       "\n",
       "   total day charge  ...  total eve calls  total eve charge  \\\n",
       "0             45.07  ...               99             16.78   \n",
       "1             27.47  ...              103             16.62   \n",
       "2             41.38  ...              110             10.30   \n",
       "3             50.90  ...               88              5.26   \n",
       "4             28.34  ...              122             12.61   \n",
       "\n",
       "   total night minutes  total night calls  total night charge  \\\n",
       "0                244.7                 91               11.01   \n",
       "1                254.4                103               11.45   \n",
       "2                162.6                104                7.32   \n",
       "3                196.9                 89                8.86   \n",
       "4                186.9                121                8.41   \n",
       "\n",
       "   total intl minutes  total intl calls  total intl charge  \\\n",
       "0                10.0                 3               2.70   \n",
       "1                13.7                 3               3.70   \n",
       "2                12.2                 5               3.29   \n",
       "3                 6.6                 7               1.78   \n",
       "4                10.1                 3               2.73   \n",
       "\n",
       "   customer service calls  churn  \n",
       "0                       1  False  \n",
       "1                       1  False  \n",
       "2                       0  False  \n",
       "3                       2  False  \n",
       "4                       3  False  \n",
       "\n",
       "[5 rows x 21 columns]"
      ]
     },
     "execution_count": 4,
     "metadata": {},
     "output_type": "execute_result"
    }
   ],
   "source": [
    "# read in data to pandas\n",
    "df = pd.read_csv('../../data/raw/telecom_churn_data')\n",
    "df.head()"
   ]
  },
  {
   "cell_type": "markdown",
   "metadata": {},
   "source": [
    "## Data Cleaning"
   ]
  },
  {
   "cell_type": "markdown",
   "metadata": {},
   "source": [
    "#### Clean up column headings:"
   ]
  },
  {
   "cell_type": "code",
   "execution_count": 5,
   "metadata": {},
   "outputs": [],
   "source": [
    "# replace spaces with underscores\n",
    "df.columns = df.columns.str.replace(' ', '_')"
   ]
  },
  {
   "cell_type": "markdown",
   "metadata": {},
   "source": [
    "#### Inspect null values and data types:"
   ]
  },
  {
   "cell_type": "code",
   "execution_count": 6,
   "metadata": {},
   "outputs": [
    {
     "name": "stdout",
     "output_type": "stream",
     "text": [
      "<class 'pandas.core.frame.DataFrame'>\n",
      "RangeIndex: 3333 entries, 0 to 3332\n",
      "Data columns (total 21 columns):\n",
      "state                     3333 non-null object\n",
      "account_length            3333 non-null int64\n",
      "area_code                 3333 non-null int64\n",
      "phone_number              3333 non-null object\n",
      "international_plan        3333 non-null object\n",
      "voice_mail_plan           3333 non-null object\n",
      "number_vmail_messages     3333 non-null int64\n",
      "total_day_minutes         3333 non-null float64\n",
      "total_day_calls           3333 non-null int64\n",
      "total_day_charge          3333 non-null float64\n",
      "total_eve_minutes         3333 non-null float64\n",
      "total_eve_calls           3333 non-null int64\n",
      "total_eve_charge          3333 non-null float64\n",
      "total_night_minutes       3333 non-null float64\n",
      "total_night_calls         3333 non-null int64\n",
      "total_night_charge        3333 non-null float64\n",
      "total_intl_minutes        3333 non-null float64\n",
      "total_intl_calls          3333 non-null int64\n",
      "total_intl_charge         3333 non-null float64\n",
      "customer_service_calls    3333 non-null int64\n",
      "churn                     3333 non-null bool\n",
      "dtypes: bool(1), float64(8), int64(8), object(4)\n",
      "memory usage: 524.2+ KB\n"
     ]
    }
   ],
   "source": [
    "df.info()"
   ]
  },
  {
   "cell_type": "markdown",
   "metadata": {},
   "source": [
    "It appears we have no null values in our dataframe (although it is not yet known whether we have any 'disguised' null values yet).  \n",
    "\n",
    "Most of the features are numerical except for `state`, `phone_number`, `international_plan` and `voice_mail_plan` which are strings and our target `churn` which is of boolean type.  \n",
    "\n",
    "Let's inspect the unique values of each feature to see if we have any 'null' values 'in disguise' or any values that we don't expect which might be errors:"
   ]
  },
  {
   "cell_type": "code",
   "execution_count": 7,
   "metadata": {},
   "outputs": [
    {
     "name": "stdout",
     "output_type": "stream",
     "text": [
      "state vals:  ['KS' 'OH' 'NJ' 'OK' 'AL' 'MA' 'MO' 'LA' 'WV' 'IN' 'RI' 'IA' 'MT' 'NY'\n",
      " 'ID' 'VT' 'VA' 'TX' 'FL' 'CO' 'AZ' 'SC' 'NE' 'WY' 'HI' 'IL' 'NH' 'GA'\n",
      " 'AK' 'MD' 'AR' 'WI' 'OR' 'MI' 'DE' 'UT' 'CA' 'MN' 'SD' 'NC' 'WA' 'NM'\n",
      " 'NV' 'DC' 'KY' 'ME' 'MS' 'TN' 'PA' 'CT' 'ND'] \n",
      "\n",
      "account_length vals:  [128 107 137  84  75 118 121 147 117 141  65  74 168  95  62 161  85  93\n",
      "  76  73  77 130 111 132 174  57  54  20  49 142 172  12  72  36  78 136\n",
      " 149  98 135  34 160  64  59 119  97  52  60  10  96  87  81  68 125 116\n",
      "  38  40  43 113 126 150 138 162  90  50  82 144  46  70  55 106  94 155\n",
      "  80 104  99 120 108 122 157 103  63 112  41 193  61  92 131 163  91 127\n",
      " 110 140  83 145  56 151 139   6 115 146 185 148  32  25 179  67  19 170\n",
      " 164  51 208  53 105  66  86  35  88 123  45 100 215  22  33 114  24 101\n",
      " 143  48  71 167  89 199 166 158 196 209  16  39 173 129  44  79  31 124\n",
      "  37 159 194 154  21 133 224  58  11 109 102 165  18  30 176  47 190 152\n",
      "  26  69 186 171  28 153 169  13  27   3  42 189 156 134 243  23   1 205\n",
      " 200   5   9 178 181 182 217 177 210  29 180   2  17   7 212 232 192 195\n",
      " 197 225 184 191 201  15 183 202   8 175   4 188 204 221] \n",
      "\n",
      "area_code vals:  [415 408 510] \n",
      "\n",
      "phone_number vals:  ['382-4657' '371-7191' '358-1921' ... '328-8230' '364-6381' '400-4344'] \n",
      "\n",
      "international_plan vals:  ['no' 'yes'] \n",
      "\n",
      "voice_mail_plan vals:  ['yes' 'no'] \n",
      "\n",
      "number_vmail_messages vals:  [25 26  0 24 37 27 33 39 30 41 28 34 46 29 35 21 32 42 36 22 23 43 31 38\n",
      " 40 48 18 17 45 16 20 14 19 51 15 11 12 47  8 44 49  4 10 13 50  9] \n",
      "\n",
      "total_day_minutes vals:  [265.1 161.6 243.4 ... 321.1 231.1 180.8] \n",
      "\n",
      "total_day_calls vals:  [110 123 114  71 113  98  88  79  97  84 137 127  96  70  67 139  66  90\n",
      " 117  89 112 103  86  76 115  73 109  95 105 121 118  94  80 128  64 106\n",
      " 102  85  82  77 120 133 135 108  57  83 129  91  92  74  93 101 146  72\n",
      "  99 104 125  61 100  87 131  65 124 119  52  68 107  47 116 151 126 122\n",
      " 111 145  78 136 140 148  81  55  69 158 134 130  63  53  75 141 163  59\n",
      " 132 138  54  58  62 144 143 147  36  40 150  56  51 165  30  48  60  42\n",
      "   0  45 160 149 152 142 156  35  49 157  44] \n",
      "\n",
      "total_day_charge vals:  [45.07 27.47 41.38 ... 54.59 39.29 30.74] \n",
      "\n",
      "total_eve_minutes vals:  [197.4 195.5 121.2 ... 153.4 288.8 265.9] \n",
      "\n",
      "total_eve_calls vals:  [ 99 103 110  88 122 101 108  94  80 111  83 148  71  75  76  97  90  65\n",
      "  93 121 102  72 112 100  84 109  63 107 115 119 116  92  85  98 118  74\n",
      " 117  58  96  66  67  62  77 164 126 142  64 104  79  95  86 105  81 113\n",
      " 106  59  48  82  87 123 114 140 128  60  78 125  91  46 138 129  89 133\n",
      " 136  57 135 139  51  70 151 137 134  73 152 168  68 120  69 127 132 143\n",
      "  61 124  42  54 131  52 149  56  37 130  49 146 147  55  12  50 157 155\n",
      "  45 144  36 156  53 141  44 153 154 150  43   0 145 159 170] \n",
      "\n",
      "total_eve_charge vals:  [16.78 16.62 10.3  ... 13.04 24.55 22.6 ] \n",
      "\n",
      "total_night_minutes vals:  [244.7 254.4 162.6 ... 280.9 120.1 279.1] \n",
      "\n",
      "total_night_calls vals:  [ 91 103 104  89 121 118  96  90  97 111  94 128 115  99  75 108  74 133\n",
      "  64  78 105  68 102 148  98 116  71 109 107 135  92  86 127  79  87 129\n",
      "  57  77  95  54 106  53  67 139  60 100  61  73 113  76 119  88  84  62\n",
      " 137  72 142 114 126 122  81 123 117  82  80 120 130 134  59 112 132 110\n",
      " 101 150  69 131  83  93 124 136 125  66 143  58  55  85  56  70  46  42\n",
      " 152  44 145  50 153  49 175  63 138 154 140 141 146  65  51 151 158 155\n",
      " 157 147 144 149 166  52  33 156  38  36  48 164] \n",
      "\n",
      "total_night_charge vals:  [11.01 11.45  7.32  8.86  8.41  9.18  9.57  9.53  9.71 14.69  9.4   8.82\n",
      "  6.35  8.65  9.14  7.23  4.02  5.83  7.46  8.68  9.43  8.18  8.53 10.67\n",
      " 11.28  8.22  4.59  8.17  8.04 11.27 11.08 13.2  12.61  9.61  6.88  5.82\n",
      " 10.25  4.58  8.47  8.45  5.5  14.02  8.03 11.94  7.34  6.06 10.9   6.44\n",
      "  3.18 10.66 11.21 12.73 10.28 12.16  6.34  8.15  5.84  8.52  7.5   7.48\n",
      "  6.21 11.95  7.15  9.63  7.1   6.91  6.69 13.29 11.46  7.76  6.86  8.16\n",
      " 12.15  7.79  7.99 10.29 10.08 12.53  7.91 10.02  8.61 14.54  8.21  9.09\n",
      "  4.93 11.39 11.88  5.75  7.83  8.59  7.52 12.38  7.21  5.81  8.1  11.04\n",
      " 11.19  8.55  8.42  9.76  9.87 10.86  5.36 10.03 11.15  9.51  6.22  2.59\n",
      "  7.65  6.45  9.    6.4   9.94  5.08 10.23 11.36  6.97 10.16  7.88 11.91\n",
      "  6.61 11.55 11.76  9.27  9.29 11.12 10.69  8.8  11.85  7.14  8.71 11.42\n",
      "  4.94  9.02 11.22  4.97  9.15  5.45  7.27 12.91  7.75 13.46  6.32 12.13\n",
      " 11.97  6.93 11.66  7.42  6.19 11.41 10.33 10.65 11.92  4.77  4.38  7.41\n",
      " 12.1   7.69  8.78  9.36  9.05 12.7   6.16  6.05 10.85  8.93  3.48 10.4\n",
      "  5.05 10.71  9.37  6.75  8.12 11.77 11.49 11.06 11.25 11.03 10.82  8.91\n",
      "  8.57  8.09 10.05 11.7  10.17  8.74  5.51 11.11  3.29 10.13  6.8   8.49\n",
      "  9.55 11.02  9.91  7.84 10.62  9.97  3.44  7.35  9.79  8.89  8.14  6.94\n",
      " 10.49 10.57 10.2   6.29  8.79 10.04 12.41 15.97  9.1  11.78 12.75 11.07\n",
      " 12.56  8.63  8.02 10.42  8.7   9.98  7.62  8.33  6.59 13.12 10.46  6.63\n",
      "  8.32  9.04  9.28 10.76  9.64 11.44  6.48 10.81 12.66 11.34  8.75 13.05\n",
      " 11.48 14.04 13.47  5.63  6.6   9.72 11.68  6.41  9.32 12.95 13.37  9.62\n",
      "  6.03  8.25  8.26 11.96  9.9   9.23  5.58  7.22  6.64 12.29 12.93 11.32\n",
      "  6.85  8.88  7.03  8.48  3.59  5.86  6.23  7.61  7.66 13.63  7.9  11.82\n",
      "  7.47  6.08  8.4   5.74 10.94 10.35 10.68  4.34  8.73  5.14  8.24  9.99\n",
      " 13.93  8.64 11.43  5.79  9.2  10.14 12.11  7.53 12.46  8.46  8.95  9.84\n",
      " 10.8  11.23 10.15  9.21 14.46  6.67 12.83  9.66  9.59 10.48  8.36  4.84\n",
      " 10.54  8.39  7.43  9.06  8.94 11.13  8.87  8.5   7.6  10.73  9.56 10.77\n",
      "  7.73  3.47 11.86  8.11  9.78  9.42  9.65  7.    7.39  9.88  6.56  5.92\n",
      "  6.95 15.71  8.06  4.86  7.8   8.58 10.06  5.21  6.92  6.15 13.49  9.38\n",
      " 12.62 12.26  8.19 11.65 11.62 10.83  7.92  7.33 13.01 13.26 12.22 11.58\n",
      "  5.97 10.99  8.38  9.17  8.08  5.71  3.41 12.63 11.79 12.96  7.64  6.58\n",
      " 10.84 10.22  6.52  5.55  7.63  5.11  5.89 10.78  3.05 11.89  8.97 10.44\n",
      " 10.5   9.35  5.66 11.09  9.83  5.44 10.11  6.39 11.93  8.62 12.06  6.02\n",
      "  8.85  5.25  8.66  6.73 10.21 11.59 13.87  7.77 10.39  5.54  6.62 13.33\n",
      "  6.24 12.59  6.3   6.79  8.28  9.03  8.07  5.52 12.14 10.59  7.54  7.67\n",
      "  5.47  8.81  8.51 13.45  8.77  6.43 12.01 12.08  7.07  6.51  6.84  9.48\n",
      " 13.78 11.54 11.67  8.13 10.79  7.13  4.72  4.64  8.96 13.03  6.07  3.51\n",
      "  6.83  6.12  9.31  9.58  4.68  5.32  9.26 11.52  9.11 10.55 11.47  9.3\n",
      " 13.82  8.44  5.77 10.96 11.74  8.9  10.47  7.85 10.92  4.74  9.74 10.43\n",
      "  9.96 10.18  9.54  7.89 12.36  8.54 10.07  9.46  7.3  11.16  9.16 10.19\n",
      "  5.99 10.88  5.8   7.19  4.55  8.31  8.01 14.43  8.3  14.3   6.53  8.2\n",
      " 11.31 13.    6.42  4.24  7.44  7.51 13.1   9.49  6.14  8.76  6.65 10.56\n",
      "  6.72  8.29 12.09  5.39  2.96  7.59  7.24  4.28  9.7   8.83 13.3  11.37\n",
      "  9.33  5.01  3.26 11.71  8.43  9.68 15.56  9.8   3.61  6.96 11.61 12.81\n",
      " 10.87 13.84  5.03  5.17  2.03 10.34  9.34  7.95 10.09  9.95  7.11  9.22\n",
      "  6.13 11.05  9.89  9.39 14.06 10.26 13.31 15.43 16.39  6.27 10.64 11.5\n",
      " 12.48  8.27 13.53 10.36 12.24  8.69 10.52  9.07 11.51  9.25  8.72  6.78\n",
      "  8.6  11.84  5.78  5.85 12.3   5.76 12.07  9.6   8.84 12.39 10.1   9.73\n",
      "  2.85  6.66  2.45  5.28 11.73 10.75  7.74  6.76  6.    7.58 13.69  7.93\n",
      "  7.68  9.75  4.96  5.49 11.83  7.18  9.19  7.7   7.25 10.74  4.27 13.8\n",
      "  9.12  4.75  7.78 11.63  7.55  2.25  9.45  9.86  7.71  4.95  7.4  11.17\n",
      " 11.33  6.82 13.7   1.97 10.89 12.77 10.31  5.23  5.27  9.41  6.09 10.61\n",
      "  7.29  4.23  7.57  3.67 12.69 14.5   5.95  7.87  5.96  5.94 12.23  4.9\n",
      " 12.33  6.89  9.67 12.68 12.87  3.7   6.04 13.13 15.74 11.87  4.7   4.67\n",
      "  7.05  5.42  4.09  5.73  9.47  8.05  6.87  3.71 15.86  7.49 11.69  6.46\n",
      " 10.45 12.9   5.41 11.26  1.04  6.49  6.37 12.21  6.77 12.65  7.86  9.44\n",
      "  4.3   7.38  5.02 10.63  2.86 17.19  8.67  8.37  6.9  10.93 10.38  7.36\n",
      " 10.27 10.95  6.11  4.45 11.9  15.01 12.84  7.45  6.98 11.72  7.56 11.38\n",
      " 10.    4.42  9.81  5.56  6.01 10.12 12.4  16.99  5.68 11.64  3.78  7.82\n",
      "  9.85 13.74 12.71 10.98 10.01  9.52  7.31  8.35 11.35  9.5  14.03  3.2\n",
      "  7.72 13.22 10.7   8.99 10.6  13.02  9.77 12.58 12.35 12.2  11.4  13.91\n",
      "  3.57 14.65 12.28  5.13 10.72 12.86 14.    7.12 12.17  4.71  6.28  8.\n",
      "  7.01  5.91  5.2  12.   12.02 12.88  7.28  5.4  12.04  5.24 10.3  10.41\n",
      " 13.41 12.72  9.08  7.08 13.5   5.35 12.45  5.3  10.32  5.15 12.67  5.22\n",
      "  5.57  3.94  4.41 13.27 10.24  4.25 12.89  5.72 12.5  11.29  3.25 11.53\n",
      "  9.82  7.26  4.1  10.37  4.98  6.74 12.52 14.56  8.34  3.82  3.86 13.97\n",
      " 11.57  6.5  13.58 14.32 13.75 11.14 14.18  9.13  4.46  4.83  9.69 14.13\n",
      "  7.16  7.98 13.66 14.78 11.2   9.93 11.    5.29  9.92  4.29 11.1  10.51\n",
      " 12.49  4.04 12.94  7.09  6.71  7.94  5.31  5.98  7.2  14.82 13.21 12.32\n",
      " 10.58  4.92  6.2   4.47 11.98  6.18  7.81  4.54  5.37  7.17  5.33 14.1\n",
      "  5.7  12.18  8.98  5.1  14.67 13.95 16.55 11.18  4.44  4.73  2.55  6.31\n",
      "  2.43  9.24  7.37 13.42 12.42 11.8  14.45  2.89 13.23 12.6  13.18 12.19\n",
      " 14.81  6.55 11.3  12.27 13.98  8.23 15.49  6.47 13.48 13.59 13.25 17.77\n",
      " 13.9   3.97 11.56 14.08 13.6   6.26  4.61 12.76 15.76  6.38  3.6  12.8\n",
      "  5.9   7.97  5.   10.97  5.88 12.34 12.03 14.97 15.06 12.85  6.54 11.24\n",
      " 12.64  7.06  5.38 13.14  3.99  3.32  4.51  4.12  3.93  2.4  11.75  4.03\n",
      " 15.85  6.81 14.25 14.09 16.42  6.7  12.74  2.76 12.12  6.99  6.68 11.81\n",
      "  7.96  5.06 13.16  2.13 13.17  5.12  5.65 12.37 10.53] \n",
      "\n",
      "total_intl_minutes vals:  [10.  13.7 12.2  6.6 10.1  6.3  7.5  7.1  8.7 11.2 12.7  9.1 12.3 13.1\n",
      "  5.4 13.8  8.1 13.  10.6  5.7  9.5  7.7 10.3 15.5 14.7 11.1 14.2 12.6\n",
      " 11.8  8.3 14.5 10.5  9.4 14.6  9.2  3.5  8.5 13.2  7.4  8.8 11.   7.8\n",
      "  6.8 11.4  9.3  9.7 10.2  8.   5.8 12.1 12.  11.6  8.2  6.2  7.3  6.1\n",
      " 11.7 15.   9.8 12.4  8.6 10.9 13.9  8.9  7.9  5.3  4.4 12.5 11.3  9.\n",
      "  9.6 13.3 20.   7.2  6.4 14.1 14.3  6.9 11.5 15.8 12.8 16.2  0.  11.9\n",
      "  9.9  8.4 10.8 13.4 10.7 17.6  4.7  2.7 13.5 12.9 14.4 10.4  6.7 15.4\n",
      "  4.5  6.5 15.6  5.9 18.9  7.6  5.   7.  14.  18.  16.  14.8  3.7  2.\n",
      "  4.8 15.3  6.  13.6 17.2 17.5  5.6 18.2  3.6 16.5  4.6  5.1  4.1 16.3\n",
      " 14.9 16.4 16.7  1.3 15.2 15.1 15.9  5.5 16.1  4.  16.9  5.2  4.2 15.7\n",
      " 17.   3.9  3.8  2.2 17.1  4.9 17.9 17.3 18.4 17.8  4.3  2.9  3.1  3.3\n",
      "  2.6  3.4  1.1 18.3 16.6  2.1  2.4  2.5] \n",
      "\n",
      "total_intl_calls vals:  [ 3  5  7  6  4  2  9 19  1 10 15  8 11  0 12 13 18 14 16 20 17] \n",
      "\n",
      "total_intl_charge vals:  [2.7  3.7  3.29 1.78 2.73 1.7  2.03 1.92 2.35 3.02 3.43 2.46 3.32 3.54\n",
      " 1.46 3.73 2.19 3.51 2.86 1.54 2.57 2.08 2.78 4.19 3.97 3.   3.83 3.4\n",
      " 3.19 2.24 3.92 2.84 2.54 3.94 2.48 0.95 2.3  3.56 2.   2.38 2.97 2.11\n",
      " 1.84 3.08 2.51 2.62 2.75 2.16 1.57 3.27 3.24 3.13 2.21 1.67 1.97 1.65\n",
      " 3.16 4.05 2.65 3.35 2.32 2.94 3.75 2.4  2.13 1.43 1.19 3.38 3.05 2.43\n",
      " 2.59 3.59 5.4  1.94 1.73 3.81 3.86 1.86 3.11 4.27 3.46 4.37 0.   3.21\n",
      " 2.67 2.27 2.92 3.62 2.89 4.75 1.27 0.73 3.65 3.48 3.89 2.81 1.81 4.16\n",
      " 1.22 1.76 4.21 1.59 5.1  2.05 1.35 1.89 3.78 4.86 4.32 4.   1.   0.54\n",
      " 1.3  4.13 1.62 3.67 4.64 4.73 1.51 4.91 0.97 4.46 1.24 1.38 1.11 4.4\n",
      " 4.02 4.43 4.51 0.35 4.1  4.08 4.29 1.49 4.35 1.08 4.56 1.4  1.13 4.24\n",
      " 4.59 1.05 1.03 0.59 4.62 1.32 4.83 4.67 4.97 4.81 1.16 0.78 0.84 0.89\n",
      " 0.7  0.92 0.3  4.94 4.48 0.57 0.65 0.68] \n",
      "\n",
      "customer_service_calls vals:  [1 0 2 3 4 5 7 9 6 8] \n",
      "\n",
      "churn vals:  [False  True] \n",
      "\n"
     ]
    }
   ],
   "source": [
    "# inspect unique values of columns to identify potention errors or null values:\n",
    "for col in df.columns:\n",
    "    print(f\"{col} vals:  {df[col].unique()} \\n\")"
   ]
  },
  {
   "cell_type": "markdown",
   "metadata": {},
   "source": [
    "No values of surprise or suspision here.  \n",
    "- All `states` look normal, as expected.\n",
    "- We can see that columns `international_plan` and `voice_mail_plan` are binary features with `yes/no` values - we might want to change these types later to booleans or 1/0's.  \n",
    "- It is interesting to see that there are only 3 `area_codes`.  It might be worth investigating whether a particular area code has higher churn than another or if it would be safe to simply drop area code.  Also, area code would actually be more of a categorical feature rather than an `int` feature so we will change this data type. \n",
    "- It would be safe to assume that `phone_number` has no bearing on whether a person decides to leave the company and so we might choose to drop this column. \n",
    "- `account_length` appears to be discrete, with only integer values.  The highest value being 243 suggests that this column represents the total number of days the cusomter has had their account open with the company.  From the length of time, this dataset must contain relatively new cusomters.\n",
    "- `number_vmail_messages` appears to be a discrete variable and there aren't abnormal values here.  The highest number of voicemails is 51 which might be high for the average person but could be an indicator of churn so I feel it is worth keeping. \n",
    "- `customer_service_calls vals` is also a discrete variable as expected with no apparent abnormal values. \n",
    "- All minutes, calls and charges columns have reasonable values and nothing stands out as unusual at this stage. \n",
    "- And of course our target `churn` has just `True/False` values as expected. "
   ]
  },
  {
   "cell_type": "markdown",
   "metadata": {},
   "source": [
    "#### Inspect range and central tendencies of numeric data:"
   ]
  },
  {
   "cell_type": "code",
   "execution_count": 8,
   "metadata": {},
   "outputs": [
    {
     "data": {
      "text/html": [
       "<div>\n",
       "<style scoped>\n",
       "    .dataframe tbody tr th:only-of-type {\n",
       "        vertical-align: middle;\n",
       "    }\n",
       "\n",
       "    .dataframe tbody tr th {\n",
       "        vertical-align: top;\n",
       "    }\n",
       "\n",
       "    .dataframe thead th {\n",
       "        text-align: right;\n",
       "    }\n",
       "</style>\n",
       "<table border=\"1\" class=\"dataframe\">\n",
       "  <thead>\n",
       "    <tr style=\"text-align: right;\">\n",
       "      <th></th>\n",
       "      <th>account_length</th>\n",
       "      <th>area_code</th>\n",
       "      <th>number_vmail_messages</th>\n",
       "      <th>total_day_minutes</th>\n",
       "      <th>total_day_calls</th>\n",
       "      <th>total_day_charge</th>\n",
       "      <th>total_eve_minutes</th>\n",
       "      <th>total_eve_calls</th>\n",
       "      <th>total_eve_charge</th>\n",
       "      <th>total_night_minutes</th>\n",
       "      <th>total_night_calls</th>\n",
       "      <th>total_night_charge</th>\n",
       "      <th>total_intl_minutes</th>\n",
       "      <th>total_intl_calls</th>\n",
       "      <th>total_intl_charge</th>\n",
       "      <th>customer_service_calls</th>\n",
       "    </tr>\n",
       "  </thead>\n",
       "  <tbody>\n",
       "    <tr>\n",
       "      <td>count</td>\n",
       "      <td>3333.000000</td>\n",
       "      <td>3333.000000</td>\n",
       "      <td>3333.000000</td>\n",
       "      <td>3333.000000</td>\n",
       "      <td>3333.000000</td>\n",
       "      <td>3333.000000</td>\n",
       "      <td>3333.000000</td>\n",
       "      <td>3333.000000</td>\n",
       "      <td>3333.000000</td>\n",
       "      <td>3333.000000</td>\n",
       "      <td>3333.000000</td>\n",
       "      <td>3333.000000</td>\n",
       "      <td>3333.000000</td>\n",
       "      <td>3333.000000</td>\n",
       "      <td>3333.000000</td>\n",
       "      <td>3333.000000</td>\n",
       "    </tr>\n",
       "    <tr>\n",
       "      <td>mean</td>\n",
       "      <td>101.064806</td>\n",
       "      <td>437.182418</td>\n",
       "      <td>8.099010</td>\n",
       "      <td>179.775098</td>\n",
       "      <td>100.435644</td>\n",
       "      <td>30.562307</td>\n",
       "      <td>200.980348</td>\n",
       "      <td>100.114311</td>\n",
       "      <td>17.083540</td>\n",
       "      <td>200.872037</td>\n",
       "      <td>100.107711</td>\n",
       "      <td>9.039325</td>\n",
       "      <td>10.237294</td>\n",
       "      <td>4.479448</td>\n",
       "      <td>2.764581</td>\n",
       "      <td>1.562856</td>\n",
       "    </tr>\n",
       "    <tr>\n",
       "      <td>std</td>\n",
       "      <td>39.822106</td>\n",
       "      <td>42.371290</td>\n",
       "      <td>13.688365</td>\n",
       "      <td>54.467389</td>\n",
       "      <td>20.069084</td>\n",
       "      <td>9.259435</td>\n",
       "      <td>50.713844</td>\n",
       "      <td>19.922625</td>\n",
       "      <td>4.310668</td>\n",
       "      <td>50.573847</td>\n",
       "      <td>19.568609</td>\n",
       "      <td>2.275873</td>\n",
       "      <td>2.791840</td>\n",
       "      <td>2.461214</td>\n",
       "      <td>0.753773</td>\n",
       "      <td>1.315491</td>\n",
       "    </tr>\n",
       "    <tr>\n",
       "      <td>min</td>\n",
       "      <td>1.000000</td>\n",
       "      <td>408.000000</td>\n",
       "      <td>0.000000</td>\n",
       "      <td>0.000000</td>\n",
       "      <td>0.000000</td>\n",
       "      <td>0.000000</td>\n",
       "      <td>0.000000</td>\n",
       "      <td>0.000000</td>\n",
       "      <td>0.000000</td>\n",
       "      <td>23.200000</td>\n",
       "      <td>33.000000</td>\n",
       "      <td>1.040000</td>\n",
       "      <td>0.000000</td>\n",
       "      <td>0.000000</td>\n",
       "      <td>0.000000</td>\n",
       "      <td>0.000000</td>\n",
       "    </tr>\n",
       "    <tr>\n",
       "      <td>25%</td>\n",
       "      <td>74.000000</td>\n",
       "      <td>408.000000</td>\n",
       "      <td>0.000000</td>\n",
       "      <td>143.700000</td>\n",
       "      <td>87.000000</td>\n",
       "      <td>24.430000</td>\n",
       "      <td>166.600000</td>\n",
       "      <td>87.000000</td>\n",
       "      <td>14.160000</td>\n",
       "      <td>167.000000</td>\n",
       "      <td>87.000000</td>\n",
       "      <td>7.520000</td>\n",
       "      <td>8.500000</td>\n",
       "      <td>3.000000</td>\n",
       "      <td>2.300000</td>\n",
       "      <td>1.000000</td>\n",
       "    </tr>\n",
       "    <tr>\n",
       "      <td>50%</td>\n",
       "      <td>101.000000</td>\n",
       "      <td>415.000000</td>\n",
       "      <td>0.000000</td>\n",
       "      <td>179.400000</td>\n",
       "      <td>101.000000</td>\n",
       "      <td>30.500000</td>\n",
       "      <td>201.400000</td>\n",
       "      <td>100.000000</td>\n",
       "      <td>17.120000</td>\n",
       "      <td>201.200000</td>\n",
       "      <td>100.000000</td>\n",
       "      <td>9.050000</td>\n",
       "      <td>10.300000</td>\n",
       "      <td>4.000000</td>\n",
       "      <td>2.780000</td>\n",
       "      <td>1.000000</td>\n",
       "    </tr>\n",
       "    <tr>\n",
       "      <td>75%</td>\n",
       "      <td>127.000000</td>\n",
       "      <td>510.000000</td>\n",
       "      <td>20.000000</td>\n",
       "      <td>216.400000</td>\n",
       "      <td>114.000000</td>\n",
       "      <td>36.790000</td>\n",
       "      <td>235.300000</td>\n",
       "      <td>114.000000</td>\n",
       "      <td>20.000000</td>\n",
       "      <td>235.300000</td>\n",
       "      <td>113.000000</td>\n",
       "      <td>10.590000</td>\n",
       "      <td>12.100000</td>\n",
       "      <td>6.000000</td>\n",
       "      <td>3.270000</td>\n",
       "      <td>2.000000</td>\n",
       "    </tr>\n",
       "    <tr>\n",
       "      <td>max</td>\n",
       "      <td>243.000000</td>\n",
       "      <td>510.000000</td>\n",
       "      <td>51.000000</td>\n",
       "      <td>350.800000</td>\n",
       "      <td>165.000000</td>\n",
       "      <td>59.640000</td>\n",
       "      <td>363.700000</td>\n",
       "      <td>170.000000</td>\n",
       "      <td>30.910000</td>\n",
       "      <td>395.000000</td>\n",
       "      <td>175.000000</td>\n",
       "      <td>17.770000</td>\n",
       "      <td>20.000000</td>\n",
       "      <td>20.000000</td>\n",
       "      <td>5.400000</td>\n",
       "      <td>9.000000</td>\n",
       "    </tr>\n",
       "  </tbody>\n",
       "</table>\n",
       "</div>"
      ],
      "text/plain": [
       "       account_length    area_code  number_vmail_messages  total_day_minutes  \\\n",
       "count     3333.000000  3333.000000            3333.000000        3333.000000   \n",
       "mean       101.064806   437.182418               8.099010         179.775098   \n",
       "std         39.822106    42.371290              13.688365          54.467389   \n",
       "min          1.000000   408.000000               0.000000           0.000000   \n",
       "25%         74.000000   408.000000               0.000000         143.700000   \n",
       "50%        101.000000   415.000000               0.000000         179.400000   \n",
       "75%        127.000000   510.000000              20.000000         216.400000   \n",
       "max        243.000000   510.000000              51.000000         350.800000   \n",
       "\n",
       "       total_day_calls  total_day_charge  total_eve_minutes  total_eve_calls  \\\n",
       "count      3333.000000       3333.000000        3333.000000      3333.000000   \n",
       "mean        100.435644         30.562307         200.980348       100.114311   \n",
       "std          20.069084          9.259435          50.713844        19.922625   \n",
       "min           0.000000          0.000000           0.000000         0.000000   \n",
       "25%          87.000000         24.430000         166.600000        87.000000   \n",
       "50%         101.000000         30.500000         201.400000       100.000000   \n",
       "75%         114.000000         36.790000         235.300000       114.000000   \n",
       "max         165.000000         59.640000         363.700000       170.000000   \n",
       "\n",
       "       total_eve_charge  total_night_minutes  total_night_calls  \\\n",
       "count       3333.000000          3333.000000        3333.000000   \n",
       "mean          17.083540           200.872037         100.107711   \n",
       "std            4.310668            50.573847          19.568609   \n",
       "min            0.000000            23.200000          33.000000   \n",
       "25%           14.160000           167.000000          87.000000   \n",
       "50%           17.120000           201.200000         100.000000   \n",
       "75%           20.000000           235.300000         113.000000   \n",
       "max           30.910000           395.000000         175.000000   \n",
       "\n",
       "       total_night_charge  total_intl_minutes  total_intl_calls  \\\n",
       "count         3333.000000         3333.000000       3333.000000   \n",
       "mean             9.039325           10.237294          4.479448   \n",
       "std              2.275873            2.791840          2.461214   \n",
       "min              1.040000            0.000000          0.000000   \n",
       "25%              7.520000            8.500000          3.000000   \n",
       "50%              9.050000           10.300000          4.000000   \n",
       "75%             10.590000           12.100000          6.000000   \n",
       "max             17.770000           20.000000         20.000000   \n",
       "\n",
       "       total_intl_charge  customer_service_calls  \n",
       "count        3333.000000             3333.000000  \n",
       "mean            2.764581                1.562856  \n",
       "std             0.753773                1.315491  \n",
       "min             0.000000                0.000000  \n",
       "25%             2.300000                1.000000  \n",
       "50%             2.780000                1.000000  \n",
       "75%             3.270000                2.000000  \n",
       "max             5.400000                9.000000  "
      ]
     },
     "execution_count": 8,
     "metadata": {},
     "output_type": "execute_result"
    }
   ],
   "source": [
    "df.describe()"
   ]
  },
  {
   "cell_type": "markdown",
   "metadata": {},
   "source": [
    "All values still seem reasonable and no reason to suggest outliers amongst the features yet. "
   ]
  },
  {
   "cell_type": "markdown",
   "metadata": {},
   "source": [
    "### Drop irrelevant features:"
   ]
  },
  {
   "cell_type": "markdown",
   "metadata": {},
   "source": [
    "As mentioned above, it is unlikely that phone number bears any weight in predicting churn, so we drop it from our dataset:"
   ]
  },
  {
   "cell_type": "code",
   "execution_count": 9,
   "metadata": {},
   "outputs": [],
   "source": [
    "df.drop('phone_number', axis = 1, inplace = True)"
   ]
  },
  {
   "cell_type": "markdown",
   "metadata": {},
   "source": [
    "### Explore Features:"
   ]
  },
  {
   "cell_type": "markdown",
   "metadata": {},
   "source": [
    "#### Area Code:\n",
    "\n",
    "Since there were only 3 area codes, it would be interesting to see if there is significant churn within a particular area code or if this column could be dropped from our dataframe."
   ]
  },
  {
   "cell_type": "code",
   "execution_count": 10,
   "metadata": {},
   "outputs": [
    {
     "name": "stdout",
     "output_type": "stream",
     "text": [
      "area_code\n",
      "408    0.145585\n",
      "415    0.142598\n",
      "510    0.148810\n",
      "Name: churn, dtype: float64\n"
     ]
    },
    {
     "data": {
      "image/png": "[encoded data removed]",
      "text/plain": [
       "<Figure size 1080x576 with 1 Axes>"
      ]
     },
     "metadata": {
      "needs_background": "light"
     },
     "output_type": "display_data"
    }
   ],
   "source": [
    "# percentage of churn by area code\n",
    "print(df.groupby([\"area_code\"])['churn'].mean())\n",
    "\n",
    "fig, ax = plt.subplots(figsize = (15, 8))\n",
    "df.groupby(['area_code', 'churn']).size().unstack().plot(kind='bar', stacked=True, ax = ax);\n",
    "plt.title('Number of Customers per Area Code - Split by Churn', fontsize = 25)\n",
    "ax.tick_params(axis = 'both', labelsize = 15)\n",
    "plt.xlabel('Area Code', fontsize = 20)\n",
    "plt.ylabel('# of Customers', fontsize = 20)\n",
    "plt.tight_layout()\n",
    "plt.savefig('figures/cust_area_code.png')"
   ]
  },
  {
   "cell_type": "markdown",
   "metadata": {},
   "source": [
    "We can see here that customer churn is a consistent rate of roughly 14-15% across all three area codes.  Area code 415 has the highest number of customers but still churns the same rate as the other two area codes.  For this reason, we choose to drop area code from our dataset."
   ]
  },
  {
   "cell_type": "code",
   "execution_count": 11,
   "metadata": {},
   "outputs": [],
   "source": [
    "df.drop('area_code', axis = 1, inplace = True)"
   ]
  },
  {
   "cell_type": "markdown",
   "metadata": {},
   "source": [
    "#### Minutes, Charge, Calls\n",
    "\n",
    "It would be safe to assume that minutes/charge/calls columns will probably be related somehow so we inspect their correlation.  We might eventually choose to aggregate some of these features during our modelling process but for our first model we will leave them as is."
   ]
  },
  {
   "cell_type": "code",
   "execution_count": 12,
   "metadata": {},
   "outputs": [],
   "source": [
    "to_drop = ['state', 'account_length', 'international_plan', 'voice_mail_plan', 'number_vmail_messages', 'customer_service_calls', 'churn']"
   ]
  },
  {
   "cell_type": "code",
   "execution_count": 13,
   "metadata": {},
   "outputs": [
    {
     "data": {
      "text/html": [
       "<div>\n",
       "<style scoped>\n",
       "    .dataframe tbody tr th:only-of-type {\n",
       "        vertical-align: middle;\n",
       "    }\n",
       "\n",
       "    .dataframe tbody tr th {\n",
       "        vertical-align: top;\n",
       "    }\n",
       "\n",
       "    .dataframe thead th {\n",
       "        text-align: right;\n",
       "    }\n",
       "</style>\n",
       "<table border=\"1\" class=\"dataframe\">\n",
       "  <thead>\n",
       "    <tr style=\"text-align: right;\">\n",
       "      <th></th>\n",
       "      <th>total_day_minutes</th>\n",
       "      <th>total_day_calls</th>\n",
       "      <th>total_day_charge</th>\n",
       "      <th>total_eve_minutes</th>\n",
       "      <th>total_eve_calls</th>\n",
       "      <th>total_eve_charge</th>\n",
       "      <th>total_night_minutes</th>\n",
       "      <th>total_night_calls</th>\n",
       "      <th>total_night_charge</th>\n",
       "      <th>total_intl_minutes</th>\n",
       "      <th>total_intl_calls</th>\n",
       "      <th>total_intl_charge</th>\n",
       "    </tr>\n",
       "  </thead>\n",
       "  <tbody>\n",
       "    <tr>\n",
       "      <td>0</td>\n",
       "      <td>265.1</td>\n",
       "      <td>110</td>\n",
       "      <td>45.07</td>\n",
       "      <td>197.4</td>\n",
       "      <td>99</td>\n",
       "      <td>16.78</td>\n",
       "      <td>244.7</td>\n",
       "      <td>91</td>\n",
       "      <td>11.01</td>\n",
       "      <td>10.0</td>\n",
       "      <td>3</td>\n",
       "      <td>2.70</td>\n",
       "    </tr>\n",
       "    <tr>\n",
       "      <td>1</td>\n",
       "      <td>161.6</td>\n",
       "      <td>123</td>\n",
       "      <td>27.47</td>\n",
       "      <td>195.5</td>\n",
       "      <td>103</td>\n",
       "      <td>16.62</td>\n",
       "      <td>254.4</td>\n",
       "      <td>103</td>\n",
       "      <td>11.45</td>\n",
       "      <td>13.7</td>\n",
       "      <td>3</td>\n",
       "      <td>3.70</td>\n",
       "    </tr>\n",
       "    <tr>\n",
       "      <td>2</td>\n",
       "      <td>243.4</td>\n",
       "      <td>114</td>\n",
       "      <td>41.38</td>\n",
       "      <td>121.2</td>\n",
       "      <td>110</td>\n",
       "      <td>10.30</td>\n",
       "      <td>162.6</td>\n",
       "      <td>104</td>\n",
       "      <td>7.32</td>\n",
       "      <td>12.2</td>\n",
       "      <td>5</td>\n",
       "      <td>3.29</td>\n",
       "    </tr>\n",
       "    <tr>\n",
       "      <td>3</td>\n",
       "      <td>299.4</td>\n",
       "      <td>71</td>\n",
       "      <td>50.90</td>\n",
       "      <td>61.9</td>\n",
       "      <td>88</td>\n",
       "      <td>5.26</td>\n",
       "      <td>196.9</td>\n",
       "      <td>89</td>\n",
       "      <td>8.86</td>\n",
       "      <td>6.6</td>\n",
       "      <td>7</td>\n",
       "      <td>1.78</td>\n",
       "    </tr>\n",
       "    <tr>\n",
       "      <td>4</td>\n",
       "      <td>166.7</td>\n",
       "      <td>113</td>\n",
       "      <td>28.34</td>\n",
       "      <td>148.3</td>\n",
       "      <td>122</td>\n",
       "      <td>12.61</td>\n",
       "      <td>186.9</td>\n",
       "      <td>121</td>\n",
       "      <td>8.41</td>\n",
       "      <td>10.1</td>\n",
       "      <td>3</td>\n",
       "      <td>2.73</td>\n",
       "    </tr>\n",
       "  </tbody>\n",
       "</table>\n",
       "</div>"
      ],
      "text/plain": [
       "   total_day_minutes  total_day_calls  total_day_charge  total_eve_minutes  \\\n",
       "0              265.1              110             45.07              197.4   \n",
       "1              161.6              123             27.47              195.5   \n",
       "2              243.4              114             41.38              121.2   \n",
       "3              299.4               71             50.90               61.9   \n",
       "4              166.7              113             28.34              148.3   \n",
       "\n",
       "   total_eve_calls  total_eve_charge  total_night_minutes  total_night_calls  \\\n",
       "0               99             16.78                244.7                 91   \n",
       "1              103             16.62                254.4                103   \n",
       "2              110             10.30                162.6                104   \n",
       "3               88              5.26                196.9                 89   \n",
       "4              122             12.61                186.9                121   \n",
       "\n",
       "   total_night_charge  total_intl_minutes  total_intl_calls  total_intl_charge  \n",
       "0               11.01                10.0                 3               2.70  \n",
       "1               11.45                13.7                 3               3.70  \n",
       "2                7.32                12.2                 5               3.29  \n",
       "3                8.86                 6.6                 7               1.78  \n",
       "4                8.41                10.1                 3               2.73  "
      ]
     },
     "execution_count": 13,
     "metadata": {},
     "output_type": "execute_result"
    }
   ],
   "source": [
    "# create df of mins/charge/calls variables to see correlations\n",
    "mins_calls_charge = df.drop(to_drop, axis = 1)\n",
    "mins_calls_charge.head()"
   ]
  },
  {
   "cell_type": "code",
   "execution_count": 14,
   "metadata": {},
   "outputs": [
    {
     "data": {
      "text/html": [
       "<div>\n",
       "<style scoped>\n",
       "    .dataframe tbody tr th:only-of-type {\n",
       "        vertical-align: middle;\n",
       "    }\n",
       "\n",
       "    .dataframe tbody tr th {\n",
       "        vertical-align: top;\n",
       "    }\n",
       "\n",
       "    .dataframe thead th {\n",
       "        text-align: right;\n",
       "    }\n",
       "</style>\n",
       "<table border=\"1\" class=\"dataframe\">\n",
       "  <thead>\n",
       "    <tr style=\"text-align: right;\">\n",
       "      <th></th>\n",
       "      <th>total_day_minutes</th>\n",
       "      <th>total_day_calls</th>\n",
       "      <th>total_day_charge</th>\n",
       "      <th>total_eve_minutes</th>\n",
       "      <th>total_eve_calls</th>\n",
       "      <th>total_eve_charge</th>\n",
       "      <th>total_night_minutes</th>\n",
       "      <th>total_night_calls</th>\n",
       "      <th>total_night_charge</th>\n",
       "      <th>total_intl_minutes</th>\n",
       "      <th>total_intl_calls</th>\n",
       "      <th>total_intl_charge</th>\n",
       "    </tr>\n",
       "  </thead>\n",
       "  <tbody>\n",
       "    <tr>\n",
       "      <td>total_day_minutes</td>\n",
       "      <td>1.000000</td>\n",
       "      <td>0.006750</td>\n",
       "      <td>1.000000</td>\n",
       "      <td>0.007043</td>\n",
       "      <td>0.015769</td>\n",
       "      <td>0.007029</td>\n",
       "      <td>0.004323</td>\n",
       "      <td>0.022972</td>\n",
       "      <td>0.004300</td>\n",
       "      <td>-0.010155</td>\n",
       "      <td>0.008033</td>\n",
       "      <td>-0.010092</td>\n",
       "    </tr>\n",
       "    <tr>\n",
       "      <td>total_day_calls</td>\n",
       "      <td>0.006750</td>\n",
       "      <td>1.000000</td>\n",
       "      <td>0.006753</td>\n",
       "      <td>-0.021451</td>\n",
       "      <td>0.006462</td>\n",
       "      <td>-0.021449</td>\n",
       "      <td>0.022938</td>\n",
       "      <td>-0.019557</td>\n",
       "      <td>0.022927</td>\n",
       "      <td>0.021565</td>\n",
       "      <td>0.004574</td>\n",
       "      <td>0.021666</td>\n",
       "    </tr>\n",
       "    <tr>\n",
       "      <td>total_day_charge</td>\n",
       "      <td>1.000000</td>\n",
       "      <td>0.006753</td>\n",
       "      <td>1.000000</td>\n",
       "      <td>0.007050</td>\n",
       "      <td>0.015769</td>\n",
       "      <td>0.007036</td>\n",
       "      <td>0.004324</td>\n",
       "      <td>0.022972</td>\n",
       "      <td>0.004301</td>\n",
       "      <td>-0.010157</td>\n",
       "      <td>0.008032</td>\n",
       "      <td>-0.010094</td>\n",
       "    </tr>\n",
       "    <tr>\n",
       "      <td>total_eve_minutes</td>\n",
       "      <td>0.007043</td>\n",
       "      <td>-0.021451</td>\n",
       "      <td>0.007050</td>\n",
       "      <td>1.000000</td>\n",
       "      <td>-0.011430</td>\n",
       "      <td>1.000000</td>\n",
       "      <td>-0.012584</td>\n",
       "      <td>0.007586</td>\n",
       "      <td>-0.012593</td>\n",
       "      <td>-0.011035</td>\n",
       "      <td>0.002541</td>\n",
       "      <td>-0.011067</td>\n",
       "    </tr>\n",
       "    <tr>\n",
       "      <td>total_eve_calls</td>\n",
       "      <td>0.015769</td>\n",
       "      <td>0.006462</td>\n",
       "      <td>0.015769</td>\n",
       "      <td>-0.011430</td>\n",
       "      <td>1.000000</td>\n",
       "      <td>-0.011423</td>\n",
       "      <td>-0.002093</td>\n",
       "      <td>0.007710</td>\n",
       "      <td>-0.002056</td>\n",
       "      <td>0.008703</td>\n",
       "      <td>0.017434</td>\n",
       "      <td>0.008674</td>\n",
       "    </tr>\n",
       "    <tr>\n",
       "      <td>total_eve_charge</td>\n",
       "      <td>0.007029</td>\n",
       "      <td>-0.021449</td>\n",
       "      <td>0.007036</td>\n",
       "      <td>1.000000</td>\n",
       "      <td>-0.011423</td>\n",
       "      <td>1.000000</td>\n",
       "      <td>-0.012592</td>\n",
       "      <td>0.007596</td>\n",
       "      <td>-0.012601</td>\n",
       "      <td>-0.011043</td>\n",
       "      <td>0.002541</td>\n",
       "      <td>-0.011074</td>\n",
       "    </tr>\n",
       "    <tr>\n",
       "      <td>total_night_minutes</td>\n",
       "      <td>0.004323</td>\n",
       "      <td>0.022938</td>\n",
       "      <td>0.004324</td>\n",
       "      <td>-0.012584</td>\n",
       "      <td>-0.002093</td>\n",
       "      <td>-0.012592</td>\n",
       "      <td>1.000000</td>\n",
       "      <td>0.011204</td>\n",
       "      <td>0.999999</td>\n",
       "      <td>-0.015207</td>\n",
       "      <td>-0.012353</td>\n",
       "      <td>-0.015180</td>\n",
       "    </tr>\n",
       "    <tr>\n",
       "      <td>total_night_calls</td>\n",
       "      <td>0.022972</td>\n",
       "      <td>-0.019557</td>\n",
       "      <td>0.022972</td>\n",
       "      <td>0.007586</td>\n",
       "      <td>0.007710</td>\n",
       "      <td>0.007596</td>\n",
       "      <td>0.011204</td>\n",
       "      <td>1.000000</td>\n",
       "      <td>0.011188</td>\n",
       "      <td>-0.013605</td>\n",
       "      <td>0.000305</td>\n",
       "      <td>-0.013630</td>\n",
       "    </tr>\n",
       "    <tr>\n",
       "      <td>total_night_charge</td>\n",
       "      <td>0.004300</td>\n",
       "      <td>0.022927</td>\n",
       "      <td>0.004301</td>\n",
       "      <td>-0.012593</td>\n",
       "      <td>-0.002056</td>\n",
       "      <td>-0.012601</td>\n",
       "      <td>0.999999</td>\n",
       "      <td>0.011188</td>\n",
       "      <td>1.000000</td>\n",
       "      <td>-0.015214</td>\n",
       "      <td>-0.012329</td>\n",
       "      <td>-0.015186</td>\n",
       "    </tr>\n",
       "    <tr>\n",
       "      <td>total_intl_minutes</td>\n",
       "      <td>-0.010155</td>\n",
       "      <td>0.021565</td>\n",
       "      <td>-0.010157</td>\n",
       "      <td>-0.011035</td>\n",
       "      <td>0.008703</td>\n",
       "      <td>-0.011043</td>\n",
       "      <td>-0.015207</td>\n",
       "      <td>-0.013605</td>\n",
       "      <td>-0.015214</td>\n",
       "      <td>1.000000</td>\n",
       "      <td>0.032304</td>\n",
       "      <td>0.999993</td>\n",
       "    </tr>\n",
       "    <tr>\n",
       "      <td>total_intl_calls</td>\n",
       "      <td>0.008033</td>\n",
       "      <td>0.004574</td>\n",
       "      <td>0.008032</td>\n",
       "      <td>0.002541</td>\n",
       "      <td>0.017434</td>\n",
       "      <td>0.002541</td>\n",
       "      <td>-0.012353</td>\n",
       "      <td>0.000305</td>\n",
       "      <td>-0.012329</td>\n",
       "      <td>0.032304</td>\n",
       "      <td>1.000000</td>\n",
       "      <td>0.032372</td>\n",
       "    </tr>\n",
       "    <tr>\n",
       "      <td>total_intl_charge</td>\n",
       "      <td>-0.010092</td>\n",
       "      <td>0.021666</td>\n",
       "      <td>-0.010094</td>\n",
       "      <td>-0.011067</td>\n",
       "      <td>0.008674</td>\n",
       "      <td>-0.011074</td>\n",
       "      <td>-0.015180</td>\n",
       "      <td>-0.013630</td>\n",
       "      <td>-0.015186</td>\n",
       "      <td>0.999993</td>\n",
       "      <td>0.032372</td>\n",
       "      <td>1.000000</td>\n",
       "    </tr>\n",
       "  </tbody>\n",
       "</table>\n",
       "</div>"
      ],
      "text/plain": [
       "                     total_day_minutes  total_day_calls  total_day_charge  \\\n",
       "total_day_minutes             1.000000         0.006750          1.000000   \n",
       "total_day_calls               0.006750         1.000000          0.006753   \n",
       "total_day_charge              1.000000         0.006753          1.000000   \n",
       "total_eve_minutes             0.007043        -0.021451          0.007050   \n",
       "total_eve_calls               0.015769         0.006462          0.015769   \n",
       "total_eve_charge              0.007029        -0.021449          0.007036   \n",
       "total_night_minutes           0.004323         0.022938          0.004324   \n",
       "total_night_calls             0.022972        -0.019557          0.022972   \n",
       "total_night_charge            0.004300         0.022927          0.004301   \n",
       "total_intl_minutes           -0.010155         0.021565         -0.010157   \n",
       "total_intl_calls              0.008033         0.004574          0.008032   \n",
       "total_intl_charge            -0.010092         0.021666         -0.010094   \n",
       "\n",
       "                     total_eve_minutes  total_eve_calls  total_eve_charge  \\\n",
       "total_day_minutes             0.007043         0.015769          0.007029   \n",
       "total_day_calls              -0.021451         0.006462         -0.021449   \n",
       "total_day_charge              0.007050         0.015769          0.007036   \n",
       "total_eve_minutes             1.000000        -0.011430          1.000000   \n",
       "total_eve_calls              -0.011430         1.000000         -0.011423   \n",
       "total_eve_charge              1.000000        -0.011423          1.000000   \n",
       "total_night_minutes          -0.012584        -0.002093         -0.012592   \n",
       "total_night_calls             0.007586         0.007710          0.007596   \n",
       "total_night_charge           -0.012593        -0.002056         -0.012601   \n",
       "total_intl_minutes           -0.011035         0.008703         -0.011043   \n",
       "total_intl_calls              0.002541         0.017434          0.002541   \n",
       "total_intl_charge            -0.011067         0.008674         -0.011074   \n",
       "\n",
       "                     total_night_minutes  total_night_calls  \\\n",
       "total_day_minutes               0.004323           0.022972   \n",
       "total_day_calls                 0.022938          -0.019557   \n",
       "total_day_charge                0.004324           0.022972   \n",
       "total_eve_minutes              -0.012584           0.007586   \n",
       "total_eve_calls                -0.002093           0.007710   \n",
       "total_eve_charge               -0.012592           0.007596   \n",
       "total_night_minutes             1.000000           0.011204   \n",
       "total_night_calls               0.011204           1.000000   \n",
       "total_night_charge              0.999999           0.011188   \n",
       "total_intl_minutes             -0.015207          -0.013605   \n",
       "total_intl_calls               -0.012353           0.000305   \n",
       "total_intl_charge              -0.015180          -0.013630   \n",
       "\n",
       "                     total_night_charge  total_intl_minutes  total_intl_calls  \\\n",
       "total_day_minutes              0.004300           -0.010155          0.008033   \n",
       "total_day_calls                0.022927            0.021565          0.004574   \n",
       "total_day_charge               0.004301           -0.010157          0.008032   \n",
       "total_eve_minutes             -0.012593           -0.011035          0.002541   \n",
       "total_eve_calls               -0.002056            0.008703          0.017434   \n",
       "total_eve_charge              -0.012601           -0.011043          0.002541   \n",
       "total_night_minutes            0.999999           -0.015207         -0.012353   \n",
       "total_night_calls              0.011188           -0.013605          0.000305   \n",
       "total_night_charge             1.000000           -0.015214         -0.012329   \n",
       "total_intl_minutes            -0.015214            1.000000          0.032304   \n",
       "total_intl_calls              -0.012329            0.032304          1.000000   \n",
       "total_intl_charge             -0.015186            0.999993          0.032372   \n",
       "\n",
       "                     total_intl_charge  \n",
       "total_day_minutes            -0.010092  \n",
       "total_day_calls               0.021666  \n",
       "total_day_charge             -0.010094  \n",
       "total_eve_minutes            -0.011067  \n",
       "total_eve_calls               0.008674  \n",
       "total_eve_charge             -0.011074  \n",
       "total_night_minutes          -0.015180  \n",
       "total_night_calls            -0.013630  \n",
       "total_night_charge           -0.015186  \n",
       "total_intl_minutes            0.999993  \n",
       "total_intl_calls              0.032372  \n",
       "total_intl_charge             1.000000  "
      ]
     },
     "execution_count": 14,
     "metadata": {},
     "output_type": "execute_result"
    }
   ],
   "source": [
    "# see correlation matrix\n",
    "mins_calls_charge.corr()"
   ]
  },
  {
   "cell_type": "markdown",
   "metadata": {},
   "source": [
    "You can see here that all `*_minutes` and `*_charge` features are perfectly correlated (r = 1).  This is to be expected since charge is usually based on minutes.  For this reason, we may not need to include both the charge and minutes columns, but rather choose just one.  We might also choose to aggregate all the day/eve/night columns into one 'total' column.  As mentioned earlier, for a first simple model, we will leave the features as is, but for later iterations we might choose to aggregate and drop these.  "
   ]
  },
  {
   "cell_type": "markdown",
   "metadata": {},
   "source": [
    "#### International Plan\n",
    "\n",
    "Let's first change `international_plan` into 1's and 0's for easy binary coding. \n",
    "\n",
    "1 will represent that the person has an international plan, while 0 will represent not having an international plan. "
   ]
  },
  {
   "cell_type": "code",
   "execution_count": 15,
   "metadata": {},
   "outputs": [],
   "source": [
    "df.international_plan.replace(('yes', 'no'), (1, 0), inplace = True)"
   ]
  },
  {
   "cell_type": "markdown",
   "metadata": {},
   "source": [
    "#### Voicemail Plan\n",
    "\n",
    "Let's do the same for the `voice_mail_plan` column:"
   ]
  },
  {
   "cell_type": "code",
   "execution_count": 16,
   "metadata": {},
   "outputs": [],
   "source": [
    "df.voice_mail_plan.replace(('yes', 'no'), (1, 0), inplace = True)"
   ]
  },
  {
   "cell_type": "markdown",
   "metadata": {},
   "source": [
    "#### View Current Dataframe:"
   ]
  },
  {
   "cell_type": "code",
   "execution_count": 17,
   "metadata": {},
   "outputs": [
    {
     "data": {
      "text/html": [
       "<div>\n",
       "<style scoped>\n",
       "    .dataframe tbody tr th:only-of-type {\n",
       "        vertical-align: middle;\n",
       "    }\n",
       "\n",
       "    .dataframe tbody tr th {\n",
       "        vertical-align: top;\n",
       "    }\n",
       "\n",
       "    .dataframe thead th {\n",
       "        text-align: right;\n",
       "    }\n",
       "</style>\n",
       "<table border=\"1\" class=\"dataframe\">\n",
       "  <thead>\n",
       "    <tr style=\"text-align: right;\">\n",
       "      <th></th>\n",
       "      <th>state</th>\n",
       "      <th>account_length</th>\n",
       "      <th>international_plan</th>\n",
       "      <th>voice_mail_plan</th>\n",
       "      <th>number_vmail_messages</th>\n",
       "      <th>total_day_minutes</th>\n",
       "      <th>total_day_calls</th>\n",
       "      <th>total_day_charge</th>\n",
       "      <th>total_eve_minutes</th>\n",
       "      <th>total_eve_calls</th>\n",
       "      <th>total_eve_charge</th>\n",
       "      <th>total_night_minutes</th>\n",
       "      <th>total_night_calls</th>\n",
       "      <th>total_night_charge</th>\n",
       "      <th>total_intl_minutes</th>\n",
       "      <th>total_intl_calls</th>\n",
       "      <th>total_intl_charge</th>\n",
       "      <th>customer_service_calls</th>\n",
       "      <th>churn</th>\n",
       "    </tr>\n",
       "  </thead>\n",
       "  <tbody>\n",
       "    <tr>\n",
       "      <td>0</td>\n",
       "      <td>KS</td>\n",
       "      <td>128</td>\n",
       "      <td>0</td>\n",
       "      <td>1</td>\n",
       "      <td>25</td>\n",
       "      <td>265.1</td>\n",
       "      <td>110</td>\n",
       "      <td>45.07</td>\n",
       "      <td>197.4</td>\n",
       "      <td>99</td>\n",
       "      <td>16.78</td>\n",
       "      <td>244.7</td>\n",
       "      <td>91</td>\n",
       "      <td>11.01</td>\n",
       "      <td>10.0</td>\n",
       "      <td>3</td>\n",
       "      <td>2.70</td>\n",
       "      <td>1</td>\n",
       "      <td>False</td>\n",
       "    </tr>\n",
       "    <tr>\n",
       "      <td>1</td>\n",
       "      <td>OH</td>\n",
       "      <td>107</td>\n",
       "      <td>0</td>\n",
       "      <td>1</td>\n",
       "      <td>26</td>\n",
       "      <td>161.6</td>\n",
       "      <td>123</td>\n",
       "      <td>27.47</td>\n",
       "      <td>195.5</td>\n",
       "      <td>103</td>\n",
       "      <td>16.62</td>\n",
       "      <td>254.4</td>\n",
       "      <td>103</td>\n",
       "      <td>11.45</td>\n",
       "      <td>13.7</td>\n",
       "      <td>3</td>\n",
       "      <td>3.70</td>\n",
       "      <td>1</td>\n",
       "      <td>False</td>\n",
       "    </tr>\n",
       "    <tr>\n",
       "      <td>2</td>\n",
       "      <td>NJ</td>\n",
       "      <td>137</td>\n",
       "      <td>0</td>\n",
       "      <td>0</td>\n",
       "      <td>0</td>\n",
       "      <td>243.4</td>\n",
       "      <td>114</td>\n",
       "      <td>41.38</td>\n",
       "      <td>121.2</td>\n",
       "      <td>110</td>\n",
       "      <td>10.30</td>\n",
       "      <td>162.6</td>\n",
       "      <td>104</td>\n",
       "      <td>7.32</td>\n",
       "      <td>12.2</td>\n",
       "      <td>5</td>\n",
       "      <td>3.29</td>\n",
       "      <td>0</td>\n",
       "      <td>False</td>\n",
       "    </tr>\n",
       "    <tr>\n",
       "      <td>3</td>\n",
       "      <td>OH</td>\n",
       "      <td>84</td>\n",
       "      <td>1</td>\n",
       "      <td>0</td>\n",
       "      <td>0</td>\n",
       "      <td>299.4</td>\n",
       "      <td>71</td>\n",
       "      <td>50.90</td>\n",
       "      <td>61.9</td>\n",
       "      <td>88</td>\n",
       "      <td>5.26</td>\n",
       "      <td>196.9</td>\n",
       "      <td>89</td>\n",
       "      <td>8.86</td>\n",
       "      <td>6.6</td>\n",
       "      <td>7</td>\n",
       "      <td>1.78</td>\n",
       "      <td>2</td>\n",
       "      <td>False</td>\n",
       "    </tr>\n",
       "    <tr>\n",
       "      <td>4</td>\n",
       "      <td>OK</td>\n",
       "      <td>75</td>\n",
       "      <td>1</td>\n",
       "      <td>0</td>\n",
       "      <td>0</td>\n",
       "      <td>166.7</td>\n",
       "      <td>113</td>\n",
       "      <td>28.34</td>\n",
       "      <td>148.3</td>\n",
       "      <td>122</td>\n",
       "      <td>12.61</td>\n",
       "      <td>186.9</td>\n",
       "      <td>121</td>\n",
       "      <td>8.41</td>\n",
       "      <td>10.1</td>\n",
       "      <td>3</td>\n",
       "      <td>2.73</td>\n",
       "      <td>3</td>\n",
       "      <td>False</td>\n",
       "    </tr>\n",
       "  </tbody>\n",
       "</table>\n",
       "</div>"
      ],
      "text/plain": [
       "  state  account_length  international_plan  voice_mail_plan  \\\n",
       "0    KS             128                   0                1   \n",
       "1    OH             107                   0                1   \n",
       "2    NJ             137                   0                0   \n",
       "3    OH              84                   1                0   \n",
       "4    OK              75                   1                0   \n",
       "\n",
       "   number_vmail_messages  total_day_minutes  total_day_calls  \\\n",
       "0                     25              265.1              110   \n",
       "1                     26              161.6              123   \n",
       "2                      0              243.4              114   \n",
       "3                      0              299.4               71   \n",
       "4                      0              166.7              113   \n",
       "\n",
       "   total_day_charge  total_eve_minutes  total_eve_calls  total_eve_charge  \\\n",
       "0             45.07              197.4               99             16.78   \n",
       "1             27.47              195.5              103             16.62   \n",
       "2             41.38              121.2              110             10.30   \n",
       "3             50.90               61.9               88              5.26   \n",
       "4             28.34              148.3              122             12.61   \n",
       "\n",
       "   total_night_minutes  total_night_calls  total_night_charge  \\\n",
       "0                244.7                 91               11.01   \n",
       "1                254.4                103               11.45   \n",
       "2                162.6                104                7.32   \n",
       "3                196.9                 89                8.86   \n",
       "4                186.9                121                8.41   \n",
       "\n",
       "   total_intl_minutes  total_intl_calls  total_intl_charge  \\\n",
       "0                10.0                 3               2.70   \n",
       "1                13.7                 3               3.70   \n",
       "2                12.2                 5               3.29   \n",
       "3                 6.6                 7               1.78   \n",
       "4                10.1                 3               2.73   \n",
       "\n",
       "   customer_service_calls  churn  \n",
       "0                       1  False  \n",
       "1                       1  False  \n",
       "2                       0  False  \n",
       "3                       2  False  \n",
       "4                       3  False  "
      ]
     },
     "execution_count": 17,
     "metadata": {},
     "output_type": "execute_result"
    }
   ],
   "source": [
    "df.head()"
   ]
  },
  {
   "cell_type": "markdown",
   "metadata": {},
   "source": [
    "### Explore Target Variable: `churn`"
   ]
  },
  {
   "cell_type": "markdown",
   "metadata": {},
   "source": [
    "Let's inspect the number churned customers in this dataset:"
   ]
  },
  {
   "cell_type": "code",
   "execution_count": 18,
   "metadata": {},
   "outputs": [
    {
     "data": {
      "text/html": [
       "<div>\n",
       "<style scoped>\n",
       "    .dataframe tbody tr th:only-of-type {\n",
       "        vertical-align: middle;\n",
       "    }\n",
       "\n",
       "    .dataframe tbody tr th {\n",
       "        vertical-align: top;\n",
       "    }\n",
       "\n",
       "    .dataframe thead th {\n",
       "        text-align: right;\n",
       "    }\n",
       "</style>\n",
       "<table border=\"1\" class=\"dataframe\">\n",
       "  <thead>\n",
       "    <tr style=\"text-align: right;\">\n",
       "      <th></th>\n",
       "      <th>churn</th>\n",
       "    </tr>\n",
       "  </thead>\n",
       "  <tbody>\n",
       "    <tr>\n",
       "      <td>False</td>\n",
       "      <td>2850</td>\n",
       "    </tr>\n",
       "    <tr>\n",
       "      <td>True</td>\n",
       "      <td>483</td>\n",
       "    </tr>\n",
       "  </tbody>\n",
       "</table>\n",
       "</div>"
      ],
      "text/plain": [
       "       churn\n",
       "False   2850\n",
       "True     483"
      ]
     },
     "execution_count": 18,
     "metadata": {},
     "output_type": "execute_result"
    }
   ],
   "source": [
    "churn_vals = pd.DataFrame(df.churn.value_counts())\n",
    "churn_vals"
   ]
  },
  {
   "cell_type": "markdown",
   "metadata": {},
   "source": [
    "And the proportion of customers who churned - remember, `True` means the customer churned:"
   ]
  },
  {
   "cell_type": "code",
   "execution_count": 19,
   "metadata": {},
   "outputs": [
    {
     "data": {
      "text/html": [
       "<div>\n",
       "<style scoped>\n",
       "    .dataframe tbody tr th:only-of-type {\n",
       "        vertical-align: middle;\n",
       "    }\n",
       "\n",
       "    .dataframe tbody tr th {\n",
       "        vertical-align: top;\n",
       "    }\n",
       "\n",
       "    .dataframe thead th {\n",
       "        text-align: right;\n",
       "    }\n",
       "</style>\n",
       "<table border=\"1\" class=\"dataframe\">\n",
       "  <thead>\n",
       "    <tr style=\"text-align: right;\">\n",
       "      <th></th>\n",
       "      <th>churn</th>\n",
       "    </tr>\n",
       "  </thead>\n",
       "  <tbody>\n",
       "    <tr>\n",
       "      <td>False</td>\n",
       "      <td>0.855086</td>\n",
       "    </tr>\n",
       "    <tr>\n",
       "      <td>True</td>\n",
       "      <td>0.144914</td>\n",
       "    </tr>\n",
       "  </tbody>\n",
       "</table>\n",
       "</div>"
      ],
      "text/plain": [
       "          churn\n",
       "False  0.855086\n",
       "True   0.144914"
      ]
     },
     "execution_count": 19,
     "metadata": {},
     "output_type": "execute_result"
    }
   ],
   "source": [
    "churn_perc = pd.DataFrame(df.churn.value_counts()/len(df.churn))\n",
    "churn_perc"
   ]
  },
  {
   "cell_type": "markdown",
   "metadata": {},
   "source": [
    "#### Visualise:"
   ]
  },
  {
   "cell_type": "code",
   "execution_count": 20,
   "metadata": {},
   "outputs": [
    {
     "data": {
      "image/png": "[encoded data removed]",
      "text/plain": [
       "<Figure size 1080x576 with 1 Axes>"
      ]
     },
     "metadata": {
      "needs_background": "light"
     },
     "output_type": "display_data"
    }
   ],
   "source": [
    "# plot\n",
    "fig, ax = plt.subplots(figsize=(15,8))\n",
    "sns.barplot(x = [0, 1], y = 'churn', data = churn_perc, ax = ax)\n",
    "plt.title('Percentage of Customer Churn', fontsize = 25)\n",
    "ax.tick_params(axis = 'both', labelsize = 15)\n",
    "plt.xlabel('Churn', fontsize = 20)\n",
    "plt.ylabel('Churn Rate', fontsize = 20)\n",
    "ax.set_xticklabels(['No Churn', 'Churn'])\n",
    "plt.tight_layout()\n",
    "plt.savefig('figures/int_plan_churn.png')"
   ]
  },
  {
   "cell_type": "markdown",
   "metadata": {},
   "source": [
    "So we see here the 15% churn rate mentioned earlier. "
   ]
  },
  {
   "cell_type": "markdown",
   "metadata": {},
   "source": [
    "## Prepare Data for Modelling"
   ]
  },
  {
   "cell_type": "markdown",
   "metadata": {},
   "source": [
    "### Create X, y variables:"
   ]
  },
  {
   "cell_type": "code",
   "execution_count": 21,
   "metadata": {},
   "outputs": [],
   "source": [
    "# create X:\n",
    "X = df.drop('churn', axis = 1)\n",
    "\n",
    "# create y:\n",
    "y = df.churn"
   ]
  },
  {
   "cell_type": "markdown",
   "metadata": {},
   "source": [
    "### Train, Test, Split\n",
    "\n",
    "We first split our data into trainig and test sets.  The test set will be saved for our final, best model to test our model on.  We will create a secondary split of our training set for model iteration validation within our modelling helper function."
   ]
  },
  {
   "cell_type": "code",
   "execution_count": 22,
   "metadata": {},
   "outputs": [],
   "source": [
    "# initial split:\n",
    "X_train, X_test, y_train, y_test = train_test_split(X, y, test_size = 0.25, random_state = 42)"
   ]
  },
  {
   "cell_type": "markdown",
   "metadata": {},
   "source": [
    "### One Hot Encode `state`\n",
    "\n",
    "First, we need to dummy out our state column for modelling.  To do this, we will use a one hot encoder."
   ]
  },
  {
   "cell_type": "code",
   "execution_count": 23,
   "metadata": {},
   "outputs": [],
   "source": [
    "# instantiate ohe object\n",
    "ohe = OneHotEncoder(sparse = False, handle_unknown = \"ignore\")\n",
    "\n",
    "# fit ohe on small train data\n",
    "ohe.fit(X_train[['state']])\n",
    "\n",
    "# access the column names of the states\n",
    "col_names = ohe.categories_[0]\n",
    "\n",
    "# make a df with encoded states\n",
    "train_state_encoded = pd.DataFrame(ohe.transform(X_train[[\"state\"]]), \n",
    "                               index = X_train.index, \n",
    "                               columns = col_names)\n",
    "\n",
    "# combine encoded states with X_t and drop old 'state' column\n",
    "X_train = pd.concat([X_train.drop(\"state\", axis = 1), train_state_encoded], axis = 1)"
   ]
  },
  {
   "cell_type": "code",
   "execution_count": 24,
   "metadata": {},
   "outputs": [
    {
     "data": {
      "text/html": [
       "<div>\n",
       "<style scoped>\n",
       "    .dataframe tbody tr th:only-of-type {\n",
       "        vertical-align: middle;\n",
       "    }\n",
       "\n",
       "    .dataframe tbody tr th {\n",
       "        vertical-align: top;\n",
       "    }\n",
       "\n",
       "    .dataframe thead th {\n",
       "        text-align: right;\n",
       "    }\n",
       "</style>\n",
       "<table border=\"1\" class=\"dataframe\">\n",
       "  <thead>\n",
       "    <tr style=\"text-align: right;\">\n",
       "      <th></th>\n",
       "      <th>account_length</th>\n",
       "      <th>international_plan</th>\n",
       "      <th>voice_mail_plan</th>\n",
       "      <th>number_vmail_messages</th>\n",
       "      <th>total_day_minutes</th>\n",
       "      <th>total_day_calls</th>\n",
       "      <th>total_day_charge</th>\n",
       "      <th>total_eve_minutes</th>\n",
       "      <th>total_eve_calls</th>\n",
       "      <th>total_eve_charge</th>\n",
       "      <th>...</th>\n",
       "      <th>SD</th>\n",
       "      <th>TN</th>\n",
       "      <th>TX</th>\n",
       "      <th>UT</th>\n",
       "      <th>VA</th>\n",
       "      <th>VT</th>\n",
       "      <th>WA</th>\n",
       "      <th>WI</th>\n",
       "      <th>WV</th>\n",
       "      <th>WY</th>\n",
       "    </tr>\n",
       "  </thead>\n",
       "  <tbody>\n",
       "    <tr>\n",
       "      <td>367</td>\n",
       "      <td>45</td>\n",
       "      <td>0</td>\n",
       "      <td>0</td>\n",
       "      <td>0</td>\n",
       "      <td>78.2</td>\n",
       "      <td>127</td>\n",
       "      <td>13.29</td>\n",
       "      <td>253.4</td>\n",
       "      <td>108</td>\n",
       "      <td>21.54</td>\n",
       "      <td>...</td>\n",
       "      <td>0.0</td>\n",
       "      <td>0.0</td>\n",
       "      <td>0.0</td>\n",
       "      <td>0.0</td>\n",
       "      <td>0.0</td>\n",
       "      <td>0.0</td>\n",
       "      <td>0.0</td>\n",
       "      <td>0.0</td>\n",
       "      <td>0.0</td>\n",
       "      <td>0.0</td>\n",
       "    </tr>\n",
       "    <tr>\n",
       "      <td>3103</td>\n",
       "      <td>115</td>\n",
       "      <td>0</td>\n",
       "      <td>0</td>\n",
       "      <td>0</td>\n",
       "      <td>195.9</td>\n",
       "      <td>111</td>\n",
       "      <td>33.30</td>\n",
       "      <td>227.0</td>\n",
       "      <td>108</td>\n",
       "      <td>19.30</td>\n",
       "      <td>...</td>\n",
       "      <td>0.0</td>\n",
       "      <td>0.0</td>\n",
       "      <td>0.0</td>\n",
       "      <td>0.0</td>\n",
       "      <td>0.0</td>\n",
       "      <td>0.0</td>\n",
       "      <td>0.0</td>\n",
       "      <td>0.0</td>\n",
       "      <td>0.0</td>\n",
       "      <td>0.0</td>\n",
       "    </tr>\n",
       "    <tr>\n",
       "      <td>549</td>\n",
       "      <td>121</td>\n",
       "      <td>0</td>\n",
       "      <td>1</td>\n",
       "      <td>31</td>\n",
       "      <td>237.1</td>\n",
       "      <td>63</td>\n",
       "      <td>40.31</td>\n",
       "      <td>205.6</td>\n",
       "      <td>117</td>\n",
       "      <td>17.48</td>\n",
       "      <td>...</td>\n",
       "      <td>0.0</td>\n",
       "      <td>0.0</td>\n",
       "      <td>0.0</td>\n",
       "      <td>0.0</td>\n",
       "      <td>0.0</td>\n",
       "      <td>0.0</td>\n",
       "      <td>0.0</td>\n",
       "      <td>0.0</td>\n",
       "      <td>0.0</td>\n",
       "      <td>0.0</td>\n",
       "    </tr>\n",
       "    <tr>\n",
       "      <td>2531</td>\n",
       "      <td>180</td>\n",
       "      <td>0</td>\n",
       "      <td>0</td>\n",
       "      <td>0</td>\n",
       "      <td>143.3</td>\n",
       "      <td>134</td>\n",
       "      <td>24.36</td>\n",
       "      <td>180.5</td>\n",
       "      <td>113</td>\n",
       "      <td>15.34</td>\n",
       "      <td>...</td>\n",
       "      <td>0.0</td>\n",
       "      <td>0.0</td>\n",
       "      <td>0.0</td>\n",
       "      <td>0.0</td>\n",
       "      <td>0.0</td>\n",
       "      <td>0.0</td>\n",
       "      <td>0.0</td>\n",
       "      <td>0.0</td>\n",
       "      <td>0.0</td>\n",
       "      <td>0.0</td>\n",
       "    </tr>\n",
       "    <tr>\n",
       "      <td>2378</td>\n",
       "      <td>112</td>\n",
       "      <td>0</td>\n",
       "      <td>0</td>\n",
       "      <td>0</td>\n",
       "      <td>206.2</td>\n",
       "      <td>122</td>\n",
       "      <td>35.05</td>\n",
       "      <td>164.5</td>\n",
       "      <td>94</td>\n",
       "      <td>13.98</td>\n",
       "      <td>...</td>\n",
       "      <td>0.0</td>\n",
       "      <td>0.0</td>\n",
       "      <td>0.0</td>\n",
       "      <td>0.0</td>\n",
       "      <td>0.0</td>\n",
       "      <td>0.0</td>\n",
       "      <td>0.0</td>\n",
       "      <td>0.0</td>\n",
       "      <td>0.0</td>\n",
       "      <td>0.0</td>\n",
       "    </tr>\n",
       "  </tbody>\n",
       "</table>\n",
       "<p>5 rows × 68 columns</p>\n",
       "</div>"
      ],
      "text/plain": [
       "      account_length  international_plan  voice_mail_plan  \\\n",
       "367               45                   0                0   \n",
       "3103             115                   0                0   \n",
       "549              121                   0                1   \n",
       "2531             180                   0                0   \n",
       "2378             112                   0                0   \n",
       "\n",
       "      number_vmail_messages  total_day_minutes  total_day_calls  \\\n",
       "367                       0               78.2              127   \n",
       "3103                      0              195.9              111   \n",
       "549                      31              237.1               63   \n",
       "2531                      0              143.3              134   \n",
       "2378                      0              206.2              122   \n",
       "\n",
       "      total_day_charge  total_eve_minutes  total_eve_calls  total_eve_charge  \\\n",
       "367              13.29              253.4              108             21.54   \n",
       "3103             33.30              227.0              108             19.30   \n",
       "549              40.31              205.6              117             17.48   \n",
       "2531             24.36              180.5              113             15.34   \n",
       "2378             35.05              164.5               94             13.98   \n",
       "\n",
       "      ...   SD   TN   TX   UT   VA   VT   WA   WI   WV   WY  \n",
       "367   ...  0.0  0.0  0.0  0.0  0.0  0.0  0.0  0.0  0.0  0.0  \n",
       "3103  ...  0.0  0.0  0.0  0.0  0.0  0.0  0.0  0.0  0.0  0.0  \n",
       "549   ...  0.0  0.0  0.0  0.0  0.0  0.0  0.0  0.0  0.0  0.0  \n",
       "2531  ...  0.0  0.0  0.0  0.0  0.0  0.0  0.0  0.0  0.0  0.0  \n",
       "2378  ...  0.0  0.0  0.0  0.0  0.0  0.0  0.0  0.0  0.0  0.0  \n",
       "\n",
       "[5 rows x 68 columns]"
      ]
     },
     "execution_count": 24,
     "metadata": {},
     "output_type": "execute_result"
    }
   ],
   "source": [
    "# preview our small training data:\n",
    "X_train.head()"
   ]
  },
  {
   "cell_type": "markdown",
   "metadata": {},
   "source": [
    "We will now perform our first simple model."
   ]
  },
  {
   "cell_type": "markdown",
   "metadata": {},
   "source": [
    "## FSM:  Decision Tree Classifier"
   ]
  },
  {
   "cell_type": "markdown",
   "metadata": {},
   "source": [
    "For our first simple model, we will fit a vanilla Decision Tree Classifier to the `X_t` data.  We will set the `max_depth` to 5 to try to avoid overfitting, but apart from that, we will keep all the defaults.  \n",
    "\n",
    "A helper function has been made to help with the modelling process that takes the large `X_train`, `y_train` split, splits it again using kfolds, scales the `x_t` and `x_val` data and then fits the specified model, calculates the recall score and shows a graph of the feature importance of the model."
   ]
  },
  {
   "cell_type": "code",
   "execution_count": 25,
   "metadata": {},
   "outputs": [
    {
     "name": "stdout",
     "output_type": "stream",
     "text": [
      "Validation recall scores: [0.7605633802816901, 0.7808219178082192, 0.6865671641791045, 0.7313432835820896, 0.725]\n",
      "Mean validation recall score:  0.7368591491702207\n",
      "[[386  33]\n",
      " [ 22  58]]\n"
     ]
    }
   ],
   "source": [
    "fsm = DecisionTreeClassifier(max_depth = 5, random_state = 42)\n",
    "m.scale_balance_model(X_train, y_train, fsm)"
   ]
  },
  {
   "cell_type": "markdown",
   "metadata": {},
   "source": [
    "Our first recall score for our first model is `0.737` - this isn't a terrible score for a first model but let's visualise the feature importance of this model to see how this model may have been greedy to certain information gain."
   ]
  },
  {
   "cell_type": "markdown",
   "metadata": {},
   "source": [
    "From the confusion matrix here we can see our model predicts 22 false negatives.  That is, out of all the predictions, 4.4% of predictions were false negatives.  This is the number we hope to reduce in our modelling.  While we have decided to focus mostly on false negatives, the false positives that this model predicts is also fairly high.  Ideally, we would like to reduce both of these as much as possible.  "
   ]
  },
  {
   "cell_type": "code",
   "execution_count": 26,
   "metadata": {},
   "outputs": [
    {
     "data": {
      "image/png": "[encoded data removed]",
      "text/plain": [
       "<Figure size 1080x1440 with 1 Axes>"
      ]
     },
     "metadata": {
      "needs_background": "light"
     },
     "output_type": "display_data"
    }
   ],
   "source": [
    "n_features = fsm.n_features_\n",
    "plt.figure(figsize=(15, 20))\n",
    "plt.barh(range(n_features), fsm.feature_importances_);\n",
    "plt.yticks(np.arange(n_features), X_train.columns.values, fontsize = 12) \n",
    "plt.xlabel('Feature importance', fontsize = 20)\n",
    "plt.ylabel('Feature', fontsize = 20)\n",
    "plt.title('FSM Feature Importance', fontsize = 20)\n",
    "plt.tight_layout()\n",
    "plt.savefig('figures/fsm_feat_import.png')"
   ]
  },
  {
   "cell_type": "markdown",
   "metadata": {},
   "source": [
    "We can see from this feature importance graph that there are three features that the model is weighing more heavily:\n",
    "- `international_plan`\n",
    "- `total_day_charge`\n",
    "- `customer_service_calls`\n",
    "\n",
    "Little to no weight has been given to the states.  "
   ]
  },
  {
   "cell_type": "markdown",
   "metadata": {},
   "source": [
    "This model leads us to return to our EDA and explore location and these three features to see how churn plays our with these 4 features."
   ]
  },
  {
   "cell_type": "markdown",
   "metadata": {},
   "source": [
    "#### Class Balance"
   ]
  },
  {
   "cell_type": "markdown",
   "metadata": {},
   "source": [
    "Let's check the class balance of our training data to see if we should implement balancing in future models:"
   ]
  },
  {
   "cell_type": "code",
   "execution_count": 27,
   "metadata": {},
   "outputs": [
    {
     "data": {
      "text/plain": [
       "False    2141\n",
       "True      358\n",
       "Name: churn, dtype: int64"
      ]
     },
     "execution_count": 27,
     "metadata": {},
     "output_type": "execute_result"
    }
   ],
   "source": [
    "y_train.value_counts()"
   ]
  },
  {
   "cell_type": "markdown",
   "metadata": {},
   "source": [
    "So we can see here that we do have a class imbalance issue so we will want to ensure that our future models balance the data accodingly. \n",
    "\n",
    "We will also implement scaling in future models."
   ]
  },
  {
   "cell_type": "markdown",
   "metadata": {},
   "source": [
    "## Return to EDA: Important Features from FSM\n",
    "\n",
    "Let's first take a look at the feature correlations with churn to see if this matches what we see in our FSM."
   ]
  },
  {
   "cell_type": "code",
   "execution_count": 28,
   "metadata": {},
   "outputs": [
    {
     "data": {
      "text/plain": [
       "churn                     1.000000\n",
       "international_plan        0.259852\n",
       "customer_service_calls    0.208750\n",
       "total_day_minutes         0.205151\n",
       "total_day_charge          0.205151\n",
       "total_eve_minutes         0.092796\n",
       "total_eve_charge          0.092786\n",
       "total_intl_charge         0.068259\n",
       "total_intl_minutes        0.068239\n",
       "total_night_charge        0.035496\n",
       "total_night_minutes       0.035493\n",
       "total_day_calls           0.018459\n",
       "account_length            0.016541\n",
       "total_eve_calls           0.009233\n",
       "total_night_calls         0.006141\n",
       "total_intl_calls         -0.052844\n",
       "number_vmail_messages    -0.089728\n",
       "voice_mail_plan          -0.102148\n",
       "Name: churn, dtype: float64"
      ]
     },
     "execution_count": 28,
     "metadata": {},
     "output_type": "execute_result"
    }
   ],
   "source": [
    "# correlations with churn\n",
    "df.corr().churn.sort_values(ascending = False)"
   ]
  },
  {
   "cell_type": "markdown",
   "metadata": {},
   "source": [
    "We find the same results - the three features that were highlighted in our model also are the most highly correlated with churn. \n",
    "\n",
    "Let's visualise these three features further."
   ]
  },
  {
   "cell_type": "markdown",
   "metadata": {},
   "source": [
    "### International Plan"
   ]
  },
  {
   "cell_type": "code",
   "execution_count": 29,
   "metadata": {},
   "outputs": [
    {
     "data": {
      "text/html": [
       "<div>\n",
       "<style scoped>\n",
       "    .dataframe tbody tr th:only-of-type {\n",
       "        vertical-align: middle;\n",
       "    }\n",
       "\n",
       "    .dataframe tbody tr th {\n",
       "        vertical-align: top;\n",
       "    }\n",
       "\n",
       "    .dataframe thead th {\n",
       "        text-align: right;\n",
       "    }\n",
       "</style>\n",
       "<table border=\"1\" class=\"dataframe\">\n",
       "  <thead>\n",
       "    <tr style=\"text-align: right;\">\n",
       "      <th></th>\n",
       "      <th>churn</th>\n",
       "    </tr>\n",
       "    <tr>\n",
       "      <th>international_plan</th>\n",
       "      <th></th>\n",
       "    </tr>\n",
       "  </thead>\n",
       "  <tbody>\n",
       "    <tr>\n",
       "      <td>0</td>\n",
       "      <td>0.114950</td>\n",
       "    </tr>\n",
       "    <tr>\n",
       "      <td>1</td>\n",
       "      <td>0.424149</td>\n",
       "    </tr>\n",
       "  </tbody>\n",
       "</table>\n",
       "</div>"
      ],
      "text/plain": [
       "                       churn\n",
       "international_plan          \n",
       "0                   0.114950\n",
       "1                   0.424149"
      ]
     },
     "execution_count": 29,
     "metadata": {},
     "output_type": "execute_result"
    }
   ],
   "source": [
    "int_plan_churn = pd.DataFrame(df.groupby(['international_plan'])['churn'].mean())\n",
    "int_plan_churn"
   ]
  },
  {
   "cell_type": "code",
   "execution_count": 30,
   "metadata": {},
   "outputs": [
    {
     "data": {
      "image/png": "[encoded data removed]",
      "text/plain": [
       "<Figure size 1080x576 with 1 Axes>"
      ]
     },
     "metadata": {
      "needs_background": "light"
     },
     "output_type": "display_data"
    }
   ],
   "source": [
    "# plot\n",
    "fig, ax = plt.subplots(figsize=(15,8))\n",
    "sns.barplot(x = [0, 1], y = 'churn', data = int_plan_churn, ax = ax)\n",
    "plt.title('Percentage of Customer Churn for International Plan Holders', fontsize = 25)\n",
    "ax.tick_params(axis = 'both', labelsize = 15)\n",
    "plt.xlabel('International Plan True/False', fontsize = 20)\n",
    "plt.ylabel('Churn Rate', fontsize = 20)\n",
    "ax.set_xticklabels(['No International Plan', 'Has International Plan'])\n",
    "plt.tight_layout()\n",
    "plt.savefig('figures/int_plan_churn.png')"
   ]
  },
  {
   "cell_type": "markdown",
   "metadata": {},
   "source": [
    "So it appears that international plan holders is a deterministic factor of churn.  Roughly 42% of customers with an international plan end up churning.\n",
    "\n",
    "Further investigation into retention efforts for international plan holders might be a worthwhile effort. "
   ]
  },
  {
   "cell_type": "markdown",
   "metadata": {},
   "source": [
    "### Customer Service Calls"
   ]
  },
  {
   "cell_type": "markdown",
   "metadata": {},
   "source": [
    "Let's visualise in the same way the customer service calls data in relation to churn:"
   ]
  },
  {
   "cell_type": "code",
   "execution_count": 31,
   "metadata": {},
   "outputs": [
    {
     "data": {
      "text/html": [
       "<div>\n",
       "<style scoped>\n",
       "    .dataframe tbody tr th:only-of-type {\n",
       "        vertical-align: middle;\n",
       "    }\n",
       "\n",
       "    .dataframe tbody tr th {\n",
       "        vertical-align: top;\n",
       "    }\n",
       "\n",
       "    .dataframe thead th {\n",
       "        text-align: right;\n",
       "    }\n",
       "</style>\n",
       "<table border=\"1\" class=\"dataframe\">\n",
       "  <thead>\n",
       "    <tr style=\"text-align: right;\">\n",
       "      <th></th>\n",
       "      <th>churn</th>\n",
       "    </tr>\n",
       "    <tr>\n",
       "      <th>customer_service_calls</th>\n",
       "      <th></th>\n",
       "    </tr>\n",
       "  </thead>\n",
       "  <tbody>\n",
       "    <tr>\n",
       "      <td>0</td>\n",
       "      <td>0.131994</td>\n",
       "    </tr>\n",
       "    <tr>\n",
       "      <td>1</td>\n",
       "      <td>0.103302</td>\n",
       "    </tr>\n",
       "    <tr>\n",
       "      <td>2</td>\n",
       "      <td>0.114625</td>\n",
       "    </tr>\n",
       "    <tr>\n",
       "      <td>3</td>\n",
       "      <td>0.102564</td>\n",
       "    </tr>\n",
       "    <tr>\n",
       "      <td>4</td>\n",
       "      <td>0.457831</td>\n",
       "    </tr>\n",
       "    <tr>\n",
       "      <td>5</td>\n",
       "      <td>0.606061</td>\n",
       "    </tr>\n",
       "    <tr>\n",
       "      <td>6</td>\n",
       "      <td>0.636364</td>\n",
       "    </tr>\n",
       "    <tr>\n",
       "      <td>7</td>\n",
       "      <td>0.555556</td>\n",
       "    </tr>\n",
       "    <tr>\n",
       "      <td>8</td>\n",
       "      <td>0.500000</td>\n",
       "    </tr>\n",
       "    <tr>\n",
       "      <td>9</td>\n",
       "      <td>1.000000</td>\n",
       "    </tr>\n",
       "  </tbody>\n",
       "</table>\n",
       "</div>"
      ],
      "text/plain": [
       "                           churn\n",
       "customer_service_calls          \n",
       "0                       0.131994\n",
       "1                       0.103302\n",
       "2                       0.114625\n",
       "3                       0.102564\n",
       "4                       0.457831\n",
       "5                       0.606061\n",
       "6                       0.636364\n",
       "7                       0.555556\n",
       "8                       0.500000\n",
       "9                       1.000000"
      ]
     },
     "execution_count": 31,
     "metadata": {},
     "output_type": "execute_result"
    }
   ],
   "source": [
    "csc = pd.DataFrame(df.groupby(['customer_service_calls'])['churn'].mean())\n",
    "csc"
   ]
  },
  {
   "cell_type": "code",
   "execution_count": 32,
   "metadata": {},
   "outputs": [
    {
     "data": {
      "image/png": "[encoded data removed]",
      "text/plain": [
       "<Figure size 1080x576 with 1 Axes>"
      ]
     },
     "metadata": {
      "needs_background": "light"
     },
     "output_type": "display_data"
    }
   ],
   "source": [
    "fig, ax = plt.subplots(figsize=(15,8))\n",
    "sns.barplot(x = [0, 1, 2, 3, 4, 5, 6, 7, 8, 9], y = 'churn', data = csc, ax = ax)\n",
    "plt.title('Percentage of Customer Churn based on Num. of Customer Service calls', fontsize = 25)\n",
    "ax.tick_params(axis = 'both', labelsize = 15)\n",
    "plt.xlabel('# Customer Service Calls Made', fontsize = 20)\n",
    "plt.ylabel('Churn Rate', fontsize = 20)\n",
    "plt.tight_layout()\n",
    "plt.savefig('figures/cust_serv_call_churn.png')"
   ]
  },
  {
   "cell_type": "markdown",
   "metadata": {},
   "source": [
    "There appears to be a huge spike in the rate of churn for customers who make 4 or more calls to customer service.  Customers who make this many calls to customer service have a churn rate over 40%.  Further investigation should be devoted to looking into the other characteristics of these customers to find out why there was a need to make this many calls to customer service and how the company could better assist these customers."
   ]
  },
  {
   "cell_type": "markdown",
   "metadata": {},
   "source": [
    "### Total Day Charge\n",
    "\n",
    "We saw earlier that total day charge and total day minutes are perfectly correlated.  For this reason, insights found on total day charge would also relate to total day minutes.  One of these columns could be dropped from our model."
   ]
  },
  {
   "cell_type": "markdown",
   "metadata": {},
   "source": [
    "Let's view the distribution of this feature to inspect for potential outliers or abnormalities:"
   ]
  },
  {
   "cell_type": "code",
   "execution_count": 33,
   "metadata": {},
   "outputs": [
    {
     "data": {
      "image/png": "[encoded data removed]",
      "text/plain": [
       "<Figure size 1080x576 with 1 Axes>"
      ]
     },
     "metadata": {
      "needs_background": "light"
     },
     "output_type": "display_data"
    }
   ],
   "source": [
    "fig, ax = plt.subplots(figsize=(15,8))\n",
    "plt.title('Distribution of Total Day Charge', fontsize = 25)\n",
    "sns.distplot(df.total_day_charge, ax = ax)\n",
    "ax.tick_params(axis = 'both', labelsize = 15)\n",
    "plt.xlabel('Total Day Charge', fontsize = 20)\n",
    "plt.tight_layout()\n",
    "plt.savefig('figures/tot_day_charge_dist.png')"
   ]
  },
  {
   "cell_type": "markdown",
   "metadata": {},
   "source": [
    "This is almost a perfect normal distribution and so we don't detect any unusual activity or outliers for total day charge."
   ]
  },
  {
   "cell_type": "code",
   "execution_count": 34,
   "metadata": {},
   "outputs": [
    {
     "data": {
      "text/html": [
       "<div>\n",
       "<style scoped>\n",
       "    .dataframe tbody tr th:only-of-type {\n",
       "        vertical-align: middle;\n",
       "    }\n",
       "\n",
       "    .dataframe tbody tr th {\n",
       "        vertical-align: top;\n",
       "    }\n",
       "\n",
       "    .dataframe thead th {\n",
       "        text-align: right;\n",
       "    }\n",
       "</style>\n",
       "<table border=\"1\" class=\"dataframe\">\n",
       "  <thead>\n",
       "    <tr style=\"text-align: right;\">\n",
       "      <th></th>\n",
       "      <th>churn</th>\n",
       "    </tr>\n",
       "    <tr>\n",
       "      <th>total_day_charge</th>\n",
       "      <th></th>\n",
       "    </tr>\n",
       "  </thead>\n",
       "  <tbody>\n",
       "    <tr>\n",
       "      <td>0.00</td>\n",
       "      <td>0.5</td>\n",
       "    </tr>\n",
       "    <tr>\n",
       "      <td>0.44</td>\n",
       "      <td>0.0</td>\n",
       "    </tr>\n",
       "    <tr>\n",
       "      <td>1.33</td>\n",
       "      <td>0.0</td>\n",
       "    </tr>\n",
       "    <tr>\n",
       "      <td>1.34</td>\n",
       "      <td>0.0</td>\n",
       "    </tr>\n",
       "    <tr>\n",
       "      <td>2.13</td>\n",
       "      <td>0.0</td>\n",
       "    </tr>\n",
       "    <tr>\n",
       "      <td>...</td>\n",
       "      <td>...</td>\n",
       "    </tr>\n",
       "    <tr>\n",
       "      <td>57.04</td>\n",
       "      <td>1.0</td>\n",
       "    </tr>\n",
       "    <tr>\n",
       "      <td>57.36</td>\n",
       "      <td>1.0</td>\n",
       "    </tr>\n",
       "    <tr>\n",
       "      <td>58.70</td>\n",
       "      <td>1.0</td>\n",
       "    </tr>\n",
       "    <tr>\n",
       "      <td>58.96</td>\n",
       "      <td>1.0</td>\n",
       "    </tr>\n",
       "    <tr>\n",
       "      <td>59.64</td>\n",
       "      <td>1.0</td>\n",
       "    </tr>\n",
       "  </tbody>\n",
       "</table>\n",
       "<p>1667 rows × 1 columns</p>\n",
       "</div>"
      ],
      "text/plain": [
       "                  churn\n",
       "total_day_charge       \n",
       "0.00                0.5\n",
       "0.44                0.0\n",
       "1.33                0.0\n",
       "1.34                0.0\n",
       "2.13                0.0\n",
       "...                 ...\n",
       "57.04               1.0\n",
       "57.36               1.0\n",
       "58.70               1.0\n",
       "58.96               1.0\n",
       "59.64               1.0\n",
       "\n",
       "[1667 rows x 1 columns]"
      ]
     },
     "execution_count": 34,
     "metadata": {},
     "output_type": "execute_result"
    }
   ],
   "source": [
    "tdc = pd.DataFrame(df.groupby(['total_day_charge'])['churn'].mean())\n",
    "tdc"
   ]
  },
  {
   "cell_type": "markdown",
   "metadata": {},
   "source": [
    "![image.png](figures/dis_charge_100.png)"
   ]
  },
  {
   "cell_type": "markdown",
   "metadata": {},
   "source": [
    "We can see from this plot here than customers with total day charges of over roughly $55 have a 100% rate of churn.  Perhaps the company could investigate ways to incentivise these particular customers to stay with some added value perks."
   ]
  },
  {
   "cell_type": "markdown",
   "metadata": {},
   "source": [
    "Let's inspect the above from our sub-dataframe of total day charge churn rates:"
   ]
  },
  {
   "cell_type": "code",
   "execution_count": 35,
   "metadata": {},
   "outputs": [],
   "source": [
    "tdc['churn_rate'] = tdc['churn'] * 100"
   ]
  },
  {
   "cell_type": "code",
   "execution_count": 36,
   "metadata": {},
   "outputs": [
    {
     "data": {
      "text/html": [
       "<div>\n",
       "<style scoped>\n",
       "    .dataframe tbody tr th:only-of-type {\n",
       "        vertical-align: middle;\n",
       "    }\n",
       "\n",
       "    .dataframe tbody tr th {\n",
       "        vertical-align: top;\n",
       "    }\n",
       "\n",
       "    .dataframe thead th {\n",
       "        text-align: right;\n",
       "    }\n",
       "</style>\n",
       "<table border=\"1\" class=\"dataframe\">\n",
       "  <thead>\n",
       "    <tr style=\"text-align: right;\">\n",
       "      <th></th>\n",
       "      <th>churn_rate</th>\n",
       "    </tr>\n",
       "    <tr>\n",
       "      <th>total_day_charge</th>\n",
       "      <th></th>\n",
       "    </tr>\n",
       "  </thead>\n",
       "  <tbody>\n",
       "    <tr>\n",
       "      <td>53.65</td>\n",
       "      <td>0.0</td>\n",
       "    </tr>\n",
       "    <tr>\n",
       "      <td>54.03</td>\n",
       "      <td>100.0</td>\n",
       "    </tr>\n",
       "    <tr>\n",
       "      <td>54.59</td>\n",
       "      <td>100.0</td>\n",
       "    </tr>\n",
       "    <tr>\n",
       "      <td>54.62</td>\n",
       "      <td>100.0</td>\n",
       "    </tr>\n",
       "    <tr>\n",
       "      <td>54.67</td>\n",
       "      <td>100.0</td>\n",
       "    </tr>\n",
       "    <tr>\n",
       "      <td>54.79</td>\n",
       "      <td>100.0</td>\n",
       "    </tr>\n",
       "    <tr>\n",
       "      <td>54.81</td>\n",
       "      <td>100.0</td>\n",
       "    </tr>\n",
       "    <tr>\n",
       "      <td>54.83</td>\n",
       "      <td>100.0</td>\n",
       "    </tr>\n",
       "    <tr>\n",
       "      <td>55.20</td>\n",
       "      <td>100.0</td>\n",
       "    </tr>\n",
       "    <tr>\n",
       "      <td>55.47</td>\n",
       "      <td>100.0</td>\n",
       "    </tr>\n",
       "    <tr>\n",
       "      <td>55.51</td>\n",
       "      <td>100.0</td>\n",
       "    </tr>\n",
       "    <tr>\n",
       "      <td>55.78</td>\n",
       "      <td>100.0</td>\n",
       "    </tr>\n",
       "    <tr>\n",
       "      <td>56.07</td>\n",
       "      <td>100.0</td>\n",
       "    </tr>\n",
       "    <tr>\n",
       "      <td>56.59</td>\n",
       "      <td>100.0</td>\n",
       "    </tr>\n",
       "    <tr>\n",
       "      <td>56.83</td>\n",
       "      <td>100.0</td>\n",
       "    </tr>\n",
       "    <tr>\n",
       "      <td>57.04</td>\n",
       "      <td>100.0</td>\n",
       "    </tr>\n",
       "    <tr>\n",
       "      <td>57.36</td>\n",
       "      <td>100.0</td>\n",
       "    </tr>\n",
       "    <tr>\n",
       "      <td>58.70</td>\n",
       "      <td>100.0</td>\n",
       "    </tr>\n",
       "    <tr>\n",
       "      <td>58.96</td>\n",
       "      <td>100.0</td>\n",
       "    </tr>\n",
       "    <tr>\n",
       "      <td>59.64</td>\n",
       "      <td>100.0</td>\n",
       "    </tr>\n",
       "  </tbody>\n",
       "</table>\n",
       "</div>"
      ],
      "text/plain": [
       "                  churn_rate\n",
       "total_day_charge            \n",
       "53.65                    0.0\n",
       "54.03                  100.0\n",
       "54.59                  100.0\n",
       "54.62                  100.0\n",
       "54.67                  100.0\n",
       "54.79                  100.0\n",
       "54.81                  100.0\n",
       "54.83                  100.0\n",
       "55.20                  100.0\n",
       "55.47                  100.0\n",
       "55.51                  100.0\n",
       "55.78                  100.0\n",
       "56.07                  100.0\n",
       "56.59                  100.0\n",
       "56.83                  100.0\n",
       "57.04                  100.0\n",
       "57.36                  100.0\n",
       "58.70                  100.0\n",
       "58.96                  100.0\n",
       "59.64                  100.0"
      ]
     },
     "execution_count": 36,
     "metadata": {},
     "output_type": "execute_result"
    }
   ],
   "source": [
    "tdc.drop('churn', axis = 1).iloc[-20:]"
   ]
  },
  {
   "cell_type": "markdown",
   "metadata": {},
   "source": [
    "So again, we see more specifically that all users who had a total day charge of $54.03 or more left the company."
   ]
  },
  {
   "cell_type": "markdown",
   "metadata": {},
   "source": [
    "### State\n",
    "\n",
    "Since none of the states were highlighted as important in the FSM, let's investigate to see if there is much of a difference in churn between states or if it is relatively even across the country."
   ]
  },
  {
   "cell_type": "code",
   "execution_count": 37,
   "metadata": {},
   "outputs": [
    {
     "data": {
      "text/plain": [
       "state\n",
       "CA    0.264706\n",
       "NJ    0.264706\n",
       "TX    0.250000\n",
       "MD    0.242857\n",
       "SC    0.233333\n",
       "MI    0.219178\n",
       "MS    0.215385\n",
       "NV    0.212121\n",
       "WA    0.212121\n",
       "ME    0.209677\n",
       "MT    0.205882\n",
       "AR    0.200000\n",
       "KS    0.185714\n",
       "NY    0.180723\n",
       "MN    0.178571\n",
       "PA    0.177778\n",
       "MA    0.169231\n",
       "CT    0.162162\n",
       "NC    0.161765\n",
       "NH    0.160714\n",
       "GA    0.148148\n",
       "DE    0.147541\n",
       "OK    0.147541\n",
       "OR    0.141026\n",
       "UT    0.138889\n",
       "CO    0.136364\n",
       "KY    0.135593\n",
       "SD    0.133333\n",
       "OH    0.128205\n",
       "FL    0.126984\n",
       "IN    0.126761\n",
       "ID    0.123288\n",
       "WY    0.116883\n",
       "MO    0.111111\n",
       "VT    0.109589\n",
       "AL    0.100000\n",
       "ND    0.096774\n",
       "NM    0.096774\n",
       "WV    0.094340\n",
       "TN    0.094340\n",
       "DC    0.092593\n",
       "RI    0.092308\n",
       "WI    0.089744\n",
       "IL    0.086207\n",
       "NE    0.081967\n",
       "LA    0.078431\n",
       "IA    0.068182\n",
       "VA    0.064935\n",
       "AZ    0.062500\n",
       "AK    0.057692\n",
       "HI    0.056604\n",
       "Name: churn, dtype: float64"
      ]
     },
     "execution_count": 37,
     "metadata": {},
     "output_type": "execute_result"
    }
   ],
   "source": [
    "df.groupby(['state'])['churn'].mean().sort_values(ascending = False)"
   ]
  },
  {
   "cell_type": "markdown",
   "metadata": {},
   "source": [
    "We can see there actually is a fairly diverse range here with a minimum churn in Hawaii of 5.7% and maximum churn in California of 26.5%.  Let's visualise this with a map of the country with this data:\n",
    "\n",
    "![figures/churn_by_state.png](figures/churn_by_state.png)"
   ]
  },
  {
   "cell_type": "markdown",
   "metadata": {},
   "source": [
    "Note:  to see the details and code of how this graph was made, see [this notebook](../exploratory/lmc_exploratory_nb/05_state_vis_lc.ipynb)."
   ]
  },
  {
   "cell_type": "markdown",
   "metadata": {},
   "source": [
    "We can see there are three states that have particularly high churn:  California, New Jersey and Texas.  Further investigation should be done to see what is going on in these high churn states to see what trends might be causing this."
   ]
  },
  {
   "cell_type": "markdown",
   "metadata": {},
   "source": [
    "## Model Iterations\n",
    "\n",
    "After running our FSM, we would like to maximise our recall score.  To help us make the decision of which model to pursue next, we create a function that will run multiple classifiers with their default parameters and produce the train and test recall scores (to assess under/overfitting) as well as a specificity score to compare whether the model is simply predicting one particular result. \n",
    "\n",
    "We will do this using KFolds and produce the results of each fold to make the best evaluation.\n",
    "\n",
    "The classifiers that we will be comparing are:\n",
    "- DecisionTreeClassifier()\n",
    "- KNeighborsClassifier()\n",
    "- RandomForestClassifier()\n",
    "- AdaBoostClassifier()\n",
    "- GradientBoostingClassifier()"
   ]
  },
  {
   "cell_type": "code",
   "execution_count": 38,
   "metadata": {},
   "outputs": [
    {
     "name": "stdout",
     "output_type": "stream",
     "text": [
      "                                   Train_Recall Test_Recall Test_Specificity\n",
      "DecisionTreeClassifier_default         0.939612        0.75         0.921429\n",
      "KNeighborsClassifier_default           0.981412      0.4875         0.783333\n",
      "RandomForestClassifier_default         0.920456       0.625         0.945238\n",
      "AdaBoostClassifier_default             0.875847      0.5125         0.914286\n",
      "GradientBoostingClassifier_default     0.929816      0.6625         0.969048 \n",
      "\n",
      "                                   Train_Recall Test_Recall Test_Specificity\n",
      "DecisionTreeClassifier_default         0.937699        0.72         0.905882\n",
      "KNeighborsClassifier_default           0.974966    0.586667         0.731765\n",
      "RandomForestClassifier_default         0.924871    0.586667         0.943529\n",
      "AdaBoostClassifier_default             0.869604    0.613333         0.915294\n",
      "GradientBoostingClassifier_default     0.931344    0.733333         0.967059 \n",
      "\n",
      "                                   Train_Recall Test_Recall Test_Specificity\n",
      "DecisionTreeClassifier_default         0.930385    0.735294         0.891204\n",
      "KNeighborsClassifier_default           0.976605         0.5         0.722222\n",
      "RandomForestClassifier_default         0.928032    0.529412         0.958333\n",
      "AdaBoostClassifier_default             0.869546    0.573529         0.895833\n",
      "GradientBoostingClassifier_default     0.926288        0.75         0.965278 \n",
      "\n",
      "                                   Train_Recall Test_Recall Test_Specificity\n",
      "DecisionTreeClassifier_default         0.925806         0.7         0.874419\n",
      "KNeighborsClassifier_default           0.979573    0.542857         0.737209\n",
      "RandomForestClassifier_default         0.904831    0.642857         0.932558\n",
      "AdaBoostClassifier_default             0.866959    0.657143         0.893023\n",
      "GradientBoostingClassifier_default     0.928818    0.814286         0.948837 \n",
      "\n",
      "                                   Train_Recall Test_Recall Test_Specificity\n",
      "DecisionTreeClassifier_default         0.923309    0.676923         0.910138\n",
      "KNeighborsClassifier_default           0.978349    0.461538         0.718894\n",
      "RandomForestClassifier_default         0.911572    0.661538         0.965438\n",
      "AdaBoostClassifier_default             0.850712    0.646154         0.896313\n",
      "GradientBoostingClassifier_default     0.915132         0.8         0.967742 \n",
      "\n"
     ]
    }
   ],
   "source": [
    "m.compare_models(X_train, y_train)"
   ]
  },
  {
   "cell_type": "markdown",
   "metadata": {},
   "source": [
    "Looking at these results we can see that the Decision Tree Classifier and Gradient Boosting Classifier both consistently have the highest recall scores for both the training and test sets out of the 5 models and the scores are also similar to each other.  We can see that the Decision Tree Classifiers and Gradient Boosting Classifiers both have similar scores but the Gradient Boosting Classifiers consistently have higher specificity scores than the Decision Tree Classifiers.  For this reason, we choose to move to iterating upon Gradient Boost models and tuning the hyperparameters to maximise recall.  It should also be noted that the Gradient Boost model is a \"safer\" model to use by nature of the algoithm, in that it improves upon multiple weak learners, where as the single decision trees have a habit of overfitting and being greedy towards those features which unveil the most information gain at each step, so the gradient boost models should be stronger and more reliable than the decision tree models. \n",
    "\n",
    "**Note:** For a more indepth view of our model iteration process, see the notebooks in [this folder](../exploratory/model_iterations)."
   ]
  },
  {
   "cell_type": "markdown",
   "metadata": {},
   "source": [
    "## Model 2:  Gradient Boost Classifier\n",
    "\n",
    "In this model iteration, we tuned the model with the following hyperparameters:\n",
    "- `loss = 'exponential'`\n",
    "- `learning_rate = 0.2`\n",
    "- SMOTE balancing \n",
    "- MinMax Scaler"
   ]
  },
  {
   "cell_type": "code",
   "execution_count": 39,
   "metadata": {},
   "outputs": [
    {
     "name": "stdout",
     "output_type": "stream",
     "text": [
      "Validation recall scores: [0.7605633802816901, 0.6712328767123288, 0.7611940298507462, 0.7164179104477612, 0.7625]\n",
      "Mean validation recall score:  0.7343816394585051\n",
      "[[412   7]\n",
      " [ 19  61]]\n"
     ]
    }
   ],
   "source": [
    "# model 2:\n",
    "gbc2 = GradientBoostingClassifier(loss = 'exponential', learning_rate = 0.2, random_state = 42)\n",
    "m.scale_balance_model(X_train, y_train, gbc2, MinMaxScaler())"
   ]
  },
  {
   "cell_type": "markdown",
   "metadata": {},
   "source": [
    "Our recall score here has decreased from `0.737` to `0.734` from our FSM to this model, and has decreased from what the default model scores were above.\n",
    "\n",
    "Looking at the confusion matrix, we can see that the number of false negatives has decreased slightly where we now have 3.8% of predictions resulting in false negatives. This time, we have significantly reduced the amount of false positives that the model is predicting.  \n",
    "\n",
    "Let's continue to iterate."
   ]
  },
  {
   "cell_type": "markdown",
   "metadata": {},
   "source": [
    "## Model 3:  Gradient Boost \n",
    "\n",
    "In this model we will perform a GridSearch to try and find the best parameters for the next model.  Setting `loss` to 'exponential' and increasing the learning rate decreased our score so we will try decreasing the learning rate and testing which `loss` parameter is best.  We will continue to use MinMaxScaler and SMOTE for balancing."
   ]
  },
  {
   "cell_type": "code",
   "execution_count": 40,
   "metadata": {},
   "outputs": [
    {
     "name": "stdout",
     "output_type": "stream",
     "text": [
      "Best parameters: \n",
      "\n",
      " {'learning_rate': 0.05, 'loss': 'deviance', 'min_samples_split': 5} \n",
      "\n"
     ]
    }
   ],
   "source": [
    "# create parameter grid\n",
    "param_grid = {\n",
    "    \"loss\":[\"exponential\", \"deviance\"],\n",
    "    \"learning_rate\": [0.01, 0.05],\n",
    "    \"min_samples_split\": [1.0, 2, 5]\n",
    "    }\n",
    "\n",
    "# create gradient boost object for grid searching\n",
    "gbc = GradientBoostingClassifier(random_state = 42)\n",
    "\n",
    "# create search object\n",
    "search = GridSearchCV(estimator = gbc, param_grid = param_grid, n_jobs = -1, cv = 3, scoring='recall')\n",
    "\n",
    "# Train search object\n",
    "search.fit(X_train, y_train)\n",
    "\n",
    "# Get best estimator\n",
    "print('Best parameters: \\n\\n',search.best_params_,'\\n')"
   ]
  },
  {
   "cell_type": "markdown",
   "metadata": {},
   "source": [
    "So let's implement these parameters to see how it affects our scores."
   ]
  },
  {
   "cell_type": "code",
   "execution_count": 41,
   "metadata": {},
   "outputs": [],
   "source": [
    "gbc3 = GradientBoostingClassifier(learning_rate = 0.05, loss = 'deviance', min_samples_split = 5, random_state = 42)"
   ]
  },
  {
   "cell_type": "code",
   "execution_count": 42,
   "metadata": {},
   "outputs": [
    {
     "name": "stdout",
     "output_type": "stream",
     "text": [
      "Validation recall scores: [0.8028169014084507, 0.7808219178082192, 0.7611940298507462, 0.7164179104477612, 0.7875]\n",
      "Mean validation recall score:  0.7697501519030354\n",
      "[[402  17]\n",
      " [ 17  63]]\n"
     ]
    }
   ],
   "source": [
    "m.scale_balance_model(X_train, y_train, gbc3, MinMaxScaler())"
   ]
  },
  {
   "cell_type": "markdown",
   "metadata": {},
   "source": [
    "Our recall score has increased a bit here and the false negatives have reduced also.  Infact we have the same amount of false negatives as we do false positives now.  Let's do another grid search with a smaller learning rate to see if anything improves."
   ]
  },
  {
   "cell_type": "markdown",
   "metadata": {},
   "source": [
    "## Model 4:  Gradient Boost"
   ]
  },
  {
   "cell_type": "code",
   "execution_count": 43,
   "metadata": {},
   "outputs": [
    {
     "name": "stdout",
     "output_type": "stream",
     "text": [
      "Best parameters: \n",
      "\n",
      " {'learning_rate': 0.01, 'loss': 'deviance', 'min_samples_split': 2} \n",
      "\n"
     ]
    }
   ],
   "source": [
    "# create parameter grid\n",
    "param_grid = {\n",
    "    \"loss\":[\"exponential\", \"deviance\"],\n",
    "    \"learning_rate\": [0.01],\n",
    "    \"min_samples_split\": [1.0, 2, 5]\n",
    "    }\n",
    "\n",
    "# create gradient boost object for grid searching\n",
    "gbc = GradientBoostingClassifier(random_state = 42)\n",
    "\n",
    "# create search object\n",
    "search = GridSearchCV(estimator = gbc, param_grid = param_grid, n_jobs = -1, cv = 3, scoring='recall')\n",
    "\n",
    "# Train search object\n",
    "search.fit(X_train, y_train)\n",
    "\n",
    "# Get best estimator\n",
    "print('Best parameters: \\n\\n',search.best_params_,'\\n')"
   ]
  },
  {
   "cell_type": "markdown",
   "metadata": {},
   "source": [
    "Implementing these parameters:"
   ]
  },
  {
   "cell_type": "code",
   "execution_count": 44,
   "metadata": {},
   "outputs": [
    {
     "name": "stdout",
     "output_type": "stream",
     "text": [
      "Validation recall scores: [0.8028169014084507, 0.8356164383561644, 0.8059701492537313, 0.7611940298507462, 0.875]\n",
      "Mean validation recall score:  0.8161195037738185\n",
      "[[361  58]\n",
      " [ 10  70]]\n"
     ]
    }
   ],
   "source": [
    "# model 4:\n",
    "gbc4 = GradientBoostingClassifier(loss = 'deviance', learning_rate = 0.01, min_samples_split = 2, random_state = 42)\n",
    "m.scale_balance_model(X_train, y_train, gbc4, MinMaxScaler())"
   ]
  },
  {
   "cell_type": "markdown",
   "metadata": {},
   "source": [
    "Our best score so far and we have reduced our false negatives once more - now only 2% of our model's predictions are false negatives.  \n",
    "\n",
    "Let's try this same model again but with a `StandardScaler()` to see if this has any effect:"
   ]
  },
  {
   "cell_type": "code",
   "execution_count": 45,
   "metadata": {},
   "outputs": [
    {
     "name": "stdout",
     "output_type": "stream",
     "text": [
      "Validation recall scores: [0.8028169014084507, 0.9041095890410958, 0.7761194029850746, 0.7611940298507462, 0.85]\n",
      "Mean validation recall score:  0.8188479846570734\n",
      "[[371  48]\n",
      " [ 12  68]]\n"
     ]
    }
   ],
   "source": [
    "# model 4.1:\n",
    "gbc4_1 = GradientBoostingClassifier(loss = 'deviance', learning_rate = 0.01, min_samples_split = 2, random_state = 42)\n",
    "m.scale_balance_model(X_train, y_train, gbc4_1)"
   ]
  },
  {
   "cell_type": "markdown",
   "metadata": {},
   "source": [
    "So we did improve our score ever so slightly with the StandardScaler.  The false negatives increased ever so slightly.  "
   ]
  },
  {
   "cell_type": "markdown",
   "metadata": {},
   "source": [
    "## Model 5:  Gradient Boost\n",
    "\n",
    "In this model, we continue using the StandardScaler, the `learning_rate` of 0.01 but try `loss = exponential` this time:"
   ]
  },
  {
   "cell_type": "code",
   "execution_count": 52,
   "metadata": {},
   "outputs": [
    {
     "name": "stdout",
     "output_type": "stream",
     "text": [
      "Validation recall scores: [0.8028169014084507, 0.9041095890410958, 0.7761194029850746, 0.7611940298507462, 0.825]\n",
      "Mean validation recall score:  0.8138479846570735\n",
      "[[371  48]\n",
      " [ 14  66]]\n"
     ]
    }
   ],
   "source": [
    "gbc5 = GradientBoostingClassifier(loss = 'exponential', learning_rate = 0.01, min_samples_split = 2, random_state = 42)\n",
    "m.scale_balance_model(X_train, y_train, gbc5)"
   ]
  },
  {
   "cell_type": "markdown",
   "metadata": {},
   "source": [
    "Our model got worse here. "
   ]
  },
  {
   "cell_type": "markdown",
   "metadata": {},
   "source": [
    "## Model 6:  Gride Search for Gradient Boost\n",
    "\n",
    "After running another grid search (which can be found in the [model iterations folder](../exploratory/model_iterations)), the following parameters were found: (we don't run the grid search here as it is computationally heavy so we simply provide the results here).\n",
    "- `loss = 'exponential'`\n",
    "- `learning_rate = 0.01`\n",
    "- `min_samples_leaf = 0.1`\n",
    "- `min_samples_split = 0.1`\n",
    "- `max_depth = 3`"
   ]
  },
  {
   "cell_type": "code",
   "execution_count": 69,
   "metadata": {},
   "outputs": [
    {
     "name": "stdout",
     "output_type": "stream",
     "text": [
      "Validation recall scores: [0.8028169014084507, 0.9041095890410958, 0.8059701492537313, 0.7611940298507462, 0.875]\n",
      "Mean validation recall score:  0.8298181339108048\n",
      "[[343  76]\n",
      " [ 10  70]]\n"
     ]
    }
   ],
   "source": [
    "gbc6 = GradientBoostingClassifier(loss = 'exponential', learning_rate = 0.01, min_samples_leaf= 0.1, min_samples_split= 0.1, max_depth = 3, random_state = 15)\n",
    "m.scale_balance_model(X_train, y_train, gbc6)"
   ]
  },
  {
   "cell_type": "markdown",
   "metadata": {},
   "source": [
    "This is our best score so far and while our true positives have increased here, we have once again reduced our false negatives.  \n",
    "\n",
    "For this reason, we choose this as our final model.  Next, we test the model on our test dataset."
   ]
  },
  {
   "cell_type": "markdown",
   "metadata": {},
   "source": [
    "## Test Final Model:  Gradient Boost\n",
    "\n",
    "Parameters:\n",
    "- `loss = 'exponential'`\n",
    "- `learning_rate = 0.01`\n",
    "- `min_samples_leaf = 0.1`\n",
    "- `min_samples_split = 0.1`\n",
    "- `max_depth = 3`\n",
    "- SMOTE balancing\n",
    "- StandardScaler"
   ]
  },
  {
   "cell_type": "markdown",
   "metadata": {},
   "source": [
    "### One Hot Encode Test Data:\n",
    "\n",
    "First, we need to one hot encode our test data as we did earlier for train:"
   ]
  },
  {
   "cell_type": "code",
   "execution_count": 75,
   "metadata": {},
   "outputs": [],
   "source": [
    "# make a df with encoded states\n",
    "test_state_encoded = pd.DataFrame(ohe.transform(X_test[['state']]), \n",
    "                               index = X_test.index, \n",
    "                               columns = col_names)\n",
    "\n",
    "# combine encoded states with X_t and drop old 'state' column\n",
    "X_test = pd.concat([X_test.drop(\"state\", axis = 1), test_state_encoded], axis = 1)"
   ]
  },
  {
   "cell_type": "markdown",
   "metadata": {},
   "source": [
    "### Test model on test data:"
   ]
  },
  {
   "cell_type": "code",
   "execution_count": 77,
   "metadata": {},
   "outputs": [
    {
     "name": "stdout",
     "output_type": "stream",
     "text": [
      "Train: 0.7932960893854749\n",
      "Test:  0.808\n",
      "[[597 112]\n",
      " [ 24 101]]\n"
     ]
    }
   ],
   "source": [
    "# create and fit/transform scaler\n",
    "ss = StandardScaler()\n",
    "X_train_ss = ss.fit_transform(X_train)\n",
    "X_test_ss = ss.transform(X_test)\n",
    "\n",
    "# create balance object\n",
    "smote = SMOTE(random_state = 15)\n",
    "\n",
    "# fit balance object\n",
    "X_train_resampled, y_train_resampled = smote.fit_resample(X_train_ss, y_train)\n",
    "    \n",
    "# create our final model object\n",
    "final = GradientBoostingClassifier(loss = 'exponential', learning_rate = 0.01, \n",
    "                                   min_samples_leaf= 0.1, min_samples_split= 0.1, \n",
    "                                   max_depth = 3, random_state = 15)\n",
    "\n",
    "final.fit(X_train_resampled, y_train_resampled)\n",
    "\n",
    "print(f'Train: {recall_score(y_train, final.predict(X_train_ss))}')\n",
    "print(f'Test:  {recall_score(y_test, final.predict(X_test_ss))}')\n",
    "print(confusion_matrix(y_test, final.predict(X_test_ss)))"
   ]
  },
  {
   "cell_type": "markdown",
   "metadata": {},
   "source": [
    "## Conclusion and Evaluation"
   ]
  },
  {
   "cell_type": "markdown",
   "metadata": {},
   "source": [
    "As we can see above, our model did not perform as well as hoped on the test data.  2.9% of predictions of this model are false negatives.  We have reduced this down to a reasonable number.  \n",
    "\n",
    "With more time and further iterations, this score could continue to be improved upon. \n",
    "\n",
    "**Note:**  Higher scores were found throughout the model iteration process but we ran into issues in reproducing results between teammate's computers and methods.  Once again, please see the model iterations folder for more thorough iterations and better scores.  "
   ]
  },
  {
   "cell_type": "markdown",
   "metadata": {},
   "source": [
    "## Next Steps and Future Investigation:\n",
    "\n",
    "It was highlighted during the EDA of this project that there are many areas which the company could improve to help reduce high churn factors.  Below are some possible suggestions of what could be further investigated:\n",
    "- Further investigation should be devoted to looking into the other characteristics of these customers to find out why there was a need to make this many calls to customer service and how the company could better assist these customers.\n",
    "- Given that over 42% of international plan holders churn, further investigation into retention efforts for these customers might be a worthwhile effort. \n",
    "- Further investigation should be done to see what is going on in these high churn states to see what trends might be causing this.\n",
    "- Investigate ways to incentivise customers with total day charges over $55 to stay with with the company by creating added value and perks.  This investigation found that 100% of these customers churn."
   ]
  },
  {
   "cell_type": "code",
   "execution_count": null,
   "metadata": {},
   "outputs": [],
   "source": []
  }
 ],
 "metadata": {
  "kernelspec": {
   "display_name": "learn-env",
   "language": "python",
   "name": "learn-env"
  },
  "language_info": {
   "codemirror_mode": {
    "name": "ipython",
    "version": 3
   },
   "file_extension": ".py",
   "mimetype": "text/x-python",
   "name": "python",
   "nbconvert_exporter": "python",
   "pygments_lexer": "ipython3",
   "version": "3.6.9"
  }
 },
 "nbformat": 4,
 "nbformat_minor": 4
}
